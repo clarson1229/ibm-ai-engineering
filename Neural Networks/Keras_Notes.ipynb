{
 "cells": [
  {
   "cell_type": "code",
   "execution_count": 7,
   "id": "1cae2f02-d9fe-4f7a-ac55-f7dc6f5a2a93",
   "metadata": {},
   "outputs": [],
   "source": [
    "import keras\n",
    "from keras.models import Sequential \n",
    "from keras.layers import Dense\n",
    "from keras.utils import to_categorical\n"
   ]
  },
  {
   "cell_type": "code",
   "execution_count": null,
   "id": "70f6998b-a96a-4c90-bd4b-a15f42f9b555",
   "metadata": {},
   "outputs": [],
   "source": [
    "# Regression \n",
    "model = Sequential()\n",
    "n_cols= data.shape[1]\n",
    "\n",
    "\n",
    "model.add(Dense(5, activation='relu', input_shape=(n_cols)))\n",
    "model.add(Dense(5, activation='relu'))\n",
    "model.add(Dense(1))\n",
    "\n",
    "model.compile(optimizer='adam', loss='mean_squared_error')\n",
    "model.fit(predictors, target)\n",
    "predictions = model.predict(test_data)"
   ]
  },
  {
   "cell_type": "code",
   "execution_count": null,
   "id": "ccac9907-24ac-461f-83cc-92863847f4f6",
   "metadata": {},
   "outputs": [],
   "source": [
    "# Classification \n",
    "model = Sequential()\n",
    "n_cols= car_data.shape[1]\n",
    "\n",
    "target = to_categorical(target)\n",
    "model.add(Dense(5, activation='relu', input_shape=(n_cols)))\n",
    "model.add(Dense(5, activation='relu'))\n",
    "model.add(Dense(4, activation='softmax'))\n",
    "\n",
    "\n",
    "model.compile(optimizer='adam', loss='categorical_crossentrophy', metrics=['accuracy'])\n",
    "model.fit(predictors, target, epochs=10)\n",
    "predictions = model.predict(test_data)\n",
    "\n",
    "\n"
   ]
  },
  {
   "cell_type": "code",
   "execution_count": null,
   "id": "5f178f46-f0c4-4323-9878-bd6fd2d746f3",
   "metadata": {},
   "outputs": [],
   "source": [
    "# Convolutional Model \n",
    "model = Sequential()\n",
    "\n",
    "input_shape = (128,128,3)\n",
    "\n",
    "model.add(Conv2D(16, kernel_size=(2,2), strides=(1,1), activation='relu', input_shape=input_shape))\n",
    "model.add(MaxPool2D(pool_size=(2,2), kernel_size=(2,2),  activation='relu'))\n",
    "model.add(Conv2D(32, kernel_size=(2,2),  activation='relu'))         \n",
    "model.add(MaxPool2D(pool_size=(2,2)))\n",
    "model.add(Flatten())\n",
    "model.add(Dense(100, activation='relu'))\n",
    "model.add(Dense(num_classes, activation='softmax'))\n",
    "\n"
   ]
  },
  {
   "cell_type": "code",
   "execution_count": null,
   "id": "69c175c0-03fc-45b3-bef3-168a936e2919",
   "metadata": {},
   "outputs": [],
   "source": [
    "# Recurrent Neural Network \n"
   ]
  }
 ],
 "metadata": {
  "kernelspec": {
   "display_name": "Python 3 (ipykernel)",
   "language": "python",
   "name": "python3"
  },
  "language_info": {
   "codemirror_mode": {
    "name": "ipython",
    "version": 3
   },
   "file_extension": ".py",
   "mimetype": "text/x-python",
   "name": "python",
   "nbconvert_exporter": "python",
   "pygments_lexer": "ipython3",
   "version": "3.9.7"
  }
 },
 "nbformat": 4,
 "nbformat_minor": 5
}
