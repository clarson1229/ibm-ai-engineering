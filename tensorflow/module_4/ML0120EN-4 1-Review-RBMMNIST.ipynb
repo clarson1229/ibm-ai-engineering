{
 "cells": [
  {
   "cell_type": "markdown",
   "metadata": {},
   "source": [
    "<img src=\"https://cf-courses-data.s3.us.cloud-object-storage.appdomain.cloud/IBMDeveloperSkillsNetwork-DL0120EN-SkillsNetwork/images/IDSN-logo.png\" width=\"300\" alt=\"cognitiveclass.ai logo\">\n",
    "\n",
    "<h1 align=\"center\"><font size=\"5\">RESTRICTED BOLTZMANN MACHINES</font></h1>\n"
   ]
  },
  {
   "cell_type": "markdown",
   "metadata": {},
   "source": [
    "Estimated time needed: **25** minutes\n"
   ]
  },
  {
   "cell_type": "markdown",
   "metadata": {},
   "source": [
    "<h3>Introduction</h3>\n",
    "<b>Restricted Boltzmann Machine (RBM):</b>  RBMs are shallow neural nets that learn to reconstruct data by themselves in an unsupervised fashion.  \n",
    "\n",
    "\n",
    "<h4>Why are RBMs important?</h4>\n",
    "An RBM are a basic form of autoencoder.  It can automatically extract <b>meaningful</b> features from a given input.\n",
    "\n",
    "\n",
    "<h4>How does it work?</h4>\n",
    "RBM is a 2 layer neural network. Simply, RBM takes the inputs and translates those into a set of binary values that represents them in the hidden layer. Then, these numbers can be translated back to reconstruct the inputs. Through several forward and backward passes, the RBM will be trained, and a trained RBM can reveal which features are the most important ones when detecting patterns.   \n",
    "\n",
    "\n",
    "<h4>What are the applications of an RBM?</h4>\n",
    "RBM is useful for <a href='http://www.cs.utoronto.ca/~hinton/absps/netflixICML.pdf'>  Collaborative Filtering</a>, dimensionality reduction, classification, regression, feature learning, topic modeling and even <b>Deep Belief Networks</b>.\n",
    "\n",
    "<h4>Is RBM a generative or Discriminative model?</h4>\n",
    "RBM is a generative model. Let me explain it by first, see what is different between discriminative and generative models: \n",
    "\n",
    "<b>Discriminative:</b> Consider a classification problem where we want to learn to distinguish between Sedan cars (y = 1) and SUV cars (y = 0), based on some features of cars. Given a training set, an algorithm like logistic regression tries to find a straight line, or <i>decision boundary</i>, that separates the suv and sedan.  \n",
    "\n",
    "<b>Generative:</b> looking at cars, we can build a model of what Sedan cars look like. Then, looking at SUVs, we can build a separate model of what SUV cars look like. Finally, to classify a new car, we can match the new car against the Sedan model, and match it against the SUV model, to see whether the new car looks more like the SUV or Sedan. \n",
    "\n",
    "Generative Models specify a probability distribution over a dataset of input vectors. We can carry out both supervised and unsupervised tasks with generative models:\n",
    "<ul>\n",
    "    <li>In an unsupervised task, we try to form a model for $P(x)$, where $P$ is the probability given $x$ as an input vector.</li>\n",
    "    <li>In the supervised task, we first form a model for $P(x|y)$, where $P$ is the probability of $x$ given $y$(the label for $x$). For example, if $y = 0$ indicates that a car is an SUV, and $y = 1$ indicates that a car is a sedan, then $p(x|y = 0)$ models the distribution of SUV features, and $p(x|y = 1)$ models the distribution of sedan features. If we manage to find $P(x|y)$ and $P(y)$, then we can use <b>Bayes rule</b> to estimate $P(y|x)$, because:   \n",
    "        $$p(y|x) = \\frac{p(x|y)p(y)}{p(x)}$$</li>\n",
    "</ul>\n",
    "Now the question is, can we build a generative model, and then use it to create synthetic data by directly sampling from the modeled probability distributions? Lets see. \n"
   ]
  },
  {
   "cell_type": "markdown",
   "metadata": {},
   "source": [
    "<h2>Table of Contents</h2>\n",
    "<ol>\n",
    "    <li><a href=\"#ref1\">Initialization</a></li>\n",
    "    <li><a href=\"#ref2\">RBM layers</a></li>\n",
    "    <li><a href=\"#ref3\">What RBM can do after training?</a></li>\n",
    "    <li><a href=\"#ref4\">How to train the model?</a></li>\n",
    "    <li><a href=\"#ref5\">Learned features</a></li>\n",
    "</ol>\n",
    "<p></p>\n",
    "</div>\n",
    "<br>\n",
    "\n",
    "<hr>\n"
   ]
  },
  {
   "cell_type": "markdown",
   "metadata": {},
   "source": [
    "<a id=\"ref1\"></a>\n",
    "<h3>Initialization</h3>\n",
    "\n",
    "First, we have to load the utility file which contains different utility functions that are not connected\n",
    "in any way to the networks presented in the tutorials, but rather help in\n",
    "processing the outputs into a more understandable way.\n"
   ]
  },
  {
   "cell_type": "code",
   "execution_count": 1,
   "metadata": {
    "tags": []
   },
   "outputs": [],
   "source": [
    "import urllib.request\n",
    "with urllib.request.urlopen(\"https://cf-courses-data.s3.us.cloud-object-storage.appdomain.cloud/IBMDeveloperSkillsNetwork-DL0120EN-SkillsNetwork/labs/Week4/data/utils.py\") as url:\n",
    "    response = url.read()\n",
    "target = open('utils.py', 'w')\n",
    "target.write(response.decode('utf-8'))\n",
    "target.close()"
   ]
  },
  {
   "cell_type": "markdown",
   "metadata": {},
   "source": [
    "<h2>Installing TensorFlow </h2>\n",
    "\n",
    "We will installing TensorFlow version 2.9.0 and its required prerequistes.  Also installing pillow...\n"
   ]
  },
  {
   "cell_type": "code",
   "execution_count": 2,
   "metadata": {
    "tags": []
   },
   "outputs": [
    {
     "name": "stdout",
     "output_type": "stream",
     "text": [
      "Requirement already satisfied: grpcio==1.24.3 in /home/jupyterlab/conda/envs/python/lib/python3.7/site-packages (1.24.3)\n",
      "Requirement already satisfied: six>=1.5.2 in /home/jupyterlab/conda/envs/python/lib/python3.7/site-packages (from grpcio==1.24.3) (1.16.0)\n",
      "Requirement already satisfied: tensorflow==2.9.0 in /home/jupyterlab/conda/envs/python/lib/python3.7/site-packages (2.9.0)\n",
      "Requirement already satisfied: absl-py>=1.0.0 in /home/jupyterlab/conda/envs/python/lib/python3.7/site-packages (from tensorflow==2.9.0) (1.4.0)\n",
      "Requirement already satisfied: astunparse>=1.6.0 in /home/jupyterlab/conda/envs/python/lib/python3.7/site-packages (from tensorflow==2.9.0) (1.6.3)\n",
      "Requirement already satisfied: flatbuffers<2,>=1.12 in /home/jupyterlab/conda/envs/python/lib/python3.7/site-packages (from tensorflow==2.9.0) (1.12)\n",
      "Requirement already satisfied: gast<=0.4.0,>=0.2.1 in /home/jupyterlab/conda/envs/python/lib/python3.7/site-packages (from tensorflow==2.9.0) (0.4.0)\n",
      "Requirement already satisfied: google-pasta>=0.1.1 in /home/jupyterlab/conda/envs/python/lib/python3.7/site-packages (from tensorflow==2.9.0) (0.2.0)\n",
      "Requirement already satisfied: grpcio<2.0,>=1.24.3 in /home/jupyterlab/conda/envs/python/lib/python3.7/site-packages (from tensorflow==2.9.0) (1.24.3)\n",
      "Requirement already satisfied: h5py>=2.9.0 in /home/jupyterlab/conda/envs/python/lib/python3.7/site-packages (from tensorflow==2.9.0) (3.8.0)\n",
      "Requirement already satisfied: keras<2.10.0,>=2.9.0rc0 in /home/jupyterlab/conda/envs/python/lib/python3.7/site-packages (from tensorflow==2.9.0) (2.9.0)\n",
      "Requirement already satisfied: keras-preprocessing>=1.1.1 in /home/jupyterlab/conda/envs/python/lib/python3.7/site-packages (from tensorflow==2.9.0) (1.1.2)\n",
      "Requirement already satisfied: libclang>=13.0.0 in /home/jupyterlab/conda/envs/python/lib/python3.7/site-packages (from tensorflow==2.9.0) (18.1.1)\n",
      "Requirement already satisfied: numpy>=1.20 in /home/jupyterlab/conda/envs/python/lib/python3.7/site-packages (from tensorflow==2.9.0) (1.21.4)\n",
      "Requirement already satisfied: opt-einsum>=2.3.2 in /home/jupyterlab/conda/envs/python/lib/python3.7/site-packages (from tensorflow==2.9.0) (3.3.0)\n",
      "Requirement already satisfied: packaging in /home/jupyterlab/conda/envs/python/lib/python3.7/site-packages (from tensorflow==2.9.0) (23.1)\n",
      "Requirement already satisfied: protobuf>=3.9.2 in /home/jupyterlab/conda/envs/python/lib/python3.7/site-packages (from tensorflow==2.9.0) (3.19.6)\n",
      "Requirement already satisfied: setuptools in /home/jupyterlab/conda/envs/python/lib/python3.7/site-packages (from tensorflow==2.9.0) (67.7.2)\n",
      "Requirement already satisfied: six>=1.12.0 in /home/jupyterlab/conda/envs/python/lib/python3.7/site-packages (from tensorflow==2.9.0) (1.16.0)\n",
      "Requirement already satisfied: tensorboard<2.10,>=2.9 in /home/jupyterlab/conda/envs/python/lib/python3.7/site-packages (from tensorflow==2.9.0) (2.9.1)\n",
      "Requirement already satisfied: tensorflow-io-gcs-filesystem>=0.23.1 in /home/jupyterlab/conda/envs/python/lib/python3.7/site-packages (from tensorflow==2.9.0) (0.34.0)\n",
      "Requirement already satisfied: tensorflow-estimator<2.10.0,>=2.9.0rc0 in /home/jupyterlab/conda/envs/python/lib/python3.7/site-packages (from tensorflow==2.9.0) (2.9.0)\n",
      "Requirement already satisfied: termcolor>=1.1.0 in /home/jupyterlab/conda/envs/python/lib/python3.7/site-packages (from tensorflow==2.9.0) (2.3.0)\n",
      "Requirement already satisfied: typing-extensions>=3.6.6 in /home/jupyterlab/conda/envs/python/lib/python3.7/site-packages (from tensorflow==2.9.0) (4.5.0)\n",
      "Requirement already satisfied: wrapt>=1.11.0 in /home/jupyterlab/conda/envs/python/lib/python3.7/site-packages (from tensorflow==2.9.0) (1.14.1)\n",
      "Requirement already satisfied: wheel<1.0,>=0.23.0 in /home/jupyterlab/conda/envs/python/lib/python3.7/site-packages (from astunparse>=1.6.0->tensorflow==2.9.0) (0.40.0)\n",
      "Requirement already satisfied: google-auth<3,>=1.6.3 in /home/jupyterlab/conda/envs/python/lib/python3.7/site-packages (from tensorboard<2.10,>=2.9->tensorflow==2.9.0) (2.35.0)\n",
      "Requirement already satisfied: google-auth-oauthlib<0.5,>=0.4.1 in /home/jupyterlab/conda/envs/python/lib/python3.7/site-packages (from tensorboard<2.10,>=2.9->tensorflow==2.9.0) (0.4.6)\n",
      "Requirement already satisfied: markdown>=2.6.8 in /home/jupyterlab/conda/envs/python/lib/python3.7/site-packages (from tensorboard<2.10,>=2.9->tensorflow==2.9.0) (3.4.3)\n",
      "Requirement already satisfied: requests<3,>=2.21.0 in /home/jupyterlab/conda/envs/python/lib/python3.7/site-packages (from tensorboard<2.10,>=2.9->tensorflow==2.9.0) (2.29.0)\n",
      "Requirement already satisfied: tensorboard-data-server<0.7.0,>=0.6.0 in /home/jupyterlab/conda/envs/python/lib/python3.7/site-packages (from tensorboard<2.10,>=2.9->tensorflow==2.9.0) (0.6.1)\n",
      "Requirement already satisfied: tensorboard-plugin-wit>=1.6.0 in /home/jupyterlab/conda/envs/python/lib/python3.7/site-packages (from tensorboard<2.10,>=2.9->tensorflow==2.9.0) (1.8.1)\n",
      "Requirement already satisfied: werkzeug>=1.0.1 in /home/jupyterlab/conda/envs/python/lib/python3.7/site-packages (from tensorboard<2.10,>=2.9->tensorflow==2.9.0) (2.2.3)\n",
      "Requirement already satisfied: cachetools<6.0,>=2.0.0 in /home/jupyterlab/conda/envs/python/lib/python3.7/site-packages (from google-auth<3,>=1.6.3->tensorboard<2.10,>=2.9->tensorflow==2.9.0) (5.5.0)\n",
      "Requirement already satisfied: pyasn1-modules>=0.2.1 in /home/jupyterlab/conda/envs/python/lib/python3.7/site-packages (from google-auth<3,>=1.6.3->tensorboard<2.10,>=2.9->tensorflow==2.9.0) (0.3.0)\n",
      "Requirement already satisfied: rsa<5,>=3.1.4 in /home/jupyterlab/conda/envs/python/lib/python3.7/site-packages (from google-auth<3,>=1.6.3->tensorboard<2.10,>=2.9->tensorflow==2.9.0) (4.9)\n",
      "Requirement already satisfied: requests-oauthlib>=0.7.0 in /home/jupyterlab/conda/envs/python/lib/python3.7/site-packages (from google-auth-oauthlib<0.5,>=0.4.1->tensorboard<2.10,>=2.9->tensorflow==2.9.0) (2.0.0)\n",
      "Requirement already satisfied: importlib-metadata>=4.4 in /home/jupyterlab/conda/envs/python/lib/python3.7/site-packages (from markdown>=2.6.8->tensorboard<2.10,>=2.9->tensorflow==2.9.0) (4.11.4)\n",
      "Requirement already satisfied: charset-normalizer<4,>=2 in /home/jupyterlab/conda/envs/python/lib/python3.7/site-packages (from requests<3,>=2.21.0->tensorboard<2.10,>=2.9->tensorflow==2.9.0) (3.1.0)\n",
      "Requirement already satisfied: idna<4,>=2.5 in /home/jupyterlab/conda/envs/python/lib/python3.7/site-packages (from requests<3,>=2.21.0->tensorboard<2.10,>=2.9->tensorflow==2.9.0) (3.4)\n",
      "Requirement already satisfied: urllib3<1.27,>=1.21.1 in /home/jupyterlab/conda/envs/python/lib/python3.7/site-packages (from requests<3,>=2.21.0->tensorboard<2.10,>=2.9->tensorflow==2.9.0) (1.26.15)\n",
      "Requirement already satisfied: certifi>=2017.4.17 in /home/jupyterlab/conda/envs/python/lib/python3.7/site-packages (from requests<3,>=2.21.0->tensorboard<2.10,>=2.9->tensorflow==2.9.0) (2023.5.7)\n",
      "Requirement already satisfied: MarkupSafe>=2.1.1 in /home/jupyterlab/conda/envs/python/lib/python3.7/site-packages (from werkzeug>=1.0.1->tensorboard<2.10,>=2.9->tensorflow==2.9.0) (2.1.1)\n",
      "Requirement already satisfied: zipp>=0.5 in /home/jupyterlab/conda/envs/python/lib/python3.7/site-packages (from importlib-metadata>=4.4->markdown>=2.6.8->tensorboard<2.10,>=2.9->tensorflow==2.9.0) (3.15.0)\n",
      "Requirement already satisfied: pyasn1<0.6.0,>=0.4.6 in /home/jupyterlab/conda/envs/python/lib/python3.7/site-packages (from pyasn1-modules>=0.2.1->google-auth<3,>=1.6.3->tensorboard<2.10,>=2.9->tensorflow==2.9.0) (0.5.0)\n",
      "Requirement already satisfied: oauthlib>=3.0.0 in /home/jupyterlab/conda/envs/python/lib/python3.7/site-packages (from requests-oauthlib>=0.7.0->google-auth-oauthlib<0.5,>=0.4.1->tensorboard<2.10,>=2.9->tensorflow==2.9.0) (3.2.2)\n",
      "Requirement already satisfied: pillow==8.1.0 in /home/jupyterlab/conda/envs/python/lib/python3.7/site-packages (8.1.0)\n"
     ]
    }
   ],
   "source": [
    "!pip install grpcio==1.24.3\n",
    "!pip install tensorflow==2.9.0\n",
    "!pip install pillow==8.1.0"
   ]
  },
  {
   "cell_type": "markdown",
   "metadata": {},
   "source": [
    "**Restart kernel for latest version of TensorFlow to be activated, then continue to the next section.**\n"
   ]
  },
  {
   "cell_type": "markdown",
   "metadata": {},
   "source": [
    "<b>Notice:</b> This notebook has been created with TensorFlow version 2.9.0, and might not work with other versions. Therefore we check:\n"
   ]
  },
  {
   "cell_type": "code",
   "execution_count": 3,
   "metadata": {
    "tags": []
   },
   "outputs": [
    {
     "name": "stderr",
     "output_type": "stream",
     "text": [
      "2024-10-06 17:24:29.494662: I tensorflow/core/util/util.cc:169] oneDNN custom operations are on. You may see slightly different numerical results due to floating-point round-off errors from different computation orders. To turn them off, set the environment variable `TF_ENABLE_ONEDNN_OPTS=0`.\n",
      "2024-10-06 17:24:29.616470: W tensorflow/stream_executor/platform/default/dso_loader.cc:64] Could not load dynamic library 'libcudart.so.11.0'; dlerror: libcudart.so.11.0: cannot open shared object file: No such file or directory\n",
      "2024-10-06 17:24:29.616518: I tensorflow/stream_executor/cuda/cudart_stub.cc:29] Ignore above cudart dlerror if you do not have a GPU set up on your machine.\n"
     ]
    }
   ],
   "source": [
    "import tensorflow as tf\n",
    "from IPython.display import Markdown, display\n",
    "\n",
    "def printmd(string):\n",
    "    display(Markdown('# <span style=\"color:red\">'+string+'</span>'))\n",
    "\n",
    "\n",
    "if not tf.__version__ == '2.9.0':\n",
    "    printmd('<<<<<!!!!! ERROR !!!! please upgrade to TensorFlow 2.9.0, or restart your Kernel (Kernel->Restart & Clear Output)>>>>>')"
   ]
  },
  {
   "cell_type": "markdown",
   "metadata": {},
   "source": [
    "Now, we load in all the packages that we use to create the net including the TensorFlow package:\n"
   ]
  },
  {
   "cell_type": "code",
   "execution_count": 5,
   "metadata": {
    "tags": []
   },
   "outputs": [],
   "source": [
    "import tensorflow as tf\n",
    "import numpy as np\n",
    "\n",
    "from PIL import Image\n",
    "# from utils import tile_raster_images\n",
    "import matplotlib.pyplot as plt\n",
    "%matplotlib inline"
   ]
  },
  {
   "cell_type": "code",
   "execution_count": 6,
   "metadata": {
    "tags": []
   },
   "outputs": [],
   "source": [
    "import numpy\n",
    "\n",
    "\n",
    "def scale_to_unit_interval(ndar, eps=1e-8):\n",
    "    \"\"\" Scales all values in the ndarray ndar to be between 0 and 1 \"\"\"\n",
    "    ndar = ndar.copy()\n",
    "    ndar -= ndar.min()\n",
    "    ndar *= 1.0 / (ndar.max() + eps)\n",
    "    return ndar\n",
    "\n",
    "\n",
    "def tile_raster_images(X, img_shape, tile_shape, tile_spacing=(0, 0),\n",
    "                       scale_rows_to_unit_interval=True,\n",
    "                       output_pixel_vals=True):\n",
    "    \"\"\"\n",
    "    Transform an array with one flattened image per row, into an array in\n",
    "    which images are reshaped and layed out like tiles on a floor.\n",
    "\n",
    "    This function is useful for visualizing datasets whose rows are images,\n",
    "    and also columns of matrices for transforming those rows\n",
    "    (such as the first layer of a neural net).\n",
    "\n",
    "    :type X: a 2-D ndarray or a tuple of 4 channels, elements of which can\n",
    "    be 2-D ndarrays or None;\n",
    "    :param X: a 2-D array in which every row is a flattened image.\n",
    "\n",
    "    :type img_shape: tuple; (height, width)\n",
    "    :param img_shape: the original shape of each image\n",
    "\n",
    "    :type tile_shape: tuple; (rows, cols)\n",
    "    :param tile_shape: the number of images to tile (rows, cols)\n",
    "\n",
    "    :param output_pixel_vals: if output should be pixel values (i.e. int8\n",
    "    values) or floats\n",
    "\n",
    "    :param scale_rows_to_unit_interval: if the values need to be scaled before\n",
    "    being plotted to [0,1] or not\n",
    "\n",
    "\n",
    "    :returns: array suitable for viewing as an image.\n",
    "    (See:`Image.fromarray`.)\n",
    "    :rtype: a 2-d array with same dtype as X.\n",
    "\n",
    "    \"\"\"\n",
    "\n",
    "    assert len(img_shape) == 2\n",
    "    assert len(tile_shape) == 2\n",
    "    assert len(tile_spacing) == 2\n",
    "\n",
    "    # The expression below can be re-written in a more C style as\n",
    "    # follows :\n",
    "    #\n",
    "    # out_shape    = [0,0]\n",
    "    # out_shape[0] = (img_shape[0]+tile_spacing[0])*tile_shape[0] -\n",
    "    #                tile_spacing[0]\n",
    "    # out_shape[1] = (img_shape[1]+tile_spacing[1])*tile_shape[1] -\n",
    "    #                tile_spacing[1]\n",
    "    out_shape = [\n",
    "        (ishp + tsp) * tshp - tsp\n",
    "        for ishp, tshp, tsp in zip(img_shape, tile_shape, tile_spacing)\n",
    "    ]\n",
    "\n",
    "    if isinstance(X, tuple):\n",
    "        assert len(X) == 4\n",
    "        # Create an output numpy ndarray to store the image\n",
    "        if output_pixel_vals:\n",
    "            out_array = numpy.zeros((out_shape[0], out_shape[1], 4),\n",
    "                                    dtype='uint8')\n",
    "        else:\n",
    "            out_array = numpy.zeros((out_shape[0], out_shape[1], 4),\n",
    "                                    dtype=X.dtype)\n",
    "\n",
    "        #colors default to 0, alpha defaults to 1 (opaque)\n",
    "        if output_pixel_vals:\n",
    "            channel_defaults = [0, 0, 0, 255]\n",
    "        else:\n",
    "            channel_defaults = [0., 0., 0., 1.]\n",
    "\n",
    "        for i in range(4):\n",
    "            if X[i] is None:\n",
    "                # if channel is None, fill it with zeros of the correct\n",
    "                # dtype\n",
    "                dt = out_array.dtype\n",
    "                if output_pixel_vals:\n",
    "                    dt = 'uint8'\n",
    "                out_array[:, :, i] = numpy.zeros(\n",
    "                    out_shape,\n",
    "                    dtype=dt\n",
    "                ) + channel_defaults[i]\n",
    "            else:\n",
    "                # use a recurrent call to compute the channel and store it\n",
    "                # in the output\n",
    "                out_array[:, :, i] = tile_raster_images(\n",
    "                    X[i], img_shape, tile_shape, tile_spacing,\n",
    "                    scale_rows_to_unit_interval, output_pixel_vals)\n",
    "        return out_array\n",
    "\n",
    "    else:\n",
    "        # if we are dealing with only one channel\n",
    "        H, W = img_shape\n",
    "        Hs, Ws = tile_spacing\n",
    "\n",
    "        # generate a matrix to store the output\n",
    "        dt = X.dtype\n",
    "        if output_pixel_vals:\n",
    "            dt = 'uint8'\n",
    "        out_array = numpy.zeros(out_shape, dtype=dt)\n",
    "\n",
    "        for tile_row in range(tile_shape[0]):\n",
    "            for tile_col in range(tile_shape[1]):\n",
    "                if tile_row * tile_shape[1] + tile_col < X.shape[0]:\n",
    "                    this_x = X[tile_row * tile_shape[1] + tile_col]\n",
    "                    if scale_rows_to_unit_interval:\n",
    "                        # if we should scale values to be between 0 and 1\n",
    "                        # do this by calling the `scale_to_unit_interval`\n",
    "                        # function\n",
    "                        this_img = scale_to_unit_interval(\n",
    "                            this_x.reshape(img_shape))\n",
    "                    else:\n",
    "                        this_img = this_x.reshape(img_shape)\n",
    "                    # add the slice to the corresponding position in the\n",
    "                    # output array\n",
    "                    c = 1\n",
    "                    if output_pixel_vals:\n",
    "                        c = 255\n",
    "                    out_array[\n",
    "                        tile_row * (H + Hs): tile_row * (H + Hs) + H,\n",
    "                        tile_col * (W + Ws): tile_col * (W + Ws) + W\n",
    "                    ] = this_img * c\n",
    "        return out_array\n"
   ]
  },
  {
   "cell_type": "markdown",
   "metadata": {},
   "source": [
    "<hr>\n"
   ]
  },
  {
   "cell_type": "markdown",
   "metadata": {},
   "source": [
    "<a id=\"ref2\"></a>\n",
    "<h3>RBM layers</h3>\n",
    "\n",
    "An RBM has two layers. The first layer of the RBM is called the <b>visible</b> (or input layer). Imagine that our toy example, has only vectors with 7 values, so the visible layer must have $V=7$ input nodes. \n",
    "The second layer is the <b>hidden</b> layer, which has $H$ neurons in our case. Each hidden node takes on values of either 0 or 1 (i.e., $h_i = 1$ or $h_i$ = 0), with a probability that is a logistic function of the inputs it receives from the other $V$ visible units, called for example, $p(h_i = 1)$. For our toy sample, we'll use 2 nodes in the hidden layer, so $H = 2$.\n",
    "\n",
    "<center><img src=\"https://ibm.box.com/shared/static/eu26opvcefgls6vnwuo29uwp0nudmokh.png\" alt=\"RBM Model\" style=\"width: 400px;\"></center>\n"
   ]
  },
  {
   "cell_type": "markdown",
   "metadata": {},
   "source": [
    "     \n",
    "\n",
    "Each node in the first layer also has a <b>bias</b>. We will denote the bias as $v_{bias}$, and this single value is shared among the $V$ visible units.\n",
    "\n",
    "The <b>bias</b> of the second is defined similarly as $h_{bias}$, and this single value among the $H$ hidden units.\n"
   ]
  },
  {
   "cell_type": "code",
   "execution_count": 7,
   "metadata": {
    "tags": []
   },
   "outputs": [
    {
     "name": "stderr",
     "output_type": "stream",
     "text": [
      "2024-10-06 17:30:39.070743: W tensorflow/stream_executor/platform/default/dso_loader.cc:64] Could not load dynamic library 'libcuda.so.1'; dlerror: libcuda.so.1: cannot open shared object file: No such file or directory\n",
      "2024-10-06 17:30:39.070957: W tensorflow/stream_executor/cuda/cuda_driver.cc:269] failed call to cuInit: UNKNOWN ERROR (303)\n",
      "2024-10-06 17:30:39.071174: I tensorflow/stream_executor/cuda/cuda_diagnostics.cc:156] kernel driver does not appear to be running on this host (jupyterlab-clarson1229): /proc/driver/nvidia/version does not exist\n",
      "2024-10-06 17:30:39.072852: I tensorflow/core/platform/cpu_feature_guard.cc:193] This TensorFlow binary is optimized with oneAPI Deep Neural Network Library (oneDNN) to use the following CPU instructions in performance-critical operations:  AVX2 AVX512F AVX512_VNNI FMA\n",
      "To enable them in other operations, rebuild TensorFlow with the appropriate compiler flags.\n"
     ]
    }
   ],
   "source": [
    "v_bias = tf.Variable(tf.zeros([7]), tf.float32)\n",
    "h_bias = tf.Variable(tf.zeros([2]), tf.float32)"
   ]
  },
  {
   "cell_type": "markdown",
   "metadata": {},
   "source": [
    "We have to define weights among the input layer and hidden layer nodes. In the weight matrix, the number of rows are equal to the input nodes, and the number of columns are equal to the output nodes. We define a tensor $\\mathbf{W}$ of shape = (7,2), where the number of visible neurons = 7, and the number of hidden neurons = 2. \n"
   ]
  },
  {
   "cell_type": "code",
   "execution_count": 8,
   "metadata": {
    "tags": []
   },
   "outputs": [],
   "source": [
    "W = tf.constant(np.random.normal(loc=0.0, scale=1.0, size=(7, 2)).astype(np.float32))"
   ]
  },
  {
   "cell_type": "markdown",
   "metadata": {},
   "source": [
    "<hr>\n"
   ]
  },
  {
   "cell_type": "markdown",
   "metadata": {},
   "source": [
    "<a id=\"ref3\"></a>\n",
    "<h3>What RBM can do after training?</h3>\n",
    "Think of RBM as a model that has been trained based on images of a dataset of many SUV and sedan cars. Also, imagine that the RBM network has only two hidden nodes, where one node encodes the weight and, and the other encodes the size.  \n",
    "In a sense, the different configurations represent different cars, where one is an SUV and the other is Sedan.  In a training process, through many forward and backward passes, the RBM adjust its weights to send a stronger signal to either the SUV node (0, 1) or the sedan node (1, 0) in the hidden layer, given the pixels of images. Now, given an SUV in hidden layer, which distribution of pixels should we expect? RBM can give you 2 things. First, it encodes your images in hidden layer. Second, it gives you the probability of observing a case, given some hidden values.\n",
    "\n",
    "\n",
    "<h3>The Inference Process</h3>\n",
    "\n",
    "RBM has two phases:\n",
    "<ul>\n",
    "    <li>Forward Pass</li>  \n",
    "    <li>Backward Pass or Reconstruction</li>\n",
    "</ul>\n",
    "\n",
    "<b>Phase 1) Forward pass:</b>  \n",
    "\n",
    "Input one training sample (one image) $\\mathbf{x}$ through all visible nodes, and pass it to all hidden nodes. Processing happens in each node in the hidden layer. This computation begins by making stochastic decisions about whether to transmit that input or not (i.e. to determine the state of each hidden layer).  First, the probability vector is computed using the input feature vector $\\mathbf{x}$, the weight matrix $\\mathbf{W}$, and the bias term $h_{bias}$, as \n",
    "\n",
    "\n",
    "$$p({h_j}|\\mathbf x)= \\sigma( \\sum_{i=1}^V W_{ij} x_i + h_{bias} )$$, \n",
    "\n",
    "where $\\sigma(z) = (1+e^{-z})^{-1}$ is the logistic function.\n",
    "\n",
    "\n",
    "So, what does $p({h_j})$ represent? It is the <b>probability distribution</b> of the hidden units. That is, RBM uses inputs $x_i$ to make predictions about hidden node activations. For example, imagine that the hidden node activation values are [0.51 0.84] for the first training item. It tells you that the conditional probability for each hidden neuron for Phase 1 is: \n",
    "\n",
    "$$p(h_{1} = 1|\\mathbf{v}) = 0.51$$\n",
    "$$p(h_{2} = 1|\\mathbf{v}) = 0.84$$\n",
    "\n",
    "As a result, for each row in the training set, vector of probabilities is generated.  In TensorFlow, this is referred to as a `tensor` with a shape of (1,2). \n",
    "\n",
    "We then turn unit $j$ with probability $p(h_{j}|\\mathbf{v})$, and turn it off with probability $1 - p(h_{j}|\\mathbf{v})$ by generating a uniform random number vector $\\mathbf{\\xi}$, and comparing it to the activation probability as \n",
    "\n",
    "<center>If $\\xi_j>p(h_{j}|\\mathbf{v})$, then $h_j=1$, else $h_j=0$.</center>\n",
    "\n",
    "\n",
    "Therefore, the conditional probability of a configuration of $\\mathbf{h}$ given $\\mathbf{v}$ (for a training sample) is:\n",
    "\n",
    "$$p(\\mathbf{h} \\mid \\mathbf{v}) = \\prod_{j=1}^H p(h_j \\mid \\mathbf{v})$$\n",
    "\n",
    "\n",
    "where $H$ is the number of hidden units.\n",
    "\n"
   ]
  },
  {
   "cell_type": "markdown",
   "metadata": {},
   "source": [
    "Before we go further, let's look at a toy example for one case out of all input. Assume that we have a trained RBM, and a very simple input vector, such as [1.0, 0.0, 0.0, 1.0, 0.0, 0.0, 0.0].   \n",
    "Let's see what the output of forward pass would look like:\n"
   ]
  },
  {
   "cell_type": "code",
   "execution_count": 9,
   "metadata": {
    "tags": []
   },
   "outputs": [
    {
     "name": "stdout",
     "output_type": "stream",
     "text": [
      "Input:  tf.Tensor([[1. 0. 0. 1. 0. 0. 0.]], shape=(1, 7), dtype=float32)\n",
      "hb:  tf.Tensor([0.1 0.1], shape=(2,), dtype=float32)\n",
      "w:  tf.Tensor(\n",
      "[[ 0.9128011  -2.1464586 ]\n",
      " [-1.1636041  -1.9274169 ]\n",
      " [-1.8970041  -0.17153715]\n",
      " [ 0.26323396  0.40552136]\n",
      " [-0.1717453  -1.4396032 ]\n",
      " [ 0.9617518  -1.0597091 ]\n",
      " [-1.1730713   0.7932408 ]], shape=(7, 2), dtype=float32)\n",
      "p(h|v):  tf.Tensor([[0.7817741  0.16233759]], shape=(1, 2), dtype=float32)\n",
      "h0 states: tf.Tensor([[1. 0.]], shape=(1, 2), dtype=float32)\n"
     ]
    }
   ],
   "source": [
    "X = tf.constant([[1.0, 0.0, 0.0, 1.0, 0.0, 0.0, 0.0]], tf.float32)\n",
    "\n",
    "v_state = X\n",
    "print (\"Input: \", v_state)\n",
    "\n",
    "h_bias = tf.constant([0.1, 0.1])\n",
    "print (\"hb: \", h_bias)\n",
    "print (\"w: \", W)\n",
    "\n",
    "# Calculate the probabilities of turning the hidden units on:\n",
    "h_prob = tf.nn.sigmoid(tf.matmul(v_state, W) + h_bias)  #probabilities of the hidden units\n",
    "print (\"p(h|v): \", h_prob)\n",
    "\n",
    "# Draw samples from the distribution:\n",
    "h_state = tf.nn.relu(tf.sign(h_prob - tf.random.uniform(tf.shape(h_prob)))) #states\n",
    "print (\"h0 states:\", h_state)"
   ]
  },
  {
   "cell_type": "markdown",
   "metadata": {},
   "source": [
    "<b>Phase 2) Backward Pass (Reconstruction):</b>\n",
    "The RBM reconstructs data by making several forward and backward passes between the visible and hidden layers.\n",
    "\n",
    "So, in the second phase (i.e. reconstruction phase), the samples from the hidden layer (i.e. $\\mathbf h$) becomes the input in the backward pass. The same weight matrix and visible layer biases are used to passed to the sigmoid function. The reproduced output is a reconstruction which is an approximation of the original input.\n"
   ]
  },
  {
   "cell_type": "code",
   "execution_count": 10,
   "metadata": {
    "tags": []
   },
   "outputs": [
    {
     "name": "stdout",
     "output_type": "stream",
     "text": [
      "b:  tf.Tensor([0.1 0.2 0.1 0.1 0.1 0.2 0.1], shape=(7,), dtype=float32)\n",
      "p(vi∣h):  tf.Tensor(\n",
      "[[0.73356795 0.27615714 0.14221615 0.58982307 0.48207137 0.7616509\n",
      "  0.25481948]], shape=(1, 7), dtype=float32)\n",
      "v probability states:  tf.Tensor([[1. 1. 0. 1. 0. 1. 1.]], shape=(1, 7), dtype=float32)\n"
     ]
    }
   ],
   "source": [
    "vb = tf.constant([0.1, 0.2, 0.1, 0.1, 0.1, 0.2, 0.1])\n",
    "print (\"b: \", vb)\n",
    "v_prob = tf.nn.sigmoid(tf.matmul(h_state, tf.transpose(W)) + vb)\n",
    "print (\"p(vi∣h): \", v_prob)\n",
    "v_state = tf.nn.relu(tf.sign(v_prob - tf.random.uniform(tf.shape(v_prob))))\n",
    "print (\"v probability states: \", v_state)"
   ]
  },
  {
   "cell_type": "markdown",
   "metadata": {},
   "source": [
    "RBM learns a probability distribution over the input, and then, after being trained, the RBM can generate new samples from the learned probability distribution. As you know, <b>probability distribution</b>, is a mathematical function that provides the probabilities of occurrence of different possible outcomes in an experiment.\n",
    "\n",
    "The (conditional) probability distribution over the visible units v is given by\n",
    "\n",
    "$$p(\\mathbf{v} \\mid \\mathbf{h}) = \\prod_{i=1}^V p(v_i \\mid \\mathbf{h}),$$\n",
    "\n",
    "\n",
    "where,\n",
    "\n",
    "$$p(v_i \\mid \\mathbf{h}) = \\sigma\\left(\\sum_{j=1}^H W_{ji} h_j + v_{bias} \\right)$$\n",
    "\n",
    "so, given current state of hidden units and weights, what is the probability of generating [1. 0. 0. 1. 0. 0. 0.] in reconstruction phase, based on the above <b>probability distribution</b> function?\n"
   ]
  },
  {
   "cell_type": "code",
   "execution_count": 11,
   "metadata": {
    "tags": []
   },
   "outputs": [
    {
     "name": "stdout",
     "output_type": "stream",
     "text": [
      "input X: [[1. 0. 0. 1. 0. 0. 0.]]\n",
      "probablity vector: [0.73356795 0.27615714 0.14221615 0.58982307 0.48207137 0.7616509\n",
      " 0.25481948]\n",
      "probability of generating X:  0.024713205\n"
     ]
    }
   ],
   "source": [
    "inp = X\n",
    "print(\"input X:\" , inp.numpy())\n",
    "\n",
    "print(\"probablity vector:\" , v_prob[0].numpy())\n",
    "v_probability = 1\n",
    "\n",
    "for elm, p in zip(inp[0],v_prob[0]) :\n",
    "    if elm ==1:\n",
    "        v_probability *= p\n",
    "    else:\n",
    "        v_probability *= (1-p)\n",
    "\n",
    "print(\"probability of generating X: \" , v_probability.numpy())"
   ]
  },
  {
   "cell_type": "markdown",
   "metadata": {},
   "source": [
    "How similar are vectors $\\mathbf{x}$ and $\\mathbf{v}$? Of course, the reconstructed values most likely will not look anything like the input vector, because our network has not been trained yet. Our objective is to train the model in such a way that the input vector and reconstructed vector to be same. Therefore, based on how different the input values look to the ones that we just reconstructed, the weights are adjusted. \n"
   ]
  },
  {
   "cell_type": "markdown",
   "metadata": {},
   "source": [
    "<hr>\n"
   ]
  },
  {
   "cell_type": "markdown",
   "metadata": {},
   "source": [
    "\n",
    "<h2>MNIST</h2>\n"
   ]
  },
  {
   "cell_type": "markdown",
   "metadata": {},
   "source": [
    "We will be using the MNIST dataset to practice the usage of RBMs. The following cell loads the MNIST dataset.\n"
   ]
  },
  {
   "cell_type": "code",
   "execution_count": 12,
   "metadata": {
    "tags": []
   },
   "outputs": [],
   "source": [
    "#loading training and test data\n",
    "mnist = tf.keras.datasets.mnist\n",
    "(trX, trY), (teX, teY) = mnist.load_data()\n",
    "\n",
    "# showing an example of the Flatten class and operation\n",
    "from tensorflow.keras.layers import Flatten\n",
    "flatten = Flatten(dtype='float32')\n",
    "trX = flatten(trX/255.0)\n",
    "trY = flatten(trY/255.0)"
   ]
  },
  {
   "cell_type": "markdown",
   "metadata": {},
   "source": [
    "Lets look at the dimension of the images.\n"
   ]
  },
  {
   "cell_type": "markdown",
   "metadata": {},
   "source": [
    "MNIST images have 784 pixels, so the visible layer must have 784 input nodes.  For our case, we'll use 50 nodes in the hidden layer, so i = 50.\n"
   ]
  },
  {
   "cell_type": "code",
   "execution_count": 13,
   "metadata": {
    "tags": []
   },
   "outputs": [],
   "source": [
    "vb = tf.Variable(tf.zeros([784]), tf.float32)\n",
    "hb = tf.Variable(tf.zeros([50]), tf.float32)"
   ]
  },
  {
   "cell_type": "markdown",
   "metadata": {},
   "source": [
    "Let $\\mathbf W$ be the Tensor of 784x50 (784 - number of visible neurons, 50 - number of hidden neurons) that represents weights between the neurons. \n"
   ]
  },
  {
   "cell_type": "code",
   "execution_count": 14,
   "metadata": {
    "tags": []
   },
   "outputs": [],
   "source": [
    "W = tf.Variable(tf.zeros([784,50]), tf.float32)"
   ]
  },
  {
   "cell_type": "markdown",
   "metadata": {},
   "source": [
    "Lets define the visible layer:\n"
   ]
  },
  {
   "cell_type": "code",
   "execution_count": 15,
   "metadata": {
    "tags": []
   },
   "outputs": [
    {
     "data": {
      "text/plain": [
       "<tf.Tensor: shape=(1, 50), dtype=float32, numpy=\n",
       "array([[0., 0., 0., 0., 0., 0., 0., 0., 0., 0., 0., 0., 0., 0., 0., 0.,\n",
       "        0., 0., 0., 0., 0., 0., 0., 0., 0., 0., 0., 0., 0., 0., 0., 0.,\n",
       "        0., 0., 0., 0., 0., 0., 0., 0., 0., 0., 0., 0., 0., 0., 0., 0.,\n",
       "        0., 0.]], dtype=float32)>"
      ]
     },
     "execution_count": 15,
     "metadata": {},
     "output_type": "execute_result"
    }
   ],
   "source": [
    "v0_state = tf.Variable(tf.zeros([784]), tf.float32)\n",
    "\n",
    "#testing to see if the matrix product works\n",
    "tf.matmul( [v0_state], W)"
   ]
  },
  {
   "cell_type": "markdown",
   "metadata": {},
   "source": [
    "Now, we can define hidden layer:\n"
   ]
  },
  {
   "cell_type": "code",
   "execution_count": 16,
   "metadata": {
    "tags": []
   },
   "outputs": [
    {
     "name": "stdout",
     "output_type": "stream",
     "text": [
      "h0_state shape:  tf.Tensor([ 1 50], shape=(2,), dtype=int32)\n",
      "first 15 hidden states:  tf.Tensor([1. 1. 1. 1. 0. 1. 1. 1. 0. 1. 1. 1. 0. 0. 0.], shape=(15,), dtype=float32)\n"
     ]
    }
   ],
   "source": [
    "#computing the hidden nodes probability vector and checking shape\n",
    "h0_prob = tf.nn.sigmoid(tf.matmul([v0_state], W) + hb)  #probabilities of the hidden units\n",
    "print(\"h0_state shape: \" , tf.shape(h0_prob))\n",
    "\n",
    "#defining a function to return only the generated hidden states \n",
    "def hidden_layer(v0_state, W, hb):\n",
    "    h0_prob = tf.nn.sigmoid(tf.matmul([v0_state], W) + hb)  #probabilities of the hidden units\n",
    "    h0_state = tf.nn.relu(tf.sign(h0_prob - tf.random.uniform(tf.shape(h0_prob)))) #sample_h_given_X\n",
    "    return h0_state\n",
    "\n",
    "\n",
    "h0_state = hidden_layer(v0_state, W, hb)\n",
    "print(\"first 15 hidden states: \", h0_state[0][0:15])"
   ]
  },
  {
   "cell_type": "markdown",
   "metadata": {},
   "source": [
    "Now, we define reconstruction part:\n"
   ]
  },
  {
   "cell_type": "code",
   "execution_count": 17,
   "metadata": {
    "tags": []
   },
   "outputs": [
    {
     "name": "stdout",
     "output_type": "stream",
     "text": [
      "hidden state shape:  (1, 50)\n",
      "v0 state shape:   (784,)\n",
      "v1 state shape:   (784,)\n"
     ]
    }
   ],
   "source": [
    "def reconstructed_output(h0_state, W, vb):\n",
    "    v1_prob = tf.nn.sigmoid(tf.matmul(h0_state, tf.transpose(W)) + vb) \n",
    "    v1_state = tf.nn.relu(tf.sign(v1_prob - tf.random.uniform(tf.shape(v1_prob)))) #sample_v_given_h\n",
    "    return v1_state[0]\n",
    "\n",
    "v1_state = reconstructed_output(h0_state, W, vb)\n",
    "print(\"hidden state shape: \", h0_state.shape)\n",
    "print(\"v0 state shape:  \", v0_state.shape)\n",
    "print(\"v1 state shape:  \", v1_state.shape)"
   ]
  },
  {
   "cell_type": "markdown",
   "metadata": {},
   "source": [
    "<h3>What is the objective function?</h3>\n",
    "\n",
    "<b>Goal</b>: Maximize the likelihood of our data being drawn from that distribution\n",
    "\n",
    "<b>Calculate error:</b>  \n",
    "In each epoch, we compute the \"error\" as a sum of the squared difference between step 1 and step n,\n",
    "e.g the error shows the difference between the data and its reconstruction.\n",
    "\n",
    "<b>Note:</b> tf.reduce_mean computes the mean of elements across dimensions of a tensor.\n"
   ]
  },
  {
   "cell_type": "code",
   "execution_count": 18,
   "metadata": {
    "tags": []
   },
   "outputs": [
    {
     "name": "stdout",
     "output_type": "stream",
     "text": [
      "error 0.5063776\n"
     ]
    }
   ],
   "source": [
    "def error(v0_state, v1_state):\n",
    "    return tf.reduce_mean(tf.square(v0_state - v1_state))\n",
    "\n",
    "err = tf.reduce_mean(tf.square(v0_state - v1_state))\n",
    "print(\"error\" , err.numpy())"
   ]
  },
  {
   "cell_type": "markdown",
   "metadata": {},
   "source": [
    "<a id=\"ref4\"></a>\n",
    "<h3>Training the Model</h3>\n",
    "<b>Warning...</b> The following part is math-heavy, but you can skip it if you just want to run the cells in the next section.\n",
    "\n",
    "As mentioned, we want to give a high probability to the input data we train on. So, in order to train an RBM, we have to maximize the product of probabilities assigned to all rows $\\mathbf{v}$ (images) in the training set $\\mathbf{V}$ (a matrix, where each row of it is treated as a visible vector $\\mathbf{v}$)\n",
    "\n",
    "$$\\arg \\max_W \\prod_{\\mathbf{v}\\in\\mathbf{V}_T} p(\\mathbf{v})$$\n",
    "\n",
    "\n",
    "which is equivalent to maximizing the expectation of the log probability, given as\n",
    "\n",
    "$$\\arg\\max_W\\left[ \\mathbb{E} \\left(\\prod_{\\mathbf v\\in \\mathbf V}\\text{log} \\left(p(\\mathbf v)\\right) \\right) \\right].$$\n",
    "\n",
    "\n",
    "So, we have to update the weights $W_{ij}$  to increase $p(\\mathbf{v})$ for all $\\mathbf{v}$ in our training data during training. So we have to calculate the derivative:\n",
    "\n",
    "\n",
    "$$\\frac{\\partial \\log p(\\mathbf v)}{\\partial W_{ij}}$$\n",
    "\n",
    "This cannot be easily done by typical <b>gradient descent (SGD)</b>, so we can use another approach, which has 2 steps:\n",
    "<ol>\n",
    "    <li>Gibbs Sampling</li>\n",
    "    <li>Contrastive Divergence</li>\n",
    "</ol>    \n",
    "    \n",
    "<h3>Gibbs Sampling</h3>   \n",
    "\n",
    "<h4>Gibbs Sampling Step 1</h4> \n",
    "Given an input vector $\\mathbf{v}$, we are using $p(\\mathbf{h}|\\mathbf{v})$ to predict the hidden values $\\mathbf{h}$. \n",
    "  $$p({h_j}|\\mathbf v)= \\sigma\\left(\\sum_{i=1}^V W_{ij} v_i + h_{bias} \\right)$$\n",
    "The samples are generated from this distribution by generating the uniform random variate vector $\\mathbf{\\xi} \\sim U[0,1]$ of length $H$ and comparing to the computed probabilities as\n",
    "\n",
    "\n",
    "<center>If $\\xi_j>p(h_{j}|\\mathbf{v})$, then $h_j=1$, else $h_j=0$.</center>\n",
    "\n",
    "\n",
    "<h4>Gibbs Sampling Step 2</h4> \n",
    "Then, knowing the hidden values, we use $p(\\mathbf v| \\mathbf h)$ for reconstructing of new input values v. \n",
    "\n",
    "   $$p({v_i}|\\mathbf h)= \\sigma\\left(\\sum_{j=1}^H W^{T}_{ij} h_j + v_{bias} \\right)$$\n",
    "\n",
    "\n",
    "The samples are generated from this distribution by generating a uniform random variate vector $\\mathbf{\\xi} \\sim U[0,1]$ of length $V$ and comparing to the computed probabilities as\n",
    "\n",
    "<center>If $\\xi_i>p(v_{i}|\\mathbf{h})$, then $v_i=1$, else $v_i=0$.</center>\n",
    "\n",
    "Let vectors $\\mathbf v_k$ and $\\mathbf h_k$ be for the $k$th iteration.  In general, the $kth$ state is generrated as: \n",
    "\n",
    "\n",
    "    \n",
    "<b>Iteration</b> $k$: \n",
    "\n",
    "$$\\mathbf v_{k-1} \\Rightarrow p(\\mathbf h_{k-1}|\\mathbf v_{k-1})\\Rightarrow \\mathbf h_{k-1}\\Rightarrow p(\\mathbf v_{k}|\\mathbf h_{k-1})\\Rightarrow \\mathbf v_k$$       \n",
    "    \n",
    "<h3>Contrastive Divergence (CD-k)</h3>\n",
    "The update of the weight matrix is done during the Contrastive Divergence step. \n",
    "\n",
    "Vectors v0 and vk are used to calculate the activation probabilities for hidden values h0 and hk. The difference between the outer products of those probabilities with input vectors v0 and vk results in the update matrix:\n",
    "\n",
    "\n",
    "$$\\Delta \\mathbf W_k =\\mathbf v_k \\otimes \\mathbf h_k - \\mathbf v_{k-1} \\otimes \\mathbf h_{k-1}$$\n",
    "\n",
    "Contrastive Divergence is actually matrix of values that is computed and used to adjust values of the $\\mathbf W$ matrix. Changing $\\mathbf W$ incrementally leads to training of the  $\\mathbf W$ values. Then, on each step (epoch), $\\mathbf W$ is updated using the following:\n",
    "\n",
    "$$\\mathbf W_k = \\mathbf W_{k-1} + \\alpha * \\Delta \\mathbf W_k$$\n",
    "\n",
    "\n",
    "\n",
    "Reconstruction steps:\n",
    "<ul>\n",
    "    <li> Get one data point from data set, like <i>x</i>, and pass it through the following steps:</li>\n",
    "    \n",
    "<b>Iteration</b> $k=1$: \n",
    "    \n",
    "Sampling (starting with input image)\n",
    "    $$\\mathbf x = \\mathbf v_0 \\Rightarrow p(\\mathbf h_0|\\mathbf v_0)\\Rightarrow \\mathbf h_0 \\Rightarrow p(\\mathbf v_1|\\mathbf h_0)\\Rightarrow \\mathbf v_1$$   \n",
    "    followed by the CD-k step\n",
    "$$\\Delta \\mathbf W_1 =\\mathbf v_1 \\otimes \\mathbf h_1 - \\mathbf v_{0} \\otimes \\mathbf h_{0}$$     \n",
    "$$\\mathbf W_1 = \\mathbf W_{0} + \\alpha * \\Delta \\mathbf W_1$$ \n",
    " \n",
    "<li> $\\mathbf v_1$ is the reconstruction of $\\mathbf x$ sent to the next iteration).</li>\n",
    "\n",
    "<b>Iteration</b> $k=2$: \n",
    "\n",
    "Sampling (starting with $\\mathbf v_1$)\n",
    "\n",
    "$$\\mathbf v_1 \\Rightarrow p(\\mathbf h_1|\\mathbf v_1)\\Rightarrow \\mathbf h_1\\Rightarrow p(\\mathbf v_2|\\mathbf h_1)\\Rightarrow \\mathbf v_2$$   \n",
    "\n",
    "followed by the CD-k step\n",
    "$$\\Delta \\mathbf W_2 =\\mathbf v_2 \\otimes \\mathbf h_2 - \\mathbf v_{1} \\otimes \\mathbf h_{1}$$     \n",
    "$$\\mathbf W_2 = \\mathbf W_{1} + \\alpha * \\Delta \\mathbf W_2$$ \n",
    "\n",
    "<li> $\\mathbf v_2$ is the reconstruction of $\\mathbf v_1$ sent to the next iteration).</li>    \n",
    "      \n",
    "<b>Iteration</b> $k=K$:\n",
    "    \n",
    "Sampling (starting with $\\mathbf v_{K-1}$)\n",
    "\n",
    "$$\\mathbf v_{K-1} \\Rightarrow p(\\mathbf h_{K-1}|\\mathbf v_{K-1})\\Rightarrow \\mathbf h_{K-1}\\Rightarrow p(\\mathbf v_K|\\mathbf h_{K-1})\\Rightarrow \\mathbf v_K$$   \n",
    "\n",
    "followed by the CD-k step\n",
    "$$\\Delta \\mathbf W_K =\\mathbf v_K \\otimes \\mathbf h_K - \\mathbf v_{K-1} \\otimes \\mathbf h_{K-1}$$     \n",
    "$$\\mathbf W_K = \\mathbf W_{K-1} + \\alpha * \\Delta \\mathbf W_K$$ \n",
    "    \n",
    "<b>What is $\\alpha$?</b>  \n",
    "Here, alpha is some small step size, and is also known as the \"learning rate\".\n"
   ]
  },
  {
   "cell_type": "markdown",
   "metadata": {},
   "source": [
    "$K$ is adjustable, and good performance can be achieved with $K=1$, so that we just take one set of sampling steps per image.\n"
   ]
  },
  {
   "cell_type": "code",
   "execution_count": 19,
   "metadata": {
    "tags": []
   },
   "outputs": [],
   "source": [
    "h1_prob = tf.nn.sigmoid(tf.matmul([v1_state], W) + hb)\n",
    "h1_state = tf.nn.relu(tf.sign(h1_prob - tf.random.uniform(tf.shape(h1_prob)))) #sample_h_given_X"
   ]
  },
  {
   "cell_type": "markdown",
   "metadata": {},
   "source": [
    "Lets look at the error of the first run:\n"
   ]
  },
  {
   "cell_type": "code",
   "execution_count": 20,
   "metadata": {
    "tags": []
   },
   "outputs": [
    {
     "name": "stdout",
     "output_type": "stream",
     "text": [
      "error:  tf.Tensor(0.5063776, shape=(), dtype=float32)\n"
     ]
    }
   ],
   "source": [
    "print(\"error: \", error(v0_state, v1_state))"
   ]
  },
  {
   "cell_type": "code",
   "execution_count": 21,
   "metadata": {
    "tags": []
   },
   "outputs": [
    {
     "name": "stdout",
     "output_type": "stream",
     "text": [
      "Epoch: 0 batch #: 1  of 300 sample #: 199 reconstruction error: 0.148427\n",
      "Epoch: 0 batch #: 2  of 300 sample #: 199 reconstruction error: 0.195291\n",
      "Epoch: 0 batch #: 3  of 300 sample #: 199 reconstruction error: 0.125852\n",
      "Epoch: 0 batch #: 4  of 300 sample #: 199 reconstruction error: 0.112181\n",
      "Epoch: 0 batch #: 5  of 300 sample #: 199 reconstruction error: 0.097787\n",
      "Epoch: 0 batch #: 6  of 300 sample #: 199 reconstruction error: 0.176165\n",
      "Epoch: 0 batch #: 7  of 300 sample #: 199 reconstruction error: 0.080281\n",
      "Epoch: 0 batch #: 8  of 300 sample #: 199 reconstruction error: 0.106914\n",
      "Epoch: 0 batch #: 9  of 300 sample #: 199 reconstruction error: 0.092849\n",
      "Epoch: 0 batch #: 10  of 300 sample #: 199 reconstruction error: 0.179492\n",
      "Epoch: 0 batch #: 11  of 300 sample #: 199 reconstruction error: 0.097943\n",
      "Epoch: 0 batch #: 12  of 300 sample #: 199 reconstruction error: 0.136976\n",
      "Epoch: 0 batch #: 13  of 300 sample #: 199 reconstruction error: 0.063033\n",
      "Epoch: 0 batch #: 14  of 300 sample #: 199 reconstruction error: 0.102422\n",
      "Epoch: 0 batch #: 15  of 300 sample #: 199 reconstruction error: 0.097580\n",
      "Epoch: 0 batch #: 16  of 300 sample #: 199 reconstruction error: 0.102435\n",
      "Epoch: 0 batch #: 17  of 300 sample #: 199 reconstruction error: 0.086887\n",
      "Epoch: 0 batch #: 18  of 300 sample #: 199 reconstruction error: 0.120005\n",
      "Epoch: 0 batch #: 19  of 300 sample #: 199 reconstruction error: 0.129922\n",
      "Epoch: 0 batch #: 20  of 300 sample #: 199 reconstruction error: 0.094188\n",
      "Epoch: 0 batch #: 21  of 300 sample #: 199 reconstruction error: 0.090479\n",
      "Epoch: 0 batch #: 22  of 300 sample #: 199 reconstruction error: 0.092510\n",
      "Epoch: 0 batch #: 23  of 300 sample #: 199 reconstruction error: 0.102581\n",
      "Epoch: 0 batch #: 24  of 300 sample #: 199 reconstruction error: 0.125539\n",
      "Epoch: 0 batch #: 25  of 300 sample #: 199 reconstruction error: 0.089000\n",
      "Epoch: 0 batch #: 26  of 300 sample #: 199 reconstruction error: 0.107265\n",
      "Epoch: 0 batch #: 27  of 300 sample #: 199 reconstruction error: 0.110589\n",
      "Epoch: 0 batch #: 28  of 300 sample #: 199 reconstruction error: 0.092014\n",
      "Epoch: 0 batch #: 29  of 300 sample #: 199 reconstruction error: 0.102586\n",
      "Epoch: 0 batch #: 30  of 300 sample #: 199 reconstruction error: 0.069530\n",
      "Epoch: 0 batch #: 31  of 300 sample #: 199 reconstruction error: 0.090443\n",
      "Epoch: 0 batch #: 32  of 300 sample #: 199 reconstruction error: 0.108184\n",
      "Epoch: 0 batch #: 33  of 300 sample #: 199 reconstruction error: 0.068026\n",
      "Epoch: 0 batch #: 34  of 300 sample #: 199 reconstruction error: 0.070883\n",
      "Epoch: 0 batch #: 35  of 300 sample #: 199 reconstruction error: 0.074150\n",
      "Epoch: 0 batch #: 36  of 300 sample #: 199 reconstruction error: 0.075340\n",
      "Epoch: 0 batch #: 37  of 300 sample #: 199 reconstruction error: 0.056246\n",
      "Epoch: 0 batch #: 38  of 300 sample #: 199 reconstruction error: 0.069323\n",
      "Epoch: 0 batch #: 39  of 300 sample #: 199 reconstruction error: 0.093908\n",
      "Epoch: 0 batch #: 40  of 300 sample #: 199 reconstruction error: 0.129181\n",
      "Epoch: 0 batch #: 41  of 300 sample #: 199 reconstruction error: 0.087322\n",
      "Epoch: 0 batch #: 42  of 300 sample #: 199 reconstruction error: 0.064464\n",
      "Epoch: 0 batch #: 43  of 300 sample #: 199 reconstruction error: 0.109092\n",
      "Epoch: 0 batch #: 44  of 300 sample #: 199 reconstruction error: 0.083300\n",
      "Epoch: 0 batch #: 45  of 300 sample #: 199 reconstruction error: 0.051928\n",
      "Epoch: 0 batch #: 46  of 300 sample #: 199 reconstruction error: 0.041520\n",
      "Epoch: 0 batch #: 47  of 300 sample #: 199 reconstruction error: 0.033372\n",
      "Epoch: 0 batch #: 48  of 300 sample #: 199 reconstruction error: 0.037845\n",
      "Epoch: 0 batch #: 49  of 300 sample #: 199 reconstruction error: 0.120066\n",
      "Epoch: 0 batch #: 50  of 300 sample #: 199 reconstruction error: 0.044330\n",
      "Epoch: 0 batch #: 51  of 300 sample #: 199 reconstruction error: 0.057969\n",
      "Epoch: 0 batch #: 52  of 300 sample #: 199 reconstruction error: 0.037156\n",
      "Epoch: 0 batch #: 53  of 300 sample #: 199 reconstruction error: 0.095333\n",
      "Epoch: 0 batch #: 54  of 300 sample #: 199 reconstruction error: 0.053080\n",
      "Epoch: 0 batch #: 55  of 300 sample #: 199 reconstruction error: 0.088556\n",
      "Epoch: 0 batch #: 56  of 300 sample #: 199 reconstruction error: 0.061092\n",
      "Epoch: 0 batch #: 57  of 300 sample #: 199 reconstruction error: 0.050025\n",
      "Epoch: 0 batch #: 58  of 300 sample #: 199 reconstruction error: 0.077528\n",
      "Epoch: 0 batch #: 59  of 300 sample #: 199 reconstruction error: 0.051719\n",
      "Epoch: 0 batch #: 60  of 300 sample #: 199 reconstruction error: 0.088452\n",
      "Epoch: 0 batch #: 61  of 300 sample #: 199 reconstruction error: 0.073354\n",
      "Epoch: 0 batch #: 62  of 300 sample #: 199 reconstruction error: 0.080448\n",
      "Epoch: 0 batch #: 63  of 300 sample #: 199 reconstruction error: 0.062979\n",
      "Epoch: 0 batch #: 64  of 300 sample #: 199 reconstruction error: 0.102629\n",
      "Epoch: 0 batch #: 65  of 300 sample #: 199 reconstruction error: 0.090612\n",
      "Epoch: 0 batch #: 66  of 300 sample #: 199 reconstruction error: 0.067513\n",
      "Epoch: 0 batch #: 67  of 300 sample #: 199 reconstruction error: 0.047629\n",
      "Epoch: 0 batch #: 68  of 300 sample #: 199 reconstruction error: 0.055970\n",
      "Epoch: 0 batch #: 69  of 300 sample #: 199 reconstruction error: 0.072118\n",
      "Epoch: 0 batch #: 70  of 300 sample #: 199 reconstruction error: 0.089896\n",
      "Epoch: 0 batch #: 71  of 300 sample #: 199 reconstruction error: 0.082162\n",
      "Epoch: 0 batch #: 72  of 300 sample #: 199 reconstruction error: 0.059575\n",
      "Epoch: 0 batch #: 73  of 300 sample #: 199 reconstruction error: 0.085278\n",
      "Epoch: 0 batch #: 74  of 300 sample #: 199 reconstruction error: 0.084500\n",
      "Epoch: 0 batch #: 75  of 300 sample #: 199 reconstruction error: 0.060873\n",
      "Epoch: 0 batch #: 76  of 300 sample #: 199 reconstruction error: 0.080747\n",
      "Epoch: 0 batch #: 77  of 300 sample #: 199 reconstruction error: 0.107887\n",
      "Epoch: 0 batch #: 78  of 300 sample #: 199 reconstruction error: 0.085452\n",
      "Epoch: 0 batch #: 79  of 300 sample #: 199 reconstruction error: 0.107336\n",
      "Epoch: 0 batch #: 80  of 300 sample #: 199 reconstruction error: 0.025458\n",
      "Epoch: 0 batch #: 81  of 300 sample #: 199 reconstruction error: 0.052785\n",
      "Epoch: 0 batch #: 82  of 300 sample #: 199 reconstruction error: 0.051450\n",
      "Epoch: 0 batch #: 83  of 300 sample #: 199 reconstruction error: 0.070197\n",
      "Epoch: 0 batch #: 84  of 300 sample #: 199 reconstruction error: 0.091338\n",
      "Epoch: 0 batch #: 85  of 300 sample #: 199 reconstruction error: 0.051230\n",
      "Epoch: 0 batch #: 86  of 300 sample #: 199 reconstruction error: 0.073409\n",
      "Epoch: 0 batch #: 87  of 300 sample #: 199 reconstruction error: 0.079367\n",
      "Epoch: 0 batch #: 88  of 300 sample #: 199 reconstruction error: 0.030418\n",
      "Epoch: 0 batch #: 89  of 300 sample #: 199 reconstruction error: 0.052646\n",
      "Epoch: 0 batch #: 90  of 300 sample #: 199 reconstruction error: 0.073314\n",
      "Epoch: 0 batch #: 91  of 300 sample #: 199 reconstruction error: 0.055664\n",
      "Epoch: 0 batch #: 92  of 300 sample #: 199 reconstruction error: 0.057600\n",
      "Epoch: 0 batch #: 93  of 300 sample #: 199 reconstruction error: 0.125131\n",
      "Epoch: 0 batch #: 94  of 300 sample #: 199 reconstruction error: 0.108503\n",
      "Epoch: 0 batch #: 95  of 300 sample #: 199 reconstruction error: 0.066811\n",
      "Epoch: 0 batch #: 96  of 300 sample #: 199 reconstruction error: 0.072778\n",
      "Epoch: 0 batch #: 97  of 300 sample #: 199 reconstruction error: 0.106515\n",
      "Epoch: 0 batch #: 98  of 300 sample #: 199 reconstruction error: 0.085653\n",
      "Epoch: 0 batch #: 99  of 300 sample #: 199 reconstruction error: 0.060732\n",
      "Epoch: 0 batch #: 100  of 300 sample #: 199 reconstruction error: 0.104196\n",
      "Epoch: 0 batch #: 101  of 300 sample #: 199 reconstruction error: 0.084266\n",
      "Epoch: 0 batch #: 102  of 300 sample #: 199 reconstruction error: 0.094822\n",
      "Epoch: 0 batch #: 103  of 300 sample #: 199 reconstruction error: 0.081531\n",
      "Epoch: 0 batch #: 104  of 300 sample #: 199 reconstruction error: 0.070952\n",
      "Epoch: 0 batch #: 105  of 300 sample #: 199 reconstruction error: 0.060066\n",
      "Epoch: 0 batch #: 106  of 300 sample #: 199 reconstruction error: 0.119967\n",
      "Epoch: 0 batch #: 107  of 300 sample #: 199 reconstruction error: 0.128699\n",
      "Epoch: 0 batch #: 108  of 300 sample #: 199 reconstruction error: 0.048744\n",
      "Epoch: 0 batch #: 109  of 300 sample #: 199 reconstruction error: 0.105503\n",
      "Epoch: 0 batch #: 110  of 300 sample #: 199 reconstruction error: 0.066099\n",
      "Epoch: 0 batch #: 111  of 300 sample #: 199 reconstruction error: 0.114207\n",
      "Epoch: 0 batch #: 112  of 300 sample #: 199 reconstruction error: 0.031302\n",
      "Epoch: 0 batch #: 113  of 300 sample #: 199 reconstruction error: 0.083528\n",
      "Epoch: 0 batch #: 114  of 300 sample #: 199 reconstruction error: 0.067466\n",
      "Epoch: 0 batch #: 115  of 300 sample #: 199 reconstruction error: 0.063752\n",
      "Epoch: 0 batch #: 116  of 300 sample #: 199 reconstruction error: 0.058378\n",
      "Epoch: 0 batch #: 117  of 300 sample #: 199 reconstruction error: 0.040532\n",
      "Epoch: 0 batch #: 118  of 300 sample #: 199 reconstruction error: 0.086991\n",
      "Epoch: 0 batch #: 119  of 300 sample #: 199 reconstruction error: 0.103025\n",
      "Epoch: 0 batch #: 120  of 300 sample #: 199 reconstruction error: 0.078327\n",
      "Epoch: 0 batch #: 121  of 300 sample #: 199 reconstruction error: 0.047965\n",
      "Epoch: 0 batch #: 122  of 300 sample #: 199 reconstruction error: 0.088572\n",
      "Epoch: 0 batch #: 123  of 300 sample #: 199 reconstruction error: 0.070285\n",
      "Epoch: 0 batch #: 124  of 300 sample #: 199 reconstruction error: 0.077616\n",
      "Epoch: 0 batch #: 125  of 300 sample #: 199 reconstruction error: 0.047822\n",
      "Epoch: 0 batch #: 126  of 300 sample #: 199 reconstruction error: 0.082741\n",
      "Epoch: 0 batch #: 127  of 300 sample #: 199 reconstruction error: 0.085248\n",
      "Epoch: 0 batch #: 128  of 300 sample #: 199 reconstruction error: 0.070233\n",
      "Epoch: 0 batch #: 129  of 300 sample #: 199 reconstruction error: 0.067147\n",
      "Epoch: 0 batch #: 130  of 300 sample #: 199 reconstruction error: 0.081842\n",
      "Epoch: 0 batch #: 131  of 300 sample #: 199 reconstruction error: 0.065208\n",
      "Epoch: 0 batch #: 132  of 300 sample #: 199 reconstruction error: 0.059876\n",
      "Epoch: 0 batch #: 133  of 300 sample #: 199 reconstruction error: 0.054444\n",
      "Epoch: 0 batch #: 134  of 300 sample #: 199 reconstruction error: 0.111558\n",
      "Epoch: 0 batch #: 135  of 300 sample #: 199 reconstruction error: 0.087471\n",
      "Epoch: 0 batch #: 136  of 300 sample #: 199 reconstruction error: 0.104355\n",
      "Epoch: 0 batch #: 137  of 300 sample #: 199 reconstruction error: 0.071507\n",
      "Epoch: 0 batch #: 138  of 300 sample #: 199 reconstruction error: 0.069011\n",
      "Epoch: 0 batch #: 139  of 300 sample #: 199 reconstruction error: 0.098130\n",
      "Epoch: 0 batch #: 140  of 300 sample #: 199 reconstruction error: 0.078027\n",
      "Epoch: 0 batch #: 141  of 300 sample #: 199 reconstruction error: 0.083751\n",
      "Epoch: 0 batch #: 142  of 300 sample #: 199 reconstruction error: 0.077482\n",
      "Epoch: 0 batch #: 143  of 300 sample #: 199 reconstruction error: 0.067056\n",
      "Epoch: 0 batch #: 144  of 300 sample #: 199 reconstruction error: 0.072330\n",
      "Epoch: 0 batch #: 145  of 300 sample #: 199 reconstruction error: 0.088440\n",
      "Epoch: 0 batch #: 146  of 300 sample #: 199 reconstruction error: 0.123738\n",
      "Epoch: 0 batch #: 147  of 300 sample #: 199 reconstruction error: 0.055980\n",
      "Epoch: 0 batch #: 148  of 300 sample #: 199 reconstruction error: 0.078070\n",
      "Epoch: 0 batch #: 149  of 300 sample #: 199 reconstruction error: 0.044457\n",
      "Epoch: 0 batch #: 150  of 300 sample #: 199 reconstruction error: 0.043670\n",
      "Epoch: 0 batch #: 151  of 300 sample #: 199 reconstruction error: 0.111539\n",
      "Epoch: 0 batch #: 152  of 300 sample #: 199 reconstruction error: 0.093468\n",
      "Epoch: 0 batch #: 153  of 300 sample #: 199 reconstruction error: 0.056306\n",
      "Epoch: 0 batch #: 154  of 300 sample #: 199 reconstruction error: 0.073802\n",
      "Epoch: 0 batch #: 155  of 300 sample #: 199 reconstruction error: 0.065229\n",
      "Epoch: 0 batch #: 156  of 300 sample #: 199 reconstruction error: 0.072255\n",
      "Epoch: 0 batch #: 157  of 300 sample #: 199 reconstruction error: 0.092108\n",
      "Epoch: 0 batch #: 158  of 300 sample #: 199 reconstruction error: 0.072515\n",
      "Epoch: 0 batch #: 159  of 300 sample #: 199 reconstruction error: 0.077749\n",
      "Epoch: 0 batch #: 160  of 300 sample #: 199 reconstruction error: 0.084624\n",
      "Epoch: 0 batch #: 161  of 300 sample #: 199 reconstruction error: 0.075877\n",
      "Epoch: 0 batch #: 162  of 300 sample #: 199 reconstruction error: 0.107426\n",
      "Epoch: 0 batch #: 163  of 300 sample #: 199 reconstruction error: 0.032979\n",
      "Epoch: 0 batch #: 164  of 300 sample #: 199 reconstruction error: 0.076580\n",
      "Epoch: 0 batch #: 165  of 300 sample #: 199 reconstruction error: 0.075988\n",
      "Epoch: 0 batch #: 166  of 300 sample #: 199 reconstruction error: 0.056959\n",
      "Epoch: 0 batch #: 167  of 300 sample #: 199 reconstruction error: 0.085319\n",
      "Epoch: 0 batch #: 168  of 300 sample #: 199 reconstruction error: 0.050412\n",
      "Epoch: 0 batch #: 169  of 300 sample #: 199 reconstruction error: 0.041488\n",
      "Epoch: 0 batch #: 170  of 300 sample #: 199 reconstruction error: 0.067727\n",
      "Epoch: 0 batch #: 171  of 300 sample #: 199 reconstruction error: 0.027835\n",
      "Epoch: 0 batch #: 172  of 300 sample #: 199 reconstruction error: 0.046405\n",
      "Epoch: 0 batch #: 173  of 300 sample #: 199 reconstruction error: 0.069698\n",
      "Epoch: 0 batch #: 174  of 300 sample #: 199 reconstruction error: 0.102996\n",
      "Epoch: 0 batch #: 175  of 300 sample #: 199 reconstruction error: 0.075939\n",
      "Epoch: 0 batch #: 176  of 300 sample #: 199 reconstruction error: 0.049703\n",
      "Epoch: 0 batch #: 177  of 300 sample #: 199 reconstruction error: 0.041114\n",
      "Epoch: 0 batch #: 178  of 300 sample #: 199 reconstruction error: 0.110362\n",
      "Epoch: 0 batch #: 179  of 300 sample #: 199 reconstruction error: 0.080046\n",
      "Epoch: 0 batch #: 180  of 300 sample #: 199 reconstruction error: 0.092190\n",
      "Epoch: 0 batch #: 181  of 300 sample #: 199 reconstruction error: 0.106482\n",
      "Epoch: 0 batch #: 182  of 300 sample #: 199 reconstruction error: 0.069608\n",
      "Epoch: 0 batch #: 183  of 300 sample #: 199 reconstruction error: 0.126271\n",
      "Epoch: 0 batch #: 184  of 300 sample #: 199 reconstruction error: 0.082426\n",
      "Epoch: 0 batch #: 185  of 300 sample #: 199 reconstruction error: 0.077265\n",
      "Epoch: 0 batch #: 186  of 300 sample #: 199 reconstruction error: 0.117755\n",
      "Epoch: 0 batch #: 187  of 300 sample #: 199 reconstruction error: 0.056068\n",
      "Epoch: 0 batch #: 188  of 300 sample #: 199 reconstruction error: 0.118993\n",
      "Epoch: 0 batch #: 189  of 300 sample #: 199 reconstruction error: 0.070083\n",
      "Epoch: 0 batch #: 190  of 300 sample #: 199 reconstruction error: 0.046581\n",
      "Epoch: 0 batch #: 191  of 300 sample #: 199 reconstruction error: 0.119288\n",
      "Epoch: 0 batch #: 192  of 300 sample #: 199 reconstruction error: 0.123705\n",
      "Epoch: 0 batch #: 193  of 300 sample #: 199 reconstruction error: 0.094980\n",
      "Epoch: 0 batch #: 194  of 300 sample #: 199 reconstruction error: 0.077973\n",
      "Epoch: 0 batch #: 195  of 300 sample #: 199 reconstruction error: 0.051706\n",
      "Epoch: 0 batch #: 196  of 300 sample #: 199 reconstruction error: 0.047238\n",
      "Epoch: 0 batch #: 197  of 300 sample #: 199 reconstruction error: 0.049137\n",
      "Epoch: 0 batch #: 198  of 300 sample #: 199 reconstruction error: 0.077249\n",
      "Epoch: 0 batch #: 199  of 300 sample #: 199 reconstruction error: 0.086366\n",
      "Epoch: 0 batch #: 200  of 300 sample #: 199 reconstruction error: 0.110955\n",
      "Epoch: 0 batch #: 201  of 300 sample #: 199 reconstruction error: 0.100256\n",
      "Epoch: 0 batch #: 202  of 300 sample #: 199 reconstruction error: 0.026958\n",
      "Epoch: 0 batch #: 203  of 300 sample #: 199 reconstruction error: 0.069698\n",
      "Epoch: 0 batch #: 204  of 300 sample #: 199 reconstruction error: 0.053726\n",
      "Epoch: 0 batch #: 205  of 300 sample #: 199 reconstruction error: 0.028819\n",
      "Epoch: 0 batch #: 206  of 300 sample #: 199 reconstruction error: 0.056495\n",
      "Epoch: 0 batch #: 207  of 300 sample #: 199 reconstruction error: 0.087795\n",
      "Epoch: 0 batch #: 208  of 300 sample #: 199 reconstruction error: 0.065344\n",
      "Epoch: 0 batch #: 209  of 300 sample #: 199 reconstruction error: 0.027409\n",
      "Epoch: 0 batch #: 210  of 300 sample #: 199 reconstruction error: 0.122136\n",
      "Epoch: 0 batch #: 211  of 300 sample #: 199 reconstruction error: 0.094300\n",
      "Epoch: 0 batch #: 212  of 300 sample #: 199 reconstruction error: 0.077029\n",
      "Epoch: 0 batch #: 213  of 300 sample #: 199 reconstruction error: 0.123092\n",
      "Epoch: 0 batch #: 214  of 300 sample #: 199 reconstruction error: 0.106005\n",
      "Epoch: 0 batch #: 215  of 300 sample #: 199 reconstruction error: 0.031783\n",
      "Epoch: 0 batch #: 216  of 300 sample #: 199 reconstruction error: 0.094460\n",
      "Epoch: 0 batch #: 217  of 300 sample #: 199 reconstruction error: 0.080646\n",
      "Epoch: 0 batch #: 218  of 300 sample #: 199 reconstruction error: 0.077220\n",
      "Epoch: 0 batch #: 219  of 300 sample #: 199 reconstruction error: 0.071041\n",
      "Epoch: 0 batch #: 220  of 300 sample #: 199 reconstruction error: 0.058220\n",
      "Epoch: 0 batch #: 221  of 300 sample #: 199 reconstruction error: 0.098007\n",
      "Epoch: 0 batch #: 222  of 300 sample #: 199 reconstruction error: 0.081274\n",
      "Epoch: 0 batch #: 223  of 300 sample #: 199 reconstruction error: 0.074929\n",
      "Epoch: 0 batch #: 224  of 300 sample #: 199 reconstruction error: 0.068348\n",
      "Epoch: 0 batch #: 225  of 300 sample #: 199 reconstruction error: 0.063560\n",
      "Epoch: 0 batch #: 226  of 300 sample #: 199 reconstruction error: 0.117853\n",
      "Epoch: 0 batch #: 227  of 300 sample #: 199 reconstruction error: 0.088155\n",
      "Epoch: 0 batch #: 228  of 300 sample #: 199 reconstruction error: 0.079806\n",
      "Epoch: 0 batch #: 229  of 300 sample #: 199 reconstruction error: 0.083168\n",
      "Epoch: 0 batch #: 230  of 300 sample #: 199 reconstruction error: 0.031397\n",
      "Epoch: 0 batch #: 231  of 300 sample #: 199 reconstruction error: 0.023408\n",
      "Epoch: 0 batch #: 232  of 300 sample #: 199 reconstruction error: 0.080988\n",
      "Epoch: 0 batch #: 233  of 300 sample #: 199 reconstruction error: 0.074997\n",
      "Epoch: 0 batch #: 234  of 300 sample #: 199 reconstruction error: 0.073120\n",
      "Epoch: 0 batch #: 235  of 300 sample #: 199 reconstruction error: 0.061807\n",
      "Epoch: 0 batch #: 236  of 300 sample #: 199 reconstruction error: 0.092223\n",
      "Epoch: 0 batch #: 237  of 300 sample #: 199 reconstruction error: 0.064254\n",
      "Epoch: 0 batch #: 238  of 300 sample #: 199 reconstruction error: 0.101045\n",
      "Epoch: 0 batch #: 239  of 300 sample #: 199 reconstruction error: 0.042261\n",
      "Epoch: 0 batch #: 240  of 300 sample #: 199 reconstruction error: 0.105609\n",
      "Epoch: 0 batch #: 241  of 300 sample #: 199 reconstruction error: 0.088773\n",
      "Epoch: 0 batch #: 242  of 300 sample #: 199 reconstruction error: 0.077008\n",
      "Epoch: 0 batch #: 243  of 300 sample #: 199 reconstruction error: 0.065758\n",
      "Epoch: 0 batch #: 244  of 300 sample #: 199 reconstruction error: 0.091517\n",
      "Epoch: 0 batch #: 245  of 300 sample #: 199 reconstruction error: 0.070356\n",
      "Epoch: 0 batch #: 246  of 300 sample #: 199 reconstruction error: 0.083193\n",
      "Epoch: 0 batch #: 247  of 300 sample #: 199 reconstruction error: 0.041583\n",
      "Epoch: 0 batch #: 248  of 300 sample #: 199 reconstruction error: 0.068727\n",
      "Epoch: 0 batch #: 249  of 300 sample #: 199 reconstruction error: 0.047902\n",
      "Epoch: 0 batch #: 250  of 300 sample #: 199 reconstruction error: 0.092408\n",
      "Epoch: 0 batch #: 251  of 300 sample #: 199 reconstruction error: 0.048886\n",
      "Epoch: 0 batch #: 252  of 300 sample #: 199 reconstruction error: 0.063714\n",
      "Epoch: 0 batch #: 253  of 300 sample #: 199 reconstruction error: 0.062128\n",
      "Epoch: 0 batch #: 254  of 300 sample #: 199 reconstruction error: 0.036806\n",
      "Epoch: 0 batch #: 255  of 300 sample #: 199 reconstruction error: 0.050996\n",
      "Epoch: 0 batch #: 256  of 300 sample #: 199 reconstruction error: 0.081957\n",
      "Epoch: 0 batch #: 257  of 300 sample #: 199 reconstruction error: 0.095225\n",
      "Epoch: 0 batch #: 258  of 300 sample #: 199 reconstruction error: 0.083922\n",
      "Epoch: 0 batch #: 259  of 300 sample #: 199 reconstruction error: 0.081316\n",
      "Epoch: 0 batch #: 260  of 300 sample #: 199 reconstruction error: 0.087929\n",
      "Epoch: 0 batch #: 261  of 300 sample #: 199 reconstruction error: 0.046072\n",
      "Epoch: 0 batch #: 262  of 300 sample #: 199 reconstruction error: 0.047736\n",
      "Epoch: 0 batch #: 263  of 300 sample #: 199 reconstruction error: 0.070129\n",
      "Epoch: 0 batch #: 264  of 300 sample #: 199 reconstruction error: 0.084214\n",
      "Epoch: 0 batch #: 265  of 300 sample #: 199 reconstruction error: 0.063691\n",
      "Epoch: 0 batch #: 266  of 300 sample #: 199 reconstruction error: 0.031992\n",
      "Epoch: 0 batch #: 267  of 300 sample #: 199 reconstruction error: 0.069192\n",
      "Epoch: 0 batch #: 268  of 300 sample #: 199 reconstruction error: 0.027791\n",
      "Epoch: 0 batch #: 269  of 300 sample #: 199 reconstruction error: 0.100208\n",
      "Epoch: 0 batch #: 270  of 300 sample #: 199 reconstruction error: 0.082001\n",
      "Epoch: 0 batch #: 271  of 300 sample #: 199 reconstruction error: 0.049925\n",
      "Epoch: 0 batch #: 272  of 300 sample #: 199 reconstruction error: 0.061666\n",
      "Epoch: 0 batch #: 273  of 300 sample #: 199 reconstruction error: 0.050531\n",
      "Epoch: 0 batch #: 274  of 300 sample #: 199 reconstruction error: 0.053151\n",
      "Epoch: 0 batch #: 275  of 300 sample #: 199 reconstruction error: 0.114107\n",
      "Epoch: 0 batch #: 276  of 300 sample #: 199 reconstruction error: 0.081094\n",
      "Epoch: 0 batch #: 277  of 300 sample #: 199 reconstruction error: 0.071498\n",
      "Epoch: 0 batch #: 278  of 300 sample #: 199 reconstruction error: 0.058910\n",
      "Epoch: 0 batch #: 279  of 300 sample #: 199 reconstruction error: 0.056748\n",
      "Epoch: 0 batch #: 280  of 300 sample #: 199 reconstruction error: 0.070036\n",
      "Epoch: 0 batch #: 281  of 300 sample #: 199 reconstruction error: 0.071533\n",
      "Epoch: 0 batch #: 282  of 300 sample #: 199 reconstruction error: 0.110503\n",
      "Epoch: 0 batch #: 283  of 300 sample #: 199 reconstruction error: 0.045251\n",
      "Epoch: 0 batch #: 284  of 300 sample #: 199 reconstruction error: 0.057920\n",
      "Epoch: 0 batch #: 285  of 300 sample #: 199 reconstruction error: 0.055837\n",
      "Epoch: 0 batch #: 286  of 300 sample #: 199 reconstruction error: 0.088541\n",
      "Epoch: 0 batch #: 287  of 300 sample #: 199 reconstruction error: 0.073385\n",
      "Epoch: 0 batch #: 288  of 300 sample #: 199 reconstruction error: 0.026502\n",
      "Epoch: 0 batch #: 289  of 300 sample #: 199 reconstruction error: 0.069030\n",
      "Epoch: 0 batch #: 290  of 300 sample #: 199 reconstruction error: 0.086609\n",
      "Epoch: 0 batch #: 291  of 300 sample #: 199 reconstruction error: 0.110069\n",
      "Epoch: 0 batch #: 292  of 300 sample #: 199 reconstruction error: 0.065630\n",
      "Epoch: 0 batch #: 293  of 300 sample #: 199 reconstruction error: 0.060272\n",
      "Epoch: 0 batch #: 294  of 300 sample #: 199 reconstruction error: 0.082031\n",
      "Epoch: 0 batch #: 295  of 300 sample #: 199 reconstruction error: 0.073441\n",
      "Epoch: 0 batch #: 296  of 300 sample #: 199 reconstruction error: 0.022972\n",
      "Epoch: 0 batch #: 297  of 300 sample #: 199 reconstruction error: 0.106758\n",
      "Epoch: 0 batch #: 298  of 300 sample #: 199 reconstruction error: 0.048931\n",
      "Epoch: 0 batch #: 299  of 300 sample #: 199 reconstruction error: 0.037465\n",
      "Epoch: 0 batch #: 300  of 300 sample #: 199 reconstruction error: 0.081454\n"
     ]
    }
   ],
   "source": [
    "#Parameters\n",
    "alpha = 0.01\n",
    "epochs = 1\n",
    "batchsize = 200\n",
    "weights = []\n",
    "errors = []\n",
    "batch_number = 0\n",
    "K = 1\n",
    "\n",
    "#creating datasets\n",
    "train_ds = \\\n",
    "    tf.data.Dataset.from_tensor_slices((trX, trY)).batch(batchsize)\n",
    "\n",
    "for epoch in range(epochs):\n",
    "    for batch_x, batch_y in train_ds:\n",
    "        batch_number += 1\n",
    "        for i_sample in range(batchsize):           \n",
    "            for k in range(K):\n",
    "                v0_state = batch_x[i_sample]\n",
    "                h0_state = hidden_layer(v0_state, W, hb)\n",
    "                v1_state = reconstructed_output(h0_state, W, vb)\n",
    "                h1_state = hidden_layer(v1_state, W, hb)\n",
    "\n",
    "                delta_W = tf.matmul(tf.transpose([v0_state]), h0_state) - tf.matmul(tf.transpose([v1_state]), h1_state)\n",
    "                W = W + alpha * delta_W\n",
    "\n",
    "                vb = vb + alpha * tf.reduce_mean(v0_state - v1_state, 0)\n",
    "                hb = hb + alpha * tf.reduce_mean(h0_state - h1_state, 0) \n",
    "\n",
    "                v0_state = v1_state\n",
    "\n",
    "            if i_sample == batchsize-1:\n",
    "                err = error(batch_x[i_sample], v1_state)\n",
    "                errors.append(err)\n",
    "                weights.append(W)\n",
    "                print ( 'Epoch: %d' % epoch, \n",
    "                       \"batch #: %i \" % batch_number, \"of %i\" % int(60e3/batchsize), \n",
    "                       \"sample #: %i\" % i_sample,\n",
    "                       'reconstruction error: %f' % err)\n",
    "\n"
   ]
  },
  {
   "cell_type": "markdown",
   "metadata": {},
   "source": [
    "Let's take a look at the errors at the end of each batch:\n"
   ]
  },
  {
   "cell_type": "code",
   "execution_count": 22,
   "metadata": {
    "tags": []
   },
   "outputs": [
    {
     "data": {
      "image/png": "[encoded data removed]",
      "text/plain": [
       "<Figure size 640x480 with 1 Axes>"
      ]
     },
     "metadata": {},
     "output_type": "display_data"
    }
   ],
   "source": [
    "plt.plot(errors)\n",
    "plt.xlabel(\"Batch Number\")\n",
    "plt.ylabel(\"Error\")\n",
    "plt.show()"
   ]
  },
  {
   "cell_type": "markdown",
   "metadata": {},
   "source": [
    "What is the final weight matrix $W$ after training?\n"
   ]
  },
  {
   "cell_type": "code",
   "execution_count": 23,
   "metadata": {
    "tags": []
   },
   "outputs": [
    {
     "name": "stdout",
     "output_type": "stream",
     "text": [
      "[[-0.21000002 -0.5199998  -0.20000002 ... -0.12999998 -0.34999993\n",
      "  -0.31999996]\n",
      " [-0.27       -0.55999976 -0.14999999 ... -0.10999998 -0.3999999\n",
      "  -0.29999998]\n",
      " [-0.28       -0.5099998  -0.20000002 ... -0.09999999 -0.3799999\n",
      "  -0.27      ]\n",
      " ...\n",
      " [-0.24000004 -0.45999983 -0.22000003 ... -0.08999999 -0.3999999\n",
      "  -0.26000002]\n",
      " [-0.28       -0.5199998  -0.16       ... -0.13999999 -0.3899999\n",
      "  -0.31999996]\n",
      " [-0.20000002 -0.45999983 -0.21000002 ... -0.16       -0.32999995\n",
      "  -0.29999998]]\n"
     ]
    }
   ],
   "source": [
    "print(W.numpy()) # a weight matrix of shape (50,784)"
   ]
  },
  {
   "cell_type": "markdown",
   "metadata": {},
   "source": [
    "<a id=\"ref5\"></a>\n",
    "<h3>Learned features</h3> \n"
   ]
  },
  {
   "cell_type": "markdown",
   "metadata": {},
   "source": [
    "We can take each hidden unit and visualize the connections between that hidden unit and each element in the input vector. In our case, we have 50 hidden units. Lets visualize those.\n"
   ]
  },
  {
   "cell_type": "markdown",
   "metadata": {},
   "source": [
    "Let's plot the current weights:\n",
    "<b>tile_raster_images</b> helps in generating an easy to grasp image from a set of samples or weights. It transforms the <b>uw</b> (with one flattened image per row of size 784), into an array (of size $28\\times28$) in which images are reshaped and laid out like tiles on a floor.\n"
   ]
  },
  {
   "cell_type": "code",
   "execution_count": 24,
   "metadata": {
    "tags": []
   },
   "outputs": [
    {
     "data": {
      "image/png": "[encoded data removed]",
      "text/plain": [
       "<Figure size 1800x1800 with 1 Axes>"
      ]
     },
     "metadata": {},
     "output_type": "display_data"
    }
   ],
   "source": [
    "tile_raster_images(X=W.numpy().T, img_shape=(28, 28), tile_shape=(5, 10), tile_spacing=(1, 1))\n",
    "import matplotlib.pyplot as plt\n",
    "from PIL import Image\n",
    "%matplotlib inline\n",
    "image = Image.fromarray(tile_raster_images(X=W.numpy().T, img_shape=(28, 28) ,tile_shape=(5, 10), tile_spacing=(1, 1)))\n",
    "### Plot image\n",
    "plt.rcParams['figure.figsize'] = (18.0, 18.0)\n",
    "imgplot = plt.imshow(image)\n",
    "imgplot.set_cmap('gray')  "
   ]
  },
  {
   "cell_type": "markdown",
   "metadata": {},
   "source": [
    "Each tile in the above visualization corresponds to a vector of connections between a hidden unit and visible layer's units. \n"
   ]
  },
  {
   "cell_type": "markdown",
   "metadata": {},
   "source": [
    "Let's look at one of the learned weights corresponding to one of hidden units for example. In this particular square, the gray color represents weight = 0, and the whiter it is, the more positive the weights are (closer to 1). Conversely, the darker pixels are, the more negative the weights. The positive pixels will increase the probability of activation in hidden units (after multiplying by input/visible pixels), and negative pixels will decrease the probability of a unit hidden to be 1 (activated). So, why is this important?  So we can see that this specific square (hidden unit) can detect a feature (e.g. a \"/\" shape) and if it exists in the input.\n"
   ]
  },
  {
   "cell_type": "code",
   "execution_count": 25,
   "metadata": {
    "tags": []
   },
   "outputs": [
    {
     "data": {
      "image/png": "[encoded data removed]",
      "text/plain": [
       "<Figure size 400x400 with 1 Axes>"
      ]
     },
     "metadata": {},
     "output_type": "display_data"
    }
   ],
   "source": [
    "from PIL import Image\n",
    "image = Image.fromarray(tile_raster_images(X =W.numpy().T[10:11], img_shape=(28, 28),tile_shape=(1, 1), tile_spacing=(1, 1)))\n",
    "### Plot image\n",
    "plt.rcParams['figure.figsize'] = (4.0, 4.0)\n",
    "imgplot = plt.imshow(image)\n",
    "imgplot.set_cmap('gray')  "
   ]
  },
  {
   "cell_type": "markdown",
   "metadata": {},
   "source": [
    "Let's look at the reconstruction of an image now. Imagine that we have a destructed image of figure 3. Lets see if our trained network can fix it:\n",
    "\n",
    "First we plot the image:\n"
   ]
  },
  {
   "cell_type": "code",
   "execution_count": 26,
   "metadata": {
    "tags": []
   },
   "outputs": [
    {
     "name": "stdout",
     "output_type": "stream",
     "text": [
      "--2024-10-06 17:44:02--  https://ibm.box.com/shared/static/vvm1b63uvuxq88vbw9znpwu5ol380mco.jpg\n",
      "Resolving ibm.box.com (ibm.box.com)... 74.112.186.157, 74.112.186.157\n",
      "Connecting to ibm.box.com (ibm.box.com)|74.112.186.157|:443... connected.\n",
      "HTTP request sent, awaiting response... 301 Moved Permanently\n",
      "Location: /public/static/vvm1b63uvuxq88vbw9znpwu5ol380mco.jpg [following]\n",
      "--2024-10-06 17:44:02--  https://ibm.box.com/public/static/vvm1b63uvuxq88vbw9znpwu5ol380mco.jpg\n",
      "Reusing existing connection to ibm.box.com:443.\n",
      "HTTP request sent, awaiting response... 301 Moved Permanently\n",
      "Location: https://ibm.ent.box.com/public/static/vvm1b63uvuxq88vbw9znpwu5ol380mco.jpg [following]\n",
      "--2024-10-06 17:44:02--  https://ibm.ent.box.com/public/static/vvm1b63uvuxq88vbw9znpwu5ol380mco.jpg\n",
      "Resolving ibm.ent.box.com (ibm.ent.box.com)... 74.112.186.157, 74.112.186.157\n",
      "Connecting to ibm.ent.box.com (ibm.ent.box.com)|74.112.186.157|:443... connected.\n",
      "HTTP request sent, awaiting response... 302 Found\n",
      "Location: https://public.boxcloud.com/d/1/b1!ADkAWy-TdJ8k8q1hU_QgHYwucQPK6OquIJC87GsmjEfEtARj47D9HLPmzc1ZjQYPn0AL-PSspWQCM3zRfJdpO7O6vtwQhkDrwnELtItB61WvP-Yk3NmVvhdDAJYffQietQprLaMUyEikW6-ZVriuVcxjcFvJvsiaPXXUo4wqmTgzhqoRvdK9wEXCou6oKAiW-f_lolc89Q8AH01h9CXSlyIGZNuHBBcu49foQ7BbWHHWfd_xiGHqJd3y_NOpaF5vEoVSJDtJmy15B6cWXXzNL7cqtVtGNlf6HNmuTVTLhDhO4sLcInoDRUsAtMQErdaJ_peGWEkGJfFjviyqiuEs3KjYZszUhgWojFUj_s_StcnmSkKInXLeshNC5M-LvCyT0P12h29bG8xK43yV4-azjig2jyj5uRzqnj-hnZkNjZQezA5B1RlxZi35mxJQhMf9KHaYrpn9qwj6SQVrWcJek7UBBFYFaebWEzX3itSmBKUpC_B8FatOjS-1Dn3tAeV_Akbqj9of_c7dXGL_fkm-ijGMK7NsnSFncHcboGz1ri0OkNaF1BddGs4q2q_JTxTx-cF-L-Y-JYfZP9jz3rekcIG5IfQG9XPAmqxEON4F2kEiMVkxfl8fW9QOgEeuTzNORJL5cFAI7f_4tPCbxFNvMIceFc7ouoPyrrhX_T3v3QZzG666K8PHNBk9SLNfwAgEc02jddegVeWbqTnZo5G4ghGldqp25FTfYHPk4H9e3GTSPjAmg9Tlu4l7800r7ZTwseQmbNZi-5Jw2kG5MfIRpcnFTR8rJaHTW7qeY67nTxWPFT75beI_fpcNSNXI3KjMBFPPjGAV6vAEDiG64Offa3VPp5fpMazZ7d5BRp6geBfB3p0M91dENs7dGjzjn4lT52lMJPRo_LxKsw5RCpXTM29kqP6bOfGTBEsL_BuULtxCBxNJq57vDPxYuOCmyuOKUqATEiTicXTjQ9VTYY-rzeoEbuih-zkanZlx6T5g8xwF70C-jbGllnizb-5gLkCfY-ucW_QDIIy4XWoaNt1ATyWnWdsHPTTPpAvJzZTGdaAthhJLzNY9OHSCJfrxnnJyshPJLTWRmZCy4ND5zstlzRuLEnEIGKUjEogeAQXSioKJTYsSwoH4sTuPwnvCXUUKGqCpDmvSPJDjlJDdV6rUueREJZXEnp8jGrVRliWwvUC6OcyE8Edv8IpzPHLSatGgMjQflJVHS1V0ZaZi9Nraerena_XkTe2AoqOvqGHXA_Zpn0P6doGp8GyC02bEjng3deVjaYPZ_x2c9g2JrpyAdorOKFS4NoKjJxG1sioKm0uV3ODVj_G57xaGL-wRKVL7Y29Wx7u-x6huAftc1nr_Yv8N9cgcT9Vhg5bXicvPXyH7usCpQ3K2QqJ-pxd28pimUIH5D8xI8630VfA./download [following]\n",
      "--2024-10-06 17:44:03--  https://public.boxcloud.com/d/1/b1!ADkAWy-TdJ8k8q1hU_QgHYwucQPK6OquIJC87GsmjEfEtARj47D9HLPmzc1ZjQYPn0AL-PSspWQCM3zRfJdpO7O6vtwQhkDrwnELtItB61WvP-Yk3NmVvhdDAJYffQietQprLaMUyEikW6-ZVriuVcxjcFvJvsiaPXXUo4wqmTgzhqoRvdK9wEXCou6oKAiW-f_lolc89Q8AH01h9CXSlyIGZNuHBBcu49foQ7BbWHHWfd_xiGHqJd3y_NOpaF5vEoVSJDtJmy15B6cWXXzNL7cqtVtGNlf6HNmuTVTLhDhO4sLcInoDRUsAtMQErdaJ_peGWEkGJfFjviyqiuEs3KjYZszUhgWojFUj_s_StcnmSkKInXLeshNC5M-LvCyT0P12h29bG8xK43yV4-azjig2jyj5uRzqnj-hnZkNjZQezA5B1RlxZi35mxJQhMf9KHaYrpn9qwj6SQVrWcJek7UBBFYFaebWEzX3itSmBKUpC_B8FatOjS-1Dn3tAeV_Akbqj9of_c7dXGL_fkm-ijGMK7NsnSFncHcboGz1ri0OkNaF1BddGs4q2q_JTxTx-cF-L-Y-JYfZP9jz3rekcIG5IfQG9XPAmqxEON4F2kEiMVkxfl8fW9QOgEeuTzNORJL5cFAI7f_4tPCbxFNvMIceFc7ouoPyrrhX_T3v3QZzG666K8PHNBk9SLNfwAgEc02jddegVeWbqTnZo5G4ghGldqp25FTfYHPk4H9e3GTSPjAmg9Tlu4l7800r7ZTwseQmbNZi-5Jw2kG5MfIRpcnFTR8rJaHTW7qeY67nTxWPFT75beI_fpcNSNXI3KjMBFPPjGAV6vAEDiG64Offa3VPp5fpMazZ7d5BRp6geBfB3p0M91dENs7dGjzjn4lT52lMJPRo_LxKsw5RCpXTM29kqP6bOfGTBEsL_BuULtxCBxNJq57vDPxYuOCmyuOKUqATEiTicXTjQ9VTYY-rzeoEbuih-zkanZlx6T5g8xwF70C-jbGllnizb-5gLkCfY-ucW_QDIIy4XWoaNt1ATyWnWdsHPTTPpAvJzZTGdaAthhJLzNY9OHSCJfrxnnJyshPJLTWRmZCy4ND5zstlzRuLEnEIGKUjEogeAQXSioKJTYsSwoH4sTuPwnvCXUUKGqCpDmvSPJDjlJDdV6rUueREJZXEnp8jGrVRliWwvUC6OcyE8Edv8IpzPHLSatGgMjQflJVHS1V0ZaZi9Nraerena_XkTe2AoqOvqGHXA_Zpn0P6doGp8GyC02bEjng3deVjaYPZ_x2c9g2JrpyAdorOKFS4NoKjJxG1sioKm0uV3ODVj_G57xaGL-wRKVL7Y29Wx7u-x6huAftc1nr_Yv8N9cgcT9Vhg5bXicvPXyH7usCpQ3K2QqJ-pxd28pimUIH5D8xI8630VfA./download\n",
      "Resolving public.boxcloud.com (public.boxcloud.com)... 74.112.186.164, 74.112.186.164\n",
      "Connecting to public.boxcloud.com (public.boxcloud.com)|74.112.186.164|:443... connected.\n",
      "HTTP request sent, awaiting response... 200 OK\n",
      "Length: 24383 (24K) [image/jpeg]\n",
      "Saving to: ‘destructed3.jpg’\n",
      "\n",
      "destructed3.jpg     100%[===================>]  23.81K  --.-KB/s    in 0.01s   \n",
      "\n",
      "2024-10-06 17:44:03 (1.59 MB/s) - ‘destructed3.jpg’ saved [24383/24383]\n",
      "\n"
     ]
    },
    {
     "data": {
      "image/png": "[encoded data removed]",
      "text/plain": [
       "<PIL.JpegImagePlugin.JpegImageFile image mode=RGB size=181x181 at 0x7F69D402D0D0>"
      ]
     },
     "execution_count": 26,
     "metadata": {},
     "output_type": "execute_result"
    }
   ],
   "source": [
    "!wget -O destructed3.jpg  https://ibm.box.com/shared/static/vvm1b63uvuxq88vbw9znpwu5ol380mco.jpg\n",
    "img = Image.open('destructed3.jpg')\n",
    "img"
   ]
  },
  {
   "cell_type": "markdown",
   "metadata": {},
   "source": [
    "Now let's pass this image through the neural net:\n"
   ]
  },
  {
   "cell_type": "code",
   "execution_count": 27,
   "metadata": {
    "tags": []
   },
   "outputs": [],
   "source": [
    "# convert the image to a 1d numpy array\n",
    "sample_case = np.array(img.convert('I').resize((28,28))).ravel().reshape((1, -1))/255.0\n",
    "\n",
    "sample_case = tf.cast(sample_case, dtype=tf.float32)"
   ]
  },
  {
   "cell_type": "markdown",
   "metadata": {},
   "source": [
    "Feed the sample case into the network and reconstruct the output:\n"
   ]
  },
  {
   "cell_type": "code",
   "execution_count": 28,
   "metadata": {
    "tags": []
   },
   "outputs": [
    {
     "name": "stdout",
     "output_type": "stream",
     "text": [
      "Probability nodes in hidden layer: tf.Tensor(\n",
      "[[4.6110108e-05 1.0000000e+00 2.6387633e-11 5.3908548e-06 6.7697585e-01\n",
      "  5.9829162e-11 9.9993348e-01 1.1722392e-09 5.5628407e-01 4.8815827e-09\n",
      "  2.1278487e-08 1.1211284e-06 2.2047706e-01 2.4806857e-07 4.9138758e-01\n",
      "  7.3388779e-01 9.9999201e-01 4.4861780e-03 1.4607664e-12 1.0000000e+00\n",
      "  9.9999982e-01 1.0000000e+00 1.1080607e-01 2.8302938e-01 7.1366740e-10\n",
      "  1.4993552e-11 3.0917391e-01 3.1180452e-09 9.9973068e-13 4.7558727e-04\n",
      "  9.9651116e-01 3.1661749e-02 8.2144701e-01 9.9501860e-01 9.8917990e-15\n",
      "  5.9129178e-08 7.2554598e-15 3.0960372e-08 5.0923359e-01 6.1364710e-01\n",
      "  1.1495620e-12 3.5096204e-16 9.9978495e-01 3.2896067e-05 1.0000000e+00\n",
      "  7.2428738e-05 9.1821617e-01 1.8570732e-18 9.9999785e-01 7.5192362e-01]], shape=(1, 50), dtype=float32)\n",
      "activated nodes in hidden layer: tf.Tensor(\n",
      "[[0. 1. 0. 0. 1. 0. 1. 0. 1. 0. 0. 0. 0. 0. 0. 1. 1. 0. 0. 1. 1. 1. 0. 0.\n",
      "  0. 0. 0. 0. 0. 0. 1. 0. 1. 1. 0. 0. 0. 0. 1. 1. 0. 0. 1. 0. 1. 0. 1. 0.\n",
      "  1. 1.]], shape=(1, 50), dtype=float32)\n",
      "tf.Tensor(\n",
      "[[2.05882141e-04 1.13001071e-04 2.01806310e-04 2.44023773e-04\n",
      "  1.73701264e-04 2.05882330e-04 1.78990245e-04 1.57173927e-04\n",
      "  1.23641570e-04 2.05882330e-04 1.58753348e-04 1.90056177e-04\n",
      "  2.32016449e-04 1.20885146e-04 1.37708339e-04 1.60801981e-04\n",
      "  1.36643343e-04 1.26138926e-04 1.23641570e-04 1.54062218e-04\n",
      "  1.27406500e-04 1.61959921e-04 1.71973152e-04 1.43648213e-04\n",
      "  2.39193061e-04 2.77892104e-04 1.82605509e-04 1.71973152e-04\n",
      "  2.01806310e-04 1.91965955e-04 1.71973152e-04 1.99798669e-04\n",
      "  1.59451942e-04 1.47067680e-04 1.60808122e-04 1.84158562e-04\n",
      "  1.49544794e-04 1.68258106e-04 2.18379661e-04 1.62188793e-04\n",
      "  1.41585275e-04 1.39995231e-04 2.60617933e-04 2.92136101e-04\n",
      "  3.86573316e-04 5.24619070e-04 1.97904374e-04 2.80431210e-04\n",
      "  3.18975101e-04 2.14770582e-04 1.55153437e-04 1.84216333e-04\n",
      "  1.86293619e-04 2.61713052e-04 1.16442032e-04 1.71973152e-04\n",
      "  1.46549588e-04 1.18794087e-04 2.46495474e-04 7.30113097e-05\n",
      "  2.59648688e-04 2.73664540e-04 1.53778528e-04 1.38477451e-04\n",
      "  8.40350549e-05 6.35434553e-05 5.44361283e-05 5.61952584e-05\n",
      "  4.73379987e-05 1.84275195e-04 6.96752177e-05 1.00670695e-04\n",
      "  9.89058826e-05 1.22336176e-04 6.36562036e-05 6.48858913e-05\n",
      "  1.43981437e-04 3.18887876e-04 3.95463197e-04 2.23270923e-04\n",
      "  5.24310104e-04 1.24434504e-04 2.05882330e-04 1.61959921e-04\n",
      "  8.54067475e-05 2.23025825e-04 2.16359360e-04 1.82126460e-04\n",
      "  2.04018070e-04 1.82105272e-04 1.73239125e-04 7.02536054e-05\n",
      "  9.42334664e-05 7.39223397e-05 7.52532360e-05 2.02109790e-04\n",
      "  2.90301396e-04 7.04117352e-04 1.38139562e-03 2.19341856e-03\n",
      "  1.64018001e-03 1.07955234e-03 6.97612821e-04 6.52544957e-04\n",
      "  1.90469276e-04 3.21311876e-04 6.60224992e-04 4.81144729e-04\n",
      "  2.21318449e-04 1.68502622e-04 2.23515875e-04 1.33937923e-04\n",
      "  2.29816345e-04 1.84599659e-04 2.06100551e-04 2.15572116e-04\n",
      "  2.26853183e-04 4.09696368e-04 7.12964917e-04 2.86557479e-04\n",
      "  2.87007017e-04 2.83240457e-04 2.79854838e-04 1.03855587e-03\n",
      "  3.80676333e-03 7.81331956e-03 9.43465531e-03 2.58362833e-02\n",
      "  5.15526161e-02 9.27974284e-02 5.44482730e-02 2.55378298e-02\n",
      "  8.59602820e-03 3.85707058e-03 4.93180146e-03 1.09483674e-02\n",
      "  4.00205282e-03 7.45327969e-04 2.63659545e-04 2.21448689e-04\n",
      "  1.42219069e-04 3.07109120e-04 2.30014499e-04 5.42773632e-04\n",
      "  6.18662685e-04 4.38136194e-04 3.73337825e-04 5.56222163e-04\n",
      "  7.32427579e-04 1.04959914e-03 3.83629021e-03 1.99731626e-02\n",
      "  3.34314965e-02 2.64329463e-01 2.43517518e-01 4.38788891e-01\n",
      "  4.51020747e-01 6.55684471e-01 6.80986583e-01 3.16093832e-01\n",
      "  1.13750346e-01 5.94766289e-02 1.16657555e-01 3.94777805e-02\n",
      "  7.47352419e-03 1.90372311e-03 5.64028451e-04 1.25045757e-04\n",
      "  1.90056366e-04 1.96975321e-04 2.36247972e-04 6.82959973e-04\n",
      "  1.41239690e-03 1.19851308e-03 1.00391312e-03 7.61498173e-04\n",
      "  1.14396762e-03 3.13531864e-03 1.49082690e-02 1.52451172e-01\n",
      "  3.69482547e-01 6.81556821e-01 6.28021240e-01 5.38125098e-01\n",
      "  5.30133486e-01 7.24853516e-01 7.45632350e-01 6.35024965e-01\n",
      "  4.04139936e-01 1.76880702e-01 1.38863549e-01 4.69026081e-02\n",
      "  7.50978198e-03 3.25753051e-03 1.38435361e-03 2.10510610e-04\n",
      "  1.40324555e-04 1.73266031e-04 7.21786288e-04 2.54027615e-03\n",
      "  4.85706003e-03 3.59429745e-03 3.24674603e-03 1.50362088e-03\n",
      "  2.22778111e-03 1.42767271e-02 3.49176645e-01 8.20218086e-01\n",
      "  8.17044079e-01 9.12862718e-01 7.41505146e-01 5.37522733e-01\n",
      "  4.21642810e-01 6.08017206e-01 6.56613708e-01 5.92396080e-01\n",
      "  5.21494210e-01 2.93264329e-01 4.26759757e-02 8.65646545e-03\n",
      "  4.48449608e-03 1.15689670e-03 5.45867893e-04 1.98806505e-04\n",
      "  1.50114851e-04 2.93145247e-04 9.20886872e-04 5.41871879e-03\n",
      "  6.91929273e-03 3.74846603e-03 2.96083768e-03 4.59576352e-03\n",
      "  1.52804041e-02 9.84477177e-02 5.87902427e-01 8.53972912e-01\n",
      "  8.96640122e-01 7.89308310e-01 4.93839979e-01 2.42793217e-01\n",
      "  1.71647713e-01 1.31477520e-01 2.58441359e-01 3.91203403e-01\n",
      "  4.98342544e-01 2.36509547e-01 2.58708578e-02 3.26204626e-03\n",
      "  9.35494143e-04 2.69292941e-04 3.94163391e-04 1.56148439e-04\n",
      "  1.86344958e-04 3.44747852e-04 2.40019127e-03 5.85960783e-03\n",
      "  1.26500819e-02 9.38727241e-03 4.62729530e-03 7.02763023e-03\n",
      "  8.42498336e-03 6.11112081e-02 6.15857065e-01 6.73275113e-01\n",
      "  7.30990112e-01 4.83821422e-01 9.98391956e-02 6.30720854e-02\n",
      "  5.18344864e-02 1.17166340e-01 3.02765220e-01 4.86401230e-01\n",
      "  4.40011948e-01 2.43533254e-01 1.73792057e-02 1.49323756e-03\n",
      "  5.60661603e-04 2.90891272e-04 2.72359699e-04 2.20824586e-04\n",
      "  1.28631364e-04 4.94102598e-04 2.42492231e-03 6.47690380e-03\n",
      "  9.25868005e-03 2.76791444e-03 2.43881764e-03 1.61984027e-03\n",
      "  7.31830532e-03 5.18866666e-02 2.46943459e-01 4.85945702e-01\n",
      "  2.37698138e-01 8.49939063e-02 6.61504343e-02 1.42745048e-01\n",
      "  1.55592740e-01 3.59243512e-01 5.38191438e-01 7.31923938e-01\n",
      "  7.29027987e-01 2.51305878e-01 9.92713962e-03 1.13326893e-03\n",
      "  2.95028265e-04 1.90736784e-04 8.30000441e-04 1.45074722e-04\n",
      "  1.86308345e-04 4.41685319e-04 8.22843751e-04 3.11396038e-03\n",
      "  2.48496910e-03 2.66404916e-03 9.27481276e-04 6.63257553e-04\n",
      "  1.81012147e-03 2.52520870e-02 1.02319404e-01 1.19075283e-01\n",
      "  1.99969202e-01 4.53339696e-01 6.53122544e-01 5.66669524e-01\n",
      "  6.47519827e-01 6.82683647e-01 7.35122740e-01 9.10371304e-01\n",
      "  6.57125056e-01 1.11179918e-01 9.43838060e-03 6.46761502e-04\n",
      "  3.38391314e-04 4.13164264e-04 4.29579726e-04 1.52858993e-04\n",
      "  1.78282862e-04 2.24183066e-04 8.79968866e-04 1.09160331e-03\n",
      "  3.43832595e-04 7.92755978e-04 4.01770289e-04 9.47493128e-04\n",
      "  2.15143058e-03 1.22231618e-02 6.59493878e-02 2.19100699e-01\n",
      "  6.81191564e-01 9.34998155e-01 9.67375100e-01 9.63473976e-01\n",
      "  8.97264242e-01 9.15447950e-01 9.30408716e-01 8.09893906e-01\n",
      "  4.69115853e-01 5.19511551e-02 1.48643483e-03 9.99078329e-05\n",
      "  4.39444484e-05 3.42539133e-04 3.25774512e-04 1.79665323e-04\n",
      "  1.67527600e-04 2.92754790e-04 6.18443417e-04 8.32247955e-04\n",
      "  7.67655845e-04 6.87346270e-04 5.57587715e-04 6.57832657e-04\n",
      "  1.71002082e-03 5.95055567e-03 3.35892886e-02 2.56676942e-01\n",
      "  8.60428154e-01 9.78037238e-01 9.40305233e-01 9.33861852e-01\n",
      "  9.00137663e-01 9.25009072e-01 8.80377471e-01 8.71270537e-01\n",
      "  2.43463844e-01 1.91491563e-02 5.48357784e-04 5.48933021e-05\n",
      "  3.42620224e-05 1.42756006e-04 2.35878179e-04 1.75735709e-04\n",
      "  1.96890629e-04 1.90930194e-04 3.42887564e-04 7.91846891e-04\n",
      "  5.29934419e-04 4.94185195e-04 3.46667453e-04 1.78368384e-04\n",
      "  4.43601806e-04 1.32898835e-03 1.02440184e-02 1.45064473e-01\n",
      "  4.28633422e-01 8.50864708e-01 8.08035672e-01 5.95930099e-01\n",
      "  5.53563654e-01 8.39326680e-01 9.28992689e-01 7.46232033e-01\n",
      "  1.69530988e-01 3.15146637e-03 1.57823306e-04 2.98694085e-05\n",
      "  2.77030522e-05 1.02482045e-04 2.43737566e-04 1.32652160e-04\n",
      "  2.20417976e-04 1.56823167e-04 3.52165254e-04 6.53631461e-04\n",
      "  6.02730026e-04 3.21504573e-04 4.02901962e-04 1.93962231e-04\n",
      "  3.89364257e-04 1.05291361e-03 3.13626835e-03 1.88113917e-02\n",
      "  1.47956163e-01 2.21447483e-01 9.38549265e-02 1.11634135e-01\n",
      "  1.40197963e-01 7.45639086e-01 9.00776565e-01 4.94141459e-01\n",
      "  3.76524106e-02 1.18081400e-03 1.34066970e-04 4.36733972e-05\n",
      "  2.96394282e-05 7.91573693e-05 2.68942706e-04 1.49333908e-04\n",
      "  2.05963021e-04 2.41340924e-04 4.15274408e-04 1.25135866e-03\n",
      "  1.37200602e-03 8.33624974e-04 5.84404799e-04 3.70012160e-04\n",
      "  4.96319029e-04 1.03728427e-03 1.87509647e-03 1.33273229e-02\n",
      "  3.46127488e-02 2.32642684e-02 1.13113541e-02 1.73986796e-02\n",
      "  1.45368040e-01 6.83675826e-01 8.63669097e-01 3.06902260e-01\n",
      "  1.69032924e-02 6.62711042e-04 3.64704290e-04 4.99552953e-05\n",
      "  3.92393595e-05 7.47088925e-05 2.37092594e-04 1.52010136e-04\n",
      "  1.54062218e-04 1.16995965e-04 6.53605966e-04 3.30962334e-03\n",
      "  7.11412309e-03 2.59177806e-03 1.59372413e-03 1.47070142e-03\n",
      "  9.30493814e-04 2.13593338e-03 9.93512943e-03 2.29850616e-02\n",
      "  1.01368548e-02 1.02192368e-02 4.73471917e-03 1.69138834e-02\n",
      "  1.89939559e-01 8.48339975e-01 7.96601713e-01 1.99039370e-01\n",
      "  1.11510996e-02 5.92421857e-04 2.87238072e-04 1.30063578e-04\n",
      "  5.83833935e-05 2.44083130e-04 1.93872722e-04 1.57766874e-04\n",
      "  1.24458951e-04 1.45581769e-04 1.77052885e-03 5.60504850e-03\n",
      "  2.34930869e-02 1.47849647e-02 2.07873713e-02 1.94410514e-02\n",
      "  1.07533112e-02 1.11563103e-02 3.29020061e-02 3.28951105e-02\n",
      "  1.13141593e-02 3.73624731e-03 7.82766845e-03 2.35686265e-02\n",
      "  3.97015750e-01 8.93488228e-01 6.39934838e-01 1.42732486e-01\n",
      "  8.55706539e-03 9.33088420e-04 1.54240231e-04 1.84496181e-04\n",
      "  1.49066720e-04 2.16395245e-04 2.84462090e-04 1.32122848e-04\n",
      "  1.27032501e-04 1.98432666e-04 2.02104216e-03 3.17293704e-02\n",
      "  9.38358009e-02 1.04742646e-01 3.65446545e-02 1.15299642e-01\n",
      "  7.36760125e-02 6.10450841e-02 7.08092377e-02 4.66494784e-02\n",
      "  1.45194679e-02 3.32937343e-03 8.22329335e-03 1.85850874e-01\n",
      "  7.50044763e-01 9.24606442e-01 7.53246367e-01 1.44876719e-01\n",
      "  4.11658641e-03 3.36392695e-04 1.47076105e-04 1.17869626e-04\n",
      "  2.81624030e-04 2.77382554e-04 5.29681100e-04 1.54831418e-04\n",
      "  1.45091588e-04 2.03036907e-04 4.30389121e-03 6.20748177e-02\n",
      "  1.95254356e-01 2.19377473e-01 1.89396098e-01 2.07511678e-01\n",
      "  2.21096158e-01 2.93860435e-01 2.44659945e-01 1.15367733e-01\n",
      "  3.29238251e-02 9.97198280e-03 1.78881772e-02 3.45108300e-01\n",
      "  8.70474875e-01 8.47462714e-01 5.21600723e-01 6.05450645e-02\n",
      "  3.39931552e-03 1.66710466e-04 1.43599304e-04 1.94944325e-04\n",
      "  4.00316581e-04 2.24236734e-04 4.34337475e-04 1.50032269e-04\n",
      "  1.14284536e-04 2.32335238e-04 2.53798766e-03 8.76191705e-02\n",
      "  2.10149780e-01 2.19909161e-01 3.04349571e-01 4.23565388e-01\n",
      "  4.63584423e-01 4.73743170e-01 3.65594655e-01 1.90391123e-01\n",
      "  6.85609132e-02 6.55735955e-02 2.66076952e-01 6.98615670e-01\n",
      "  8.68620157e-01 6.69849336e-01 1.36888683e-01 7.47955451e-03\n",
      "  5.93568431e-04 2.46000534e-04 1.23135644e-04 3.54858610e-04\n",
      "  5.23923023e-04 5.56671759e-04 3.59192287e-04 1.08061096e-04\n",
      "  1.16551782e-04 2.43288305e-04 8.27046053e-04 4.25845459e-02\n",
      "  2.01457858e-01 3.79342109e-01 4.86235648e-01 6.00310743e-01\n",
      "  7.12957621e-01 8.69350314e-01 7.78171837e-01 6.16162777e-01\n",
      "  2.22705603e-01 4.11980122e-01 5.97334087e-01 8.39574814e-01\n",
      "  5.98352432e-01 3.16474855e-01 2.37442777e-02 4.87267971e-03\n",
      "  2.01866162e-04 1.58314360e-04 1.95393572e-04 3.15768499e-04\n",
      "  4.78700473e-04 3.48061643e-04 3.06507718e-04 1.41968398e-04\n",
      "  1.93894914e-04 1.93894914e-04 4.27346211e-04 9.42919217e-03\n",
      "  7.77294189e-02 3.22511166e-01 6.13419533e-01 6.84396863e-01\n",
      "  8.50421548e-01 9.08977985e-01 9.59432006e-01 8.54762256e-01\n",
      "  6.58504367e-01 5.64131856e-01 5.52410603e-01 4.82633978e-01\n",
      "  1.26298577e-01 9.01520774e-02 5.86620858e-03 1.07124646e-03\n",
      "  5.33130777e-04 2.06685203e-04 2.71304889e-04 3.07822891e-04\n",
      "  4.25458682e-04 3.11083801e-04 1.28082786e-04 1.28686937e-04\n",
      "  1.36643212e-04 1.95843066e-04 2.78765132e-04 8.44202179e-04\n",
      "  5.21728164e-03 6.14722930e-02 2.91235268e-01 5.02584457e-01\n",
      "  8.32163811e-01 7.28121459e-01 7.68839657e-01 4.71222609e-01\n",
      "  2.64304042e-01 2.89084941e-01 1.51665494e-01 2.07381263e-01\n",
      "  6.44545183e-02 1.27538433e-02 2.49655684e-03 5.48387470e-04\n",
      "  2.97560764e-04 1.38619478e-04 2.30123973e-04 1.92094667e-04\n",
      "  3.48375528e-04 1.80760748e-04 1.92418054e-04 1.77209527e-04\n",
      "  1.14136645e-04 1.55610222e-04 1.99908813e-04 2.46253767e-04\n",
      "  5.77811094e-04 3.54846683e-03 6.44367468e-03 2.20676828e-02\n",
      "  2.19068211e-02 5.69014065e-03 3.80575052e-03 6.09693211e-03\n",
      "  4.93088877e-03 1.07035991e-02 1.03828153e-02 8.13091360e-03\n",
      "  1.10923378e-02 1.83525449e-03 6.14635122e-04 3.84658808e-04\n",
      "  1.97975518e-04 1.87312602e-04 2.87568517e-04 2.10312777e-04\n",
      "  2.82239838e-04 1.10265442e-04 2.50626763e-04 1.60348471e-04\n",
      "  1.49509724e-04 1.52529334e-04 1.77209527e-04 1.50244290e-04\n",
      "  2.25399373e-04 8.84288573e-04 1.04834896e-03 1.27176300e-03\n",
      "  2.84809968e-04 2.10522252e-04 4.63328033e-04 2.23739553e-04\n",
      "  1.03226164e-03 1.33198022e-03 3.25756730e-03 7.23701436e-03\n",
      "  4.44136560e-03 3.96241172e-04 2.05102304e-04 1.97215297e-04\n",
      "  2.78711173e-04 2.53076025e-04 2.86027440e-04 1.36156770e-04\n",
      "  1.93371336e-04 1.86878940e-04 1.18793978e-04 1.84440272e-04\n",
      "  1.58753348e-04 2.86352413e-04 1.82605334e-04 1.63587261e-04\n",
      "  1.33319671e-04 1.46222694e-04 1.95590401e-04 1.80053219e-04\n",
      "  5.20502392e-04 6.44247513e-04 6.99592463e-04 7.94395804e-04\n",
      "  7.62791315e-04 1.48988620e-03 1.23616168e-03 1.64020481e-03\n",
      "  1.50618807e-03 1.01971312e-03 6.29768532e-04 1.64998099e-04\n",
      "  1.56558861e-04 1.28127867e-04 2.81897257e-04 2.22763570e-04\n",
      "  1.32605361e-04 1.38016345e-04 1.77209702e-04 1.82605509e-04]], shape=(1, 784), dtype=float32)\n"
     ]
    }
   ],
   "source": [
    "hh0_p = tf.nn.sigmoid(tf.matmul(sample_case, W) + hb)\n",
    "hh0_s = tf.round(hh0_p)\n",
    "\n",
    "print(\"Probability nodes in hidden layer:\" ,hh0_p)\n",
    "print(\"activated nodes in hidden layer:\" ,hh0_s)\n",
    "\n",
    "# reconstruct\n",
    "vv1_p = tf.nn.sigmoid(tf.matmul(hh0_s, tf.transpose(W)) + vb)\n",
    "\n",
    "print(vv1_p)\n",
    "#rec_prob = sess.run(vv1_p, feed_dict={ hh0_s: hh0_s_val, W: prv_w, vb: prv_vb})"
   ]
  },
  {
   "cell_type": "markdown",
   "metadata": {},
   "source": [
    "Here we plot the reconstructed image:\n"
   ]
  },
  {
   "cell_type": "code",
   "execution_count": 29,
   "metadata": {
    "tags": []
   },
   "outputs": [
    {
     "data": {
      "image/png": "[encoded data removed]",
      "text/plain": [
       "<Figure size 400x400 with 1 Axes>"
      ]
     },
     "metadata": {},
     "output_type": "display_data"
    }
   ],
   "source": [
    "img = Image.fromarray(tile_raster_images(X=vv1_p.numpy(), img_shape=(28, 28),tile_shape=(1, 1), tile_spacing=(1, 1)))\n",
    "plt.rcParams['figure.figsize'] = (4.0, 4.0)\n",
    "imgplot = plt.imshow(img)\n",
    "imgplot.set_cmap('gray') "
   ]
  },
  {
   "cell_type": "markdown",
   "metadata": {},
   "source": [
    "<hr>\n",
    "\n",
    "## Want to learn more?\n",
    "\n",
    "Also, you can use __Watson Studio__ to run these notebooks faster with bigger datasets.__Watson Studio__ is IBM’s leading cloud solution for data scientists, built by data scientists. With Jupyter notebooks, RStudio, Apache Spark and popular libraries pre-packaged in the cloud, __Watson Studio__ enables data scientists to collaborate on their projects without having to install anything. Join the fast-growing community of __Watson Studio__ users today with a free account at [Watson Studio](https://cocl.us/ML0120EN_DSX).This is the end of this lesson. Thank you for reading this notebook, and good luck on your studies.\n"
   ]
  },
  {
   "cell_type": "markdown",
   "metadata": {},
   "source": [
    "### Thanks for completing this lesson!\n",
    "\n",
    "Notebook created by: <a href = \"https://ca.linkedin.com/in/saeedaghabozorgi\">Saeed Aghabozorgi</a>\n",
    "\n",
    "Updated to TF 2.X by  <a href=\"https://ca.linkedin.com/in/nilmeier\"> Jerome Nilmeier</a><br />\n"
   ]
  },
  {
   "cell_type": "markdown",
   "metadata": {},
   "source": [
    "### References:\n",
    "https://en.wikipedia.org/wiki/Restricted_Boltzmann_machine  \n",
    "https://www.geeksforgeeks.org/deep-learning-tutorial/ \n",
    "http://www.cs.utoronto.ca/~hinton/absps/netflixICML.pdf<br>\n",
    "https://en.wikipedia.org/wiki/Restricted_Boltzmann_machine  \n"
   ]
  },
  {
   "cell_type": "markdown",
   "metadata": {},
   "source": [
    "<hr>\n",
    "\n",
    "Copyright &copy; 2018 [Cognitive Class](https://cocl.us/DX0108EN_CC). This notebook and its source code are released under the terms of the [MIT License](https://bigdatauniversity.com/mit-license/).\n"
   ]
  }
 ],
 "metadata": {
  "kernelspec": {
   "display_name": "Python",
   "language": "python",
   "name": "conda-env-python-py"
  },
  "language_info": {
   "codemirror_mode": {
    "name": "ipython",
    "version": 3
   },
   "file_extension": ".py",
   "mimetype": "text/x-python",
   "name": "python",
   "nbconvert_exporter": "python",
   "pygments_lexer": "ipython3",
   "version": "3.7.12"
  },
  "prev_pub_hash": "f4c64de5fb70d125596834382afe1f6deeca1efca05c05d070b1e0d77c81932b"
 },
 "nbformat": 4,
 "nbformat_minor": 4
}
