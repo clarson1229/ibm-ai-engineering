{
 "cells": [
  {
   "cell_type": "markdown",
   "metadata": {},
   "source": [
    "<img src=\"https://cf-courses-data.s3.us.cloud-object-storage.appdomain.cloud/IBMDeveloperSkillsNetwork-DL0120EN-SkillsNetwork/images/IDSN-logo.png\" width=\"300\" alt=\"cognitiveclass.ai logo\">\n",
    "\n",
    "<h1 align=\"center\"><font size=\"5\">RECURRENT NETWORKS and LSTM IN DEEP LEARNING</font></h1>\n"
   ]
  },
  {
   "cell_type": "markdown",
   "metadata": {},
   "source": [
    "Estimated time needed: **30** minutes\n"
   ]
  },
  {
   "cell_type": "markdown",
   "metadata": {},
   "source": [
    "<h2>Applying Recurrent Neural Networks/LSTM for Language Modeling</h2>\n",
    "Hello and welcome to this part. In this notebook, we will go over the topic of Language Modelling, and create a Recurrent Neural Network model based on the Long Short-Term Memory unit to train and benchmark on the Penn Treebank dataset. By the end of this notebook, you should be able to understand how TensorFlow builds and executes a RNN model for Language Modelling.\n"
   ]
  },
  {
   "cell_type": "markdown",
   "metadata": {},
   "source": [
    "<h2>The Objective</h2>\n",
    "By now, you should have an understanding of how Recurrent Networks work -- a specialized model to process sequential data by keeping track of the \"state\" or context. In this notebook, we go over a TensorFlow code snippet for creating a model focused on <b>Language Modelling</b> -- a very relevant task that is the cornerstone of many different linguistic problems such as <b>Speech Recognition, Machine Translation and Image Captioning</b>. For this, we will be using the Penn Treebank dataset, which is an often-used dataset for benchmarking Language Modelling models.\n"
   ]
  },
  {
   "cell_type": "markdown",
   "metadata": {},
   "source": [
    "\n",
    "<h2>Table of Contents</h2>\n",
    "<ol>\n",
    "    <li><a href=\"#language_modelling\">What exactly is Language Modelling?</a></li>\n",
    "    <li><a href=\"#treebank_dataset\">The Penn Treebank dataset</a></li>\n",
    "    <li><a href=\"#word_embedding\">Word Embedding</a></li>\n",
    "    <li><a href=\"#building_lstm_model\">Building the LSTM model for Language Modeling</a></li>\n",
    "    <li><a href=\"#ltsm\">LTSM</a></li>\n",
    "</ol>\n",
    "<p></p>\n",
    "</div>\n",
    "<br>\n"
   ]
  },
  {
   "cell_type": "markdown",
   "metadata": {},
   "source": [
    "--------\n"
   ]
  },
  {
   "cell_type": "markdown",
   "metadata": {},
   "source": [
    "<a id=\"language_modelling\"></a>\n",
    "<h2>What exactly is Language Modelling?</h2>\n",
    "Language Modelling, to put it simply, <b>is the task of assigning probabilities to sequences of words</b>. This means that, given a context of one or a sequence of words in the language the model was trained on, the model should provide the next most probable words or sequence of words that follows from the given sequence of words the sentence. Language Modelling is one of the most important tasks in Natural Language Processing.\n",
    "\n",
    "<img src=\"https://ibm.box.com/shared/static/1d1i5gub6wljby2vani2vzxp0xsph702.png\" width=\"1080\">\n",
    "<center><i>Example of a sentence being predicted</i></center>\n",
    "<br><br>\n",
    "In this example, one can see the predictions for the next word of a sentence, given the context \"This is an\". As you can see, this boils down to a sequential data analysis task -- you are given a word or a sequence of words (the input data), and, given the context (the state), you need to find out what is the next word (the prediction). This kind of analysis is very important for language-related tasks such as <b>Speech Recognition, Machine Translation, Image Captioning, Text Correction</b> and many other very relevant problems. \n",
    "\n",
    "<img src=\"https://ibm.box.com/shared/static/az39idf9ipfdpc5ugifpgxnydelhyf3i.png\" width=\"1080\">\n",
    "<center><i>The above example is a schema of an RNN in execution</i></center>\n",
    "<br><br>\n",
    "As the above image shows, Recurrent Network models fit this problem like a glove. Alongside LSTM and its capacity to maintain the model's state for over one thousand time steps, we have all the tools we need to undertake this problem. The goal for this notebook is to create a model that can reach <b>low levels of perplexity</b> on our desired dataset.\n",
    "\n",
    "For Language Modelling problems, <b>perplexity</b> is the way to gauge efficiency. Perplexity is simply a measure of how well a probabilistic model is able to predict its sample. A higher-level way to explain this would be saying that <b>low perplexity means a higher degree of trust in the predictions the model makes</b>. Therefore, the lower perplexity is, the better.\n"
   ]
  },
  {
   "cell_type": "markdown",
   "metadata": {},
   "source": [
    "<a id=\"treebank_dataset\"></a>\n",
    "<h2>The Penn Treebank dataset</h2>\n",
    "Historically, datasets big enough for Natural Language Processing are hard to come by. This is in part due to the necessity of the sentences to be broken down and tagged with a certain degree of correctness -- or else the models trained on it won't be able to be correct at all. This means that we need a <b>large amount of data, annotated by or at least corrected by humans</b>. This is, of course, not an easy task at all.\n",
    "\n",
    "The Penn Treebank, or PTB for short, is a dataset maintained by the University of Pennsylvania. It is <i>huge</i> -- there are over <b>four million and eight hundred thousand</b> annotated words in it, all corrected by humans. It is composed of many different sources, from abstracts of Department of Energy papers to texts from the Library of America. Since it is verifiably correct and of such a huge size, the Penn Treebank is commonly used as a benchmark dataset for Language Modelling.\n",
    "\n",
    "The dataset is divided in different kinds of annotations, such as Piece-of-Speech, Syntactic and Semantic skeletons. For this example, we will simply use a sample of clean, non-annotated words (with the exception of one tag --<code>&lt;unk&gt;</code>\n",
    ", which is used for rare words such as uncommon proper nouns) for our model. This means that we just want to predict what the next words would be, not what they mean in context or their classes on a given sentence.\n",
    "\n",
    "<center>Example of text from the dataset we are going to use, <b>ptb.train</b></center>\n",
    "<br><br>\n",
    "\n",
    "<div class=\"alert alert-block alert-info\" style=\"margin-top: 20px\">\n",
    "    <center>the percentage of lung cancer deaths among the workers at the west <code>&lt;unk&gt;</code> mass. paper factory appears to be the highest for any asbestos workers studied in western industrialized countries he said \n",
    " the plant which is owned by <code>&lt;unk&gt;</code> & <code>&lt;unk&gt;</code> co. was under contract with <code>&lt;unk&gt;</code> to make the cigarette filters \n",
    " the finding probably will support those who argue that the U.S. should regulate the class of asbestos including <code>&lt;unk&gt;</code> more <code>&lt;unk&gt;</code> than the common kind of asbestos <code>&lt;unk&gt;</code> found in most schools and other buildings dr. <code>&lt;unk&gt;</code> said</center>\n",
    "</div>\n"
   ]
  },
  {
   "cell_type": "markdown",
   "metadata": {},
   "source": [
    "<a id=\"word_embedding\"></a>\n",
    "<h2>Word Embeddings</h2><br/>\n",
    "\n",
    "For better processing, in this example, we will make use of <a href=\"https://www.tensorflow.org/tutorials/word2vec/\"><b>word embeddings</b></a>, which is <b>a way of representing sentence structures or words as n-dimensional vectors (where n is a reasonably high number, such as 200 or 500) of real numbers</b>. Basically, we will assign each word a randomly-initialized vector, and input those into the network to be processed. After a number of iterations, these vectors are expected to assume values that help the network to correctly predict what it needs to -- in our case, the probable next word in the sentence. This is shown to be a very effective task in Natural Language Processing, and is a commonplace practice.\n",
    "<br><br>\n",
    "<font size=\"4\"><strong>\n",
    "$$Vec(\"Example\") = [0.02, 0.00, 0.00, 0.92, 0.30, \\ldots]$$\n",
    "</strong></font>\n",
    "<br>\n",
    "Word Embedding tends to group up similarly used words <i>reasonably</i> close together in the vectorial space. For example, if we use T-SNE (a dimensional reduction visualization algorithm) to flatten the dimensions of our vectors into a 2-dimensional space and plot these words in a 2-dimensional space, we might see something like this:\n",
    "\n",
    "<img src=\"https://ibm.box.com/shared/static/bqhc5dg879gcoabzhxra1w8rkg3od1cu.png\" width=\"800\">\n",
    "<center><i>T-SNE Mockup with clusters marked for easier visualization</i></center>\n",
    "<br><br>\n",
    "As you can see, words that are frequently used together, in place of each other, or in the same places as them tend to be grouped together -- being closer together the higher they are correlated. For example, \"None\" is pretty semantically close to \"Zero\", while a phrase that uses \"Italy\", you could probably also fit \"Germany\" in it, with little damage to the sentence structure. The vectorial \"closeness\" for similar words like this is a great indicator of a well-built model.\n",
    "\n",
    "<hr>\n",
    " \n"
   ]
  },
  {
   "cell_type": "markdown",
   "metadata": {},
   "source": [
    "We need to import the necessary modules for our code. We need <b><code>numpy</code></b> and <b><code>tensorflow</code></b>, obviously. Additionally, we can import directly the <b><code>tensorflow.models.rnn</code></b> model, which includes the function for building RNNs, and <b><code>tensorflow.models.rnn.ptb.reader</code></b> which is the helper module for getting the input data from the dataset we just downloaded.\n",
    "\n",
    "If you want to learn more take a look at https://github.com/tensorflow/models/blob/master/tutorials/rnn/ptb/reader.py\n"
   ]
  },
  {
   "cell_type": "code",
   "execution_count": 1,
   "metadata": {
    "tags": []
   },
   "outputs": [
    {
     "name": "stdout",
     "output_type": "stream",
     "text": [
      "Requirement already satisfied: tensorflow==2.9.0 in /home/jupyterlab/conda/envs/python/lib/python3.7/site-packages (2.9.0)\n",
      "Requirement already satisfied: absl-py>=1.0.0 in /home/jupyterlab/conda/envs/python/lib/python3.7/site-packages (from tensorflow==2.9.0) (1.4.0)\n",
      "Requirement already satisfied: astunparse>=1.6.0 in /home/jupyterlab/conda/envs/python/lib/python3.7/site-packages (from tensorflow==2.9.0) (1.6.3)\n",
      "Requirement already satisfied: flatbuffers<2,>=1.12 in /home/jupyterlab/conda/envs/python/lib/python3.7/site-packages (from tensorflow==2.9.0) (1.12)\n",
      "Requirement already satisfied: gast<=0.4.0,>=0.2.1 in /home/jupyterlab/conda/envs/python/lib/python3.7/site-packages (from tensorflow==2.9.0) (0.4.0)\n",
      "Requirement already satisfied: google-pasta>=0.1.1 in /home/jupyterlab/conda/envs/python/lib/python3.7/site-packages (from tensorflow==2.9.0) (0.2.0)\n",
      "Requirement already satisfied: grpcio<2.0,>=1.24.3 in /home/jupyterlab/conda/envs/python/lib/python3.7/site-packages (from tensorflow==2.9.0) (1.24.3)\n",
      "Requirement already satisfied: h5py>=2.9.0 in /home/jupyterlab/conda/envs/python/lib/python3.7/site-packages (from tensorflow==2.9.0) (3.8.0)\n",
      "Requirement already satisfied: keras<2.10.0,>=2.9.0rc0 in /home/jupyterlab/conda/envs/python/lib/python3.7/site-packages (from tensorflow==2.9.0) (2.9.0)\n",
      "Requirement already satisfied: keras-preprocessing>=1.1.1 in /home/jupyterlab/conda/envs/python/lib/python3.7/site-packages (from tensorflow==2.9.0) (1.1.2)\n",
      "Requirement already satisfied: libclang>=13.0.0 in /home/jupyterlab/conda/envs/python/lib/python3.7/site-packages (from tensorflow==2.9.0) (18.1.1)\n",
      "Requirement already satisfied: numpy>=1.20 in /home/jupyterlab/conda/envs/python/lib/python3.7/site-packages (from tensorflow==2.9.0) (1.21.6)\n",
      "Requirement already satisfied: opt-einsum>=2.3.2 in /home/jupyterlab/conda/envs/python/lib/python3.7/site-packages (from tensorflow==2.9.0) (3.3.0)\n",
      "Requirement already satisfied: packaging in /home/jupyterlab/conda/envs/python/lib/python3.7/site-packages (from tensorflow==2.9.0) (23.1)\n",
      "Requirement already satisfied: protobuf>=3.9.2 in /home/jupyterlab/conda/envs/python/lib/python3.7/site-packages (from tensorflow==2.9.0) (3.19.6)\n",
      "Requirement already satisfied: setuptools in /home/jupyterlab/conda/envs/python/lib/python3.7/site-packages (from tensorflow==2.9.0) (67.7.2)\n",
      "Requirement already satisfied: six>=1.12.0 in /home/jupyterlab/conda/envs/python/lib/python3.7/site-packages (from tensorflow==2.9.0) (1.16.0)\n",
      "Requirement already satisfied: tensorboard<2.10,>=2.9 in /home/jupyterlab/conda/envs/python/lib/python3.7/site-packages (from tensorflow==2.9.0) (2.9.1)\n",
      "Requirement already satisfied: tensorflow-io-gcs-filesystem>=0.23.1 in /home/jupyterlab/conda/envs/python/lib/python3.7/site-packages (from tensorflow==2.9.0) (0.34.0)\n",
      "Requirement already satisfied: tensorflow-estimator<2.10.0,>=2.9.0rc0 in /home/jupyterlab/conda/envs/python/lib/python3.7/site-packages (from tensorflow==2.9.0) (2.9.0)\n",
      "Requirement already satisfied: termcolor>=1.1.0 in /home/jupyterlab/conda/envs/python/lib/python3.7/site-packages (from tensorflow==2.9.0) (2.3.0)\n",
      "Requirement already satisfied: typing-extensions>=3.6.6 in /home/jupyterlab/conda/envs/python/lib/python3.7/site-packages (from tensorflow==2.9.0) (4.5.0)\n",
      "Requirement already satisfied: wrapt>=1.11.0 in /home/jupyterlab/conda/envs/python/lib/python3.7/site-packages (from tensorflow==2.9.0) (1.14.1)\n",
      "Requirement already satisfied: wheel<1.0,>=0.23.0 in /home/jupyterlab/conda/envs/python/lib/python3.7/site-packages (from astunparse>=1.6.0->tensorflow==2.9.0) (0.40.0)\n",
      "Requirement already satisfied: google-auth<3,>=1.6.3 in /home/jupyterlab/conda/envs/python/lib/python3.7/site-packages (from tensorboard<2.10,>=2.9->tensorflow==2.9.0) (2.35.0)\n",
      "Requirement already satisfied: google-auth-oauthlib<0.5,>=0.4.1 in /home/jupyterlab/conda/envs/python/lib/python3.7/site-packages (from tensorboard<2.10,>=2.9->tensorflow==2.9.0) (0.4.6)\n",
      "Requirement already satisfied: markdown>=2.6.8 in /home/jupyterlab/conda/envs/python/lib/python3.7/site-packages (from tensorboard<2.10,>=2.9->tensorflow==2.9.0) (3.4.3)\n",
      "Requirement already satisfied: requests<3,>=2.21.0 in /home/jupyterlab/conda/envs/python/lib/python3.7/site-packages (from tensorboard<2.10,>=2.9->tensorflow==2.9.0) (2.29.0)\n",
      "Requirement already satisfied: tensorboard-data-server<0.7.0,>=0.6.0 in /home/jupyterlab/conda/envs/python/lib/python3.7/site-packages (from tensorboard<2.10,>=2.9->tensorflow==2.9.0) (0.6.1)\n",
      "Requirement already satisfied: tensorboard-plugin-wit>=1.6.0 in /home/jupyterlab/conda/envs/python/lib/python3.7/site-packages (from tensorboard<2.10,>=2.9->tensorflow==2.9.0) (1.8.1)\n",
      "Requirement already satisfied: werkzeug>=1.0.1 in /home/jupyterlab/conda/envs/python/lib/python3.7/site-packages (from tensorboard<2.10,>=2.9->tensorflow==2.9.0) (2.2.3)\n",
      "Requirement already satisfied: cachetools<6.0,>=2.0.0 in /home/jupyterlab/conda/envs/python/lib/python3.7/site-packages (from google-auth<3,>=1.6.3->tensorboard<2.10,>=2.9->tensorflow==2.9.0) (5.5.0)\n",
      "Requirement already satisfied: pyasn1-modules>=0.2.1 in /home/jupyterlab/conda/envs/python/lib/python3.7/site-packages (from google-auth<3,>=1.6.3->tensorboard<2.10,>=2.9->tensorflow==2.9.0) (0.3.0)\n",
      "Requirement already satisfied: rsa<5,>=3.1.4 in /home/jupyterlab/conda/envs/python/lib/python3.7/site-packages (from google-auth<3,>=1.6.3->tensorboard<2.10,>=2.9->tensorflow==2.9.0) (4.9)\n",
      "Requirement already satisfied: requests-oauthlib>=0.7.0 in /home/jupyterlab/conda/envs/python/lib/python3.7/site-packages (from google-auth-oauthlib<0.5,>=0.4.1->tensorboard<2.10,>=2.9->tensorflow==2.9.0) (2.0.0)\n",
      "Requirement already satisfied: importlib-metadata>=4.4 in /home/jupyterlab/conda/envs/python/lib/python3.7/site-packages (from markdown>=2.6.8->tensorboard<2.10,>=2.9->tensorflow==2.9.0) (4.11.4)\n",
      "Requirement already satisfied: charset-normalizer<4,>=2 in /home/jupyterlab/conda/envs/python/lib/python3.7/site-packages (from requests<3,>=2.21.0->tensorboard<2.10,>=2.9->tensorflow==2.9.0) (3.1.0)\n",
      "Requirement already satisfied: idna<4,>=2.5 in /home/jupyterlab/conda/envs/python/lib/python3.7/site-packages (from requests<3,>=2.21.0->tensorboard<2.10,>=2.9->tensorflow==2.9.0) (3.4)\n",
      "Requirement already satisfied: urllib3<1.27,>=1.21.1 in /home/jupyterlab/conda/envs/python/lib/python3.7/site-packages (from requests<3,>=2.21.0->tensorboard<2.10,>=2.9->tensorflow==2.9.0) (1.26.15)\n",
      "Requirement already satisfied: certifi>=2017.4.17 in /home/jupyterlab/conda/envs/python/lib/python3.7/site-packages (from requests<3,>=2.21.0->tensorboard<2.10,>=2.9->tensorflow==2.9.0) (2023.5.7)\n",
      "Requirement already satisfied: MarkupSafe>=2.1.1 in /home/jupyterlab/conda/envs/python/lib/python3.7/site-packages (from werkzeug>=1.0.1->tensorboard<2.10,>=2.9->tensorflow==2.9.0) (2.1.1)\n",
      "Requirement already satisfied: zipp>=0.5 in /home/jupyterlab/conda/envs/python/lib/python3.7/site-packages (from importlib-metadata>=4.4->markdown>=2.6.8->tensorboard<2.10,>=2.9->tensorflow==2.9.0) (3.15.0)\n",
      "Requirement already satisfied: pyasn1<0.6.0,>=0.4.6 in /home/jupyterlab/conda/envs/python/lib/python3.7/site-packages (from pyasn1-modules>=0.2.1->google-auth<3,>=1.6.3->tensorboard<2.10,>=2.9->tensorflow==2.9.0) (0.5.0)\n",
      "Requirement already satisfied: oauthlib>=3.0.0 in /home/jupyterlab/conda/envs/python/lib/python3.7/site-packages (from requests-oauthlib>=0.7.0->google-auth-oauthlib<0.5,>=0.4.1->tensorboard<2.10,>=2.9->tensorflow==2.9.0) (3.2.2)\n",
      "Collecting numpy==1.21.4\n",
      "  Downloading numpy-1.21.4-cp37-cp37m-manylinux_2_12_x86_64.manylinux2010_x86_64.whl (15.7 MB)\n",
      "\u001b[2K     \u001b[90m━━━━━━━━━━━━━━━━━━━━━━━━━━━━━━━━━━━━━━━━\u001b[0m \u001b[32m15.7/15.7 MB\u001b[0m \u001b[31m70.1 MB/s\u001b[0m eta \u001b[36m0:00:00\u001b[0m00:01\u001b[0m00:01\u001b[0m\n",
      "\u001b[?25hInstalling collected packages: numpy\n",
      "  Attempting uninstall: numpy\n",
      "    Found existing installation: numpy 1.21.6\n",
      "    Uninstalling numpy-1.21.6:\n",
      "      Successfully uninstalled numpy-1.21.6\n",
      "\u001b[31mERROR: pip's dependency resolver does not currently take into account all the packages that are installed. This behaviour is the source of the following dependency conflicts.\n",
      "torchaudio 0.13.1+cpu requires torch==1.13.1, but you have torch 1.8.1 which is incompatible.\u001b[0m\u001b[31m\n",
      "\u001b[0mSuccessfully installed numpy-1.21.4\n"
     ]
    }
   ],
   "source": [
    "!pip install tensorflow==2.9.0\n",
    "!pip install numpy==1.21.4\n"
   ]
  },
  {
   "cell_type": "code",
   "execution_count": 1,
   "metadata": {
    "tags": []
   },
   "outputs": [
    {
     "name": "stderr",
     "output_type": "stream",
     "text": [
      "2024-10-06 17:53:08.270465: I tensorflow/core/util/util.cc:169] oneDNN custom operations are on. You may see slightly different numerical results due to floating-point round-off errors from different computation orders. To turn them off, set the environment variable `TF_ENABLE_ONEDNN_OPTS=0`.\n",
      "2024-10-06 17:53:08.280214: W tensorflow/stream_executor/platform/default/dso_loader.cc:64] Could not load dynamic library 'libcudart.so.11.0'; dlerror: libcudart.so.11.0: cannot open shared object file: No such file or directory\n",
      "2024-10-06 17:53:08.280252: I tensorflow/stream_executor/cuda/cudart_stub.cc:29] Ignore above cudart dlerror if you do not have a GPU set up on your machine.\n"
     ]
    }
   ],
   "source": [
    "import time\n",
    "import numpy as np\n",
    "import tensorflow as tf\n",
    "if not tf.__version__ == '2.9.0':\n",
    "    print(tf.__version__)\n",
    "    raise ValueError('please upgrade to TensorFlow 2.9.0, or restart your Kernel (Kernel->Restart & Clear Output)')"
   ]
  },
  {
   "cell_type": "markdown",
   "metadata": {},
   "source": [
    "IMPORTANT! => Please restart the kernel by clicking on \"Kernel\"->\"Restart and Clear Outout\" and wait until all output disapears. Then your changes are beeing picked up\n"
   ]
  },
  {
   "cell_type": "code",
   "execution_count": 2,
   "metadata": {
    "tags": []
   },
   "outputs": [],
   "source": [
    "#!mkdir data\n",
    "#!mkdir data/ptb\n",
    "#!wget -q -O data/ptb/reader.py https://cf-courses-data.s3.us.cloud-object-storage.appdomain.cloud/IBMDeveloperSkillsNetwork-DL0120EN-SkillsNetwork/labs/Week3/data/ptb/reader.py\n",
    "#!cp data/ptb/reader.py .\n",
    "\n"
   ]
  },
  {
   "cell_type": "code",
   "execution_count": 3,
   "metadata": {
    "tags": []
   },
   "outputs": [],
   "source": [
    "# Copyright 2015 The TensorFlow Authors. All Rights Reserved.\n",
    "#\n",
    "# Licensed under the Apache License, Version 2.0 (the \"License\");\n",
    "# you may not use this file except in compliance with the License.\n",
    "# You may obtain a copy of the License at\n",
    "#\n",
    "#     http://www.apache.org/licenses/LICENSE-2.0\n",
    "#\n",
    "# Unless required by applicable law or agreed to in writing, software\n",
    "# distributed under the License is distributed on an \"AS IS\" BASIS,\n",
    "# WITHOUT WARRANTIES OR CONDITIONS OF ANY KIND, either express or implied.\n",
    "# See the License for the specific language governing permissions and\n",
    "# limitations under the License.\n",
    "# ==============================================================================\n",
    "\n",
    "\n",
    "\"\"\"Utilities for parsing PTB text files.\"\"\"\n",
    "from __future__ import absolute_import\n",
    "from __future__ import division\n",
    "from __future__ import print_function\n",
    "\n",
    "import collections\n",
    "import os\n",
    "\n",
    "import numpy as np\n",
    "import tensorflow as tf\n",
    "\n",
    "\n",
    "def _read_words(filename):\n",
    "  with tf.io.gfile.GFile(filename, \"r\") as f:\n",
    "    return f.read().replace(\"\\n\", \"<eos>\").split()\n",
    "\n",
    "\n",
    "def _build_vocab(filename):\n",
    "  data = _read_words(filename)\n",
    "\n",
    "  counter = collections.Counter(data)\n",
    "  count_pairs = sorted(counter.items(), key=lambda x: (-x[1], x[0]))\n",
    "\n",
    "  words, _ = list(zip(*count_pairs))\n",
    "  word_to_id = dict(zip(words, range(len(words))))\n",
    "\n",
    "  return word_to_id\n",
    "\n",
    "\n",
    "def _file_to_word_ids(filename, word_to_id):\n",
    "  data = _read_words(filename)\n",
    "  return [word_to_id[word] for word in data if word in word_to_id]\n",
    "\n",
    "\n",
    "def ptb_raw_data(data_path=None):\n",
    "  \"\"\"Load PTB raw data from data directory \"data_path\".\n",
    "\n",
    "  Reads PTB text files, converts strings to integer ids,\n",
    "  and performs mini-batching of the inputs.\n",
    "\n",
    "  The PTB dataset comes from Tomas Mikolov's webpage:\n",
    "\n",
    "  http://www.fit.vutbr.cz/~imikolov/rnnlm/simple-examples.tgz\n",
    "\n",
    "  Args:\n",
    "    data_path: string path to the directory where simple-examples.tgz has\n",
    "      been extracted.\n",
    "\n",
    "  Returns:\n",
    "    tuple (train_data, valid_data, test_data, vocabulary)\n",
    "    where each of the data objects can be passed to PTBIterator.\n",
    "  \"\"\"\n",
    "\n",
    "  train_path = os.path.join(data_path, \"ptb.train.txt\")\n",
    "  valid_path = os.path.join(data_path, \"ptb.valid.txt\")\n",
    "  test_path = os.path.join(data_path, \"ptb.test.txt\")\n",
    "\n",
    "  word_to_id = _build_vocab(train_path)\n",
    "  train_data = _file_to_word_ids(train_path, word_to_id)\n",
    "  valid_data = _file_to_word_ids(valid_path, word_to_id)\n",
    "  test_data = _file_to_word_ids(test_path, word_to_id)\n",
    "  vocabulary = len(word_to_id)\n",
    "  return train_data, valid_data, test_data, vocabulary, word_to_id\n",
    "\n",
    "\n",
    "def ptb_iterator(raw_data, batch_size, num_steps):\n",
    "  \"\"\"Iterate on the raw PTB data.\n",
    "\n",
    "  This generates batch_size pointers into the raw PTB data, and allows\n",
    "  minibatch iteration along these pointers.\n",
    "\n",
    "  Args:\n",
    "    raw_data: one of the raw data outputs from ptb_raw_data.\n",
    "    batch_size: int, the batch size.\n",
    "    num_steps: int, the number of unrolls.\n",
    "\n",
    "  Yields:\n",
    "    Pairs of the batched data, each a matrix of shape [batch_size, num_steps].\n",
    "    The second element of the tuple is the same data time-shifted to the\n",
    "    right by one.\n",
    "\n",
    "  Raises:\n",
    "    ValueError: if batch_size or num_steps are too high.\n",
    "  \"\"\"\n",
    "  raw_data = np.array(raw_data, dtype=np.int32)\n",
    "\n",
    "  data_len = len(raw_data)\n",
    "  batch_len = data_len // batch_size\n",
    "  data = np.zeros([batch_size, batch_len], dtype=np.int32)\n",
    "  for i in range(batch_size):\n",
    "    data[i] = raw_data[batch_len * i:batch_len * (i + 1)]\n",
    "\n",
    "  epoch_size = (batch_len - 1) // num_steps\n",
    "\n",
    "  if epoch_size == 0:\n",
    "    raise ValueError(\"epoch_size == 0, decrease batch_size or num_steps\")\n",
    "\n",
    "  for i in range(epoch_size):\n",
    "    x = data[:, i*num_steps:(i+1)*num_steps]\n",
    "    y = data[:, i*num_steps+1:(i+1)*num_steps+1]\n",
    "    yield (x, y)"
   ]
  },
  {
   "cell_type": "markdown",
   "metadata": {},
   "source": [
    "<a id=\"building_lstm_model\"></a>\n",
    "<h2>Building the LSTM model for Language Modeling</h2>\n",
    "Now that we know exactly what we are doing, we can start building our model using TensorFlow. The very first thing we need to do is download and extract the  dataset, which can be done by executing the code cell below.\n"
   ]
  },
  {
   "cell_type": "code",
   "execution_count": 4,
   "metadata": {
    "tags": []
   },
   "outputs": [
    {
     "name": "stdout",
     "output_type": "stream",
     "text": [
      "--2024-10-06 17:53:10--  https://cf-courses-data.s3.us.cloud-object-storage.appdomain.cloud/SPqCgT4JZp9royRjGgbqSA/data.zip\n",
      "Resolving cf-courses-data.s3.us.cloud-object-storage.appdomain.cloud (cf-courses-data.s3.us.cloud-object-storage.appdomain.cloud)... 169.63.118.104, 169.63.118.104\n",
      "Connecting to cf-courses-data.s3.us.cloud-object-storage.appdomain.cloud (cf-courses-data.s3.us.cloud-object-storage.appdomain.cloud)|169.63.118.104|:443... connected.\n",
      "HTTP request sent, awaiting response... 200 OK\n",
      "Length: 2020687 (1.9M) [application/zip]\n",
      "Saving to: ‘data.zip.1’\n",
      "\n",
      "data.zip.1          100%[===================>]   1.93M  --.-KB/s    in 0.04s   \n",
      "\n",
      "2024-10-06 17:53:11 (51.6 MB/s) - ‘data.zip.1’ saved [2020687/2020687]\n",
      "\n",
      "Archive:  data.zip\n",
      "  inflating: data/ptb.test.txt       \n",
      "  inflating: data/ptb.train.txt      \n",
      "  inflating: data/ptb.valid.txt      \n"
     ]
    }
   ],
   "source": [
    "!wget https://cf-courses-data.s3.us.cloud-object-storage.appdomain.cloud/SPqCgT4JZp9royRjGgbqSA/data.zip\n",
    "!unzip -o data.zip"
   ]
  },
  {
   "cell_type": "markdown",
   "metadata": {},
   "source": [
    "Additionally, for the sake of making it easy to play around with the model's hyperparameters, we can declare them beforehand. Feel free to change these -- you will see a difference in performance each time you change those!  \n"
   ]
  },
  {
   "cell_type": "code",
   "execution_count": 5,
   "metadata": {
    "tags": []
   },
   "outputs": [],
   "source": [
    "#Initial weight scale\n",
    "init_scale = 0.1\n",
    "#Initial learning rate\n",
    "learning_rate = 1.0\n",
    "#Maximum permissible norm for the gradient (For gradient clipping -- another measure against Exploding Gradients)\n",
    "max_grad_norm = 5\n",
    "#The number of layers in our model\n",
    "num_layers = 2\n",
    "#The total number of recurrence steps, also known as the number of layers when our RNN is \"unfolded\"\n",
    "num_steps = 20\n",
    "#The number of processing units (neurons) in the hidden layers\n",
    "hidden_size_l1 = 256\n",
    "hidden_size_l2 = 128\n",
    "#The maximum number of epochs trained with the initial learning rate\n",
    "max_epoch_decay_lr = 4\n",
    "#The total number of epochs in training\n",
    "max_epoch = 15\n",
    "#The probability for keeping data in the Dropout Layer (This is an optimization, but is outside our scope for this notebook!)\n",
    "#At 1, we ignore the Dropout Layer wrapping.\n",
    "keep_prob = 1\n",
    "#The decay for the learning rate\n",
    "decay = 0.5\n",
    "#The size for each batch of data\n",
    "batch_size = 30\n",
    "#The size of our vocabulary\n",
    "vocab_size = 10000\n",
    "embeding_vector_size= 200\n",
    "#Training flag to separate training from testing\n",
    "is_training = 1\n",
    "#Data directory for our dataset\n",
    "data_dir = \"data\""
   ]
  },
  {
   "cell_type": "markdown",
   "metadata": {},
   "source": [
    "Some clarifications for LSTM architecture based on the arguments:\n",
    "\n",
    "Network structure:\n",
    "<ul>\n",
    "    <li>In this network, the number of LSTM cells are 2. To give the model more expressive power, we can add multiple layers of LSTMs to process the data. The output of the first layer will become the input of the second and so on.\n",
    "    </li>\n",
    "    <li>The recurrence steps is 20, that is, when our RNN is \"Unfolded\", the recurrence step is 20.</li>   \n",
    "    <li>the structure is like:\n",
    "        <ul>\n",
    "            <li>200 input units -> [200x200] Weight -> 200 Hidden units (first layer) -> [200x200] Weight matrix  -> 200 Hidden units (second layer) ->  [200] weight Matrix -> 200 unit output</li>\n",
    "        </ul>\n",
    "    </li>\n",
    "</ul>\n",
    "<br>\n",
    "\n",
    "Input layer: \n",
    "<ul>\n",
    "    <li>The network has 200 input units.</li>\n",
    "    <li>Suppose each word is represented by an embedding vector of dimensionality e=200. The input layer of each cell will have 200 linear units. These e=200 linear units are connected to each of the h=200 LSTM units in the hidden layer (assuming there is only one hidden layer, though our case has 2 layers).\n",
    "    </li>\n",
    "    <li>The input shape is [batch_size, num_steps], that is [30x20]. It will turn into [30x20x200] after embedding, and then 20x[30x200]\n",
    "    </li>\n",
    "</ul>\n",
    "<br>\n",
    "\n",
    "Hidden layer:\n",
    "<ul>\n",
    "    <li>Each LSTM has 200 hidden units which is equivalent to the dimensionality of the embedding words and output.</li>\n",
    "</ul>\n",
    "<br>\n"
   ]
  },
  {
   "cell_type": "markdown",
   "metadata": {},
   "source": [
    "There is a lot to be done and a ton of information to process at the same time, so go over this code slowly. It may seem complex at first, but if you try to apply what you just learned about language modelling to the code you see, you should be able to understand it.\n",
    "\n",
    "This code is adapted from the <a href=\"https://github.com/tensorflow/models\">PTBModel</a> example bundled with the TensorFlow source code.\n",
    "\n",
    "\n",
    "<h3>Training data</h3>\n",
    "The story starts from data:\n",
    "<ul>\n",
    "    <li>Train data is a list of words, of size 929589, represented by numbers, e.g. [9971, 9972, 9974, 9975,...]</li>\n",
    "    <li>We read data as mini-batch of size b=30. Assume the size of each sentence is 20 words (num_steps = 20). Then it will take $$floor(\\frac{N}{b \\times h})+1=1548$$ iterations for the learner to go through all sentences once. Where N is the size of the list of words, b is batch size, and h is size of each sentence. So, the number of iterators is 1548\n",
    "    </li>\n",
    "    <li>Each batch data is read from train dataset of size 600, and shape of [30x20]</li>\n",
    "</ul>\n"
   ]
  },
  {
   "cell_type": "code",
   "execution_count": 6,
   "metadata": {
    "tags": []
   },
   "outputs": [],
   "source": [
    "# Reads the data and separates it into training data, validation data and testing data\n",
    "raw_data = ptb_raw_data(data_dir)\n",
    "train_data, valid_data, test_data, vocab, word_to_id = raw_data"
   ]
  },
  {
   "cell_type": "code",
   "execution_count": 7,
   "metadata": {
    "tags": []
   },
   "outputs": [
    {
     "data": {
      "text/plain": [
       "929589"
      ]
     },
     "execution_count": 7,
     "metadata": {},
     "output_type": "execute_result"
    }
   ],
   "source": [
    "len(train_data)"
   ]
  },
  {
   "cell_type": "code",
   "execution_count": 8,
   "metadata": {
    "tags": []
   },
   "outputs": [
    {
     "name": "stdout",
     "output_type": "stream",
     "text": [
      "['aer', 'banknote', 'berlitz', 'calloway', 'centrust', 'cluett', 'fromstein', 'gitano', 'guterman', 'hydro-quebec', 'ipo', 'kia', 'memotec', 'mlx', 'nahb', 'punts', 'rake', 'regatta', 'rubens', 'sim', 'snack-food', 'ssangyong', 'swapo', 'wachter', '<eos>', 'pierre', '<unk>', 'N', 'years', 'old', 'will', 'join', 'the', 'board', 'as', 'a', 'nonexecutive', 'director', 'nov.', 'N', '<eos>', 'mr.', '<unk>', 'is', 'chairman', 'of', '<unk>', 'n.v.', 'the', 'dutch', 'publishing', 'group', '<eos>', 'rudolph', '<unk>', 'N', 'years', 'old', 'and', 'former', 'chairman', 'of', 'consolidated', 'gold', 'fields', 'plc', 'was', 'named', 'a', 'nonexecutive', 'director', 'of', 'this', 'british', 'industrial', 'conglomerate', '<eos>', 'a', 'form', 'of', 'asbestos', 'once', 'used', 'to', 'make', 'kent', 'cigarette', 'filters', 'has', 'caused', 'a', 'high', 'percentage', 'of', 'cancer', 'deaths', 'among', 'a', 'group', 'of']\n"
     ]
    }
   ],
   "source": [
    "def id_to_word(id_list):\n",
    "    line = []\n",
    "    for w in id_list:\n",
    "        for word, wid in word_to_id.items():\n",
    "            if wid == w:\n",
    "                line.append(word)\n",
    "    return line            \n",
    "                \n",
    "\n",
    "print(id_to_word(train_data[0:100]))"
   ]
  },
  {
   "cell_type": "markdown",
   "metadata": {},
   "source": [
    "Lets just read one mini-batch now and feed our network:\n"
   ]
  },
  {
   "cell_type": "code",
   "execution_count": 9,
   "metadata": {
    "tags": []
   },
   "outputs": [],
   "source": [
    "itera = ptb_iterator(train_data, batch_size, num_steps)\n",
    "first_touple = itera.__next__()\n",
    "_input_data = first_touple[0]\n",
    "_targets = first_touple[1]"
   ]
  },
  {
   "cell_type": "code",
   "execution_count": 10,
   "metadata": {
    "tags": []
   },
   "outputs": [
    {
     "data": {
      "text/plain": [
       "(30, 20)"
      ]
     },
     "execution_count": 10,
     "metadata": {},
     "output_type": "execute_result"
    }
   ],
   "source": [
    "_input_data.shape"
   ]
  },
  {
   "cell_type": "code",
   "execution_count": 11,
   "metadata": {
    "tags": []
   },
   "outputs": [
    {
     "data": {
      "text/plain": [
       "(30, 20)"
      ]
     },
     "execution_count": 11,
     "metadata": {},
     "output_type": "execute_result"
    }
   ],
   "source": [
    "_targets.shape"
   ]
  },
  {
   "cell_type": "markdown",
   "metadata": {},
   "source": [
    "Lets look at 3 sentences of our input x:\n"
   ]
  },
  {
   "cell_type": "code",
   "execution_count": 12,
   "metadata": {
    "tags": []
   },
   "outputs": [
    {
     "data": {
      "text/plain": [
       "array([[9970, 9971, 9972, 9974, 9975, 9976, 9980, 9981, 9982, 9983, 9984,\n",
       "        9986, 9987, 9988, 9989, 9991, 9992, 9993, 9994, 9995],\n",
       "       [2654,    6,  334, 2886,    4,    1,  233,  711,  834,   11,  130,\n",
       "         123,    7,  514,    2,   63,   10,  514,    8,  605],\n",
       "       [   0, 1071,    4,    0,  185,   24,  368,   20,   31, 3109,  954,\n",
       "          12,    3,   21,    2, 2915,    2,   12,    3,   21]],\n",
       "      dtype=int32)"
      ]
     },
     "execution_count": 12,
     "metadata": {},
     "output_type": "execute_result"
    }
   ],
   "source": [
    "_input_data[0:3]"
   ]
  },
  {
   "cell_type": "code",
   "execution_count": 13,
   "metadata": {
    "tags": []
   },
   "outputs": [
    {
     "name": "stdout",
     "output_type": "stream",
     "text": [
      "['aer', 'banknote', 'berlitz', 'calloway', 'centrust', 'cluett', 'fromstein', 'gitano', 'guterman', 'hydro-quebec', 'ipo', 'kia', 'memotec', 'mlx', 'nahb', 'punts', 'rake', 'regatta', 'rubens', 'sim']\n"
     ]
    }
   ],
   "source": [
    "print(id_to_word(_input_data[0,:]))"
   ]
  },
  {
   "cell_type": "markdown",
   "metadata": {},
   "source": [
    "<h3>Embeddings</h3>\n",
    "We have to convert the words in our dataset to vectors of numbers. The traditional approach is to use one-hot encoding method that is usually used for converting categorical values to numerical values. However, One-hot encoded vectors are high-dimensional, sparse and in a big dataset, computationally inefficient. So, we use word2vec approach. It is, in fact, a layer in our LSTM network, where the word IDs will be represented as a dense representation before feeding to the LSTM. \n",
    "\n",
    "The embedded vectors also get updated during the training process of the deep neural network.\n",
    "We create the embeddings for our input data. <b>embedding_vocab</b> is matrix of [10000x200] for all 10000 unique words.\n"
   ]
  },
  {
   "cell_type": "markdown",
   "metadata": {},
   "source": [
    "<b>embedding_lookup()</b> finds the embedded values for our batch of 30x20 words. It  goes to each row of <code>input_data</code>, and for each word in the row/sentence, finds the correspond vector in <code>embedding_dic<code>. <br>\n",
    "It creates a [30x20x200] tensor, so, the first element of <b>inputs</b> (the first sentence), is a matrix of 20x200, which each row of it, is vector representing a word in the sentence.\n"
   ]
  },
  {
   "cell_type": "code",
   "execution_count": 14,
   "metadata": {
    "tags": []
   },
   "outputs": [],
   "source": [
    "embedding_layer = tf.keras.layers.Embedding(vocab_size, embeding_vector_size,batch_input_shape=(batch_size, num_steps),trainable=True,name=\"embedding_vocab\")  "
   ]
  },
  {
   "cell_type": "code",
   "execution_count": 15,
   "metadata": {
    "tags": []
   },
   "outputs": [
    {
     "name": "stderr",
     "output_type": "stream",
     "text": [
      "2024-10-06 17:53:13.753745: W tensorflow/stream_executor/platform/default/dso_loader.cc:64] Could not load dynamic library 'libcuda.so.1'; dlerror: libcuda.so.1: cannot open shared object file: No such file or directory\n",
      "2024-10-06 17:53:13.753840: W tensorflow/stream_executor/cuda/cuda_driver.cc:269] failed call to cuInit: UNKNOWN ERROR (303)\n",
      "2024-10-06 17:53:13.753878: I tensorflow/stream_executor/cuda/cuda_diagnostics.cc:156] kernel driver does not appear to be running on this host (jupyterlab-clarson1229): /proc/driver/nvidia/version does not exist\n",
      "2024-10-06 17:53:13.754505: I tensorflow/core/platform/cpu_feature_guard.cc:193] This TensorFlow binary is optimized with oneAPI Deep Neural Network Library (oneDNN) to use the following CPU instructions in performance-critical operations:  AVX2 AVX512F AVX512_VNNI FMA\n",
      "To enable them in other operations, rebuild TensorFlow with the appropriate compiler flags.\n"
     ]
    },
    {
     "data": {
      "text/plain": [
       "<tf.Tensor: shape=(30, 20, 200), dtype=float32, numpy=\n",
       "array([[[-4.49921377e-02,  7.41959736e-03,  4.16294970e-02, ...,\n",
       "         -2.29438785e-02,  2.26839669e-02, -4.40841317e-02],\n",
       "        [ 4.50149812e-02,  4.66842167e-02, -7.46036693e-03, ...,\n",
       "          4.29832675e-02, -4.26786058e-02, -1.72704831e-02],\n",
       "        [ 3.21302451e-02, -6.10035658e-03, -8.96821171e-03, ...,\n",
       "          4.32479493e-02,  3.34493071e-03, -4.44462150e-03],\n",
       "        ...,\n",
       "        [-1.36122927e-02,  2.32254378e-02, -2.22965367e-02, ...,\n",
       "          4.01028134e-02,  3.57820131e-02, -4.50637452e-02],\n",
       "        [-4.57193516e-02, -1.50598213e-03,  1.30095333e-03, ...,\n",
       "          3.84961851e-02, -1.47506222e-02,  1.48723014e-02],\n",
       "        [-4.26116958e-02,  4.31540124e-02, -2.02246904e-02, ...,\n",
       "          4.66033854e-02, -6.96344301e-03,  4.11629565e-02]],\n",
       "\n",
       "       [[ 1.62221529e-02, -2.19583157e-02,  1.32530443e-02, ...,\n",
       "          1.17182843e-02, -3.95989530e-02, -6.51121140e-04],\n",
       "        [ 3.33810188e-02,  4.56345715e-02, -1.32033005e-02, ...,\n",
       "         -1.42585039e-02, -2.00243127e-02,  1.09763853e-02],\n",
       "        [ 7.43491575e-03, -1.59718879e-02, -1.55257359e-02, ...,\n",
       "         -4.20093536e-03, -1.17226020e-02,  3.22819985e-02],\n",
       "        ...,\n",
       "        [ 3.54052708e-03, -1.57134049e-02, -8.83424282e-03, ...,\n",
       "         -2.63667349e-02, -5.50509617e-03, -3.98555622e-02],\n",
       "        [-3.45041268e-02, -8.47159699e-03, -8.55696201e-03, ...,\n",
       "          6.53278083e-04, -1.25640854e-02,  1.05689056e-02],\n",
       "        [ 2.99893953e-02,  4.71858867e-02, -1.03488564e-05, ...,\n",
       "         -1.41662955e-02,  2.98458077e-02,  2.58967392e-02]],\n",
       "\n",
       "       [[-5.23693487e-03, -7.70305470e-03,  9.88398865e-03, ...,\n",
       "         -3.39927822e-02,  3.02698053e-02,  4.05275263e-02],\n",
       "        [ 3.47237326e-02, -1.50766969e-02,  4.40528877e-02, ...,\n",
       "         -4.96394634e-02,  3.10878046e-02, -3.24440598e-02],\n",
       "        [-3.35463174e-02, -7.94539601e-03, -9.95719433e-03, ...,\n",
       "         -3.39910537e-02,  6.76363707e-03,  1.26073845e-02],\n",
       "        ...,\n",
       "        [ 1.69447772e-02,  1.35741718e-02, -2.01567765e-02, ...,\n",
       "          3.50129716e-02,  1.19793639e-02, -2.95953751e-02],\n",
       "        [-4.84475605e-02,  3.06407921e-02,  3.20942737e-02, ...,\n",
       "          3.23045515e-02, -4.79681976e-02,  2.70258076e-02],\n",
       "        [-2.02447902e-02,  4.44396473e-02,  2.96280719e-02, ...,\n",
       "          2.82416493e-03,  3.68326567e-02,  9.04271752e-03]],\n",
       "\n",
       "       ...,\n",
       "\n",
       "       [[-1.18746534e-02, -2.82276627e-02, -3.49708311e-02, ...,\n",
       "         -1.24438852e-03,  4.53293659e-02,  1.98451616e-02],\n",
       "        [ 4.05182280e-02, -3.60646099e-03,  3.67388166e-02, ...,\n",
       "         -4.56190109e-02, -2.93739792e-02, -4.02423516e-02],\n",
       "        [ 2.40110271e-02, -1.46996863e-02, -3.14520970e-02, ...,\n",
       "         -2.86572333e-02, -3.52147222e-02,  4.15429138e-02],\n",
       "        ...,\n",
       "        [-2.22521666e-02,  1.53377987e-02, -2.94702891e-02, ...,\n",
       "         -1.81501992e-02,  4.96543683e-02,  3.65286134e-02],\n",
       "        [-1.45462155e-02, -4.73320484e-02,  4.23204936e-02, ...,\n",
       "         -2.33358387e-02,  3.32446732e-02, -3.29747349e-02],\n",
       "        [-2.32074615e-02,  1.78202055e-02, -2.31720563e-02, ...,\n",
       "         -3.69349718e-02,  1.10063925e-02, -3.66031304e-02]],\n",
       "\n",
       "       [[ 4.96889837e-02, -1.76636949e-02, -4.48107831e-02, ...,\n",
       "         -6.20541722e-03,  9.70442221e-03, -3.81200090e-02],\n",
       "        [ 5.89609146e-04,  3.97685431e-02,  4.06110287e-03, ...,\n",
       "         -4.93001230e-02,  2.71443278e-03,  3.66101377e-02],\n",
       "        [-3.35463174e-02, -7.94539601e-03, -9.95719433e-03, ...,\n",
       "         -3.39910537e-02,  6.76363707e-03,  1.26073845e-02],\n",
       "        ...,\n",
       "        [-1.90839916e-03, -3.32219154e-02,  4.84251268e-02, ...,\n",
       "          3.86689566e-02, -2.80700922e-02,  1.69840716e-02],\n",
       "        [ 3.33810188e-02,  4.56345715e-02, -1.32033005e-02, ...,\n",
       "         -1.42585039e-02, -2.00243127e-02,  1.09763853e-02],\n",
       "        [ 3.09993140e-02, -1.00365877e-02,  1.29618756e-02, ...,\n",
       "          1.15046389e-02,  1.93106420e-02,  1.61781199e-02]],\n",
       "\n",
       "       [[ 3.97142507e-02,  4.35263775e-02,  9.74915177e-03, ...,\n",
       "         -1.32606402e-02, -3.87030840e-02, -2.72292979e-02],\n",
       "        [-3.42064500e-02,  3.64933722e-02,  6.04588911e-03, ...,\n",
       "          2.32185163e-02, -3.29084024e-02,  7.99298286e-03],\n",
       "        [-4.61886302e-02, -1.84204094e-02, -2.59429812e-02, ...,\n",
       "         -3.30874920e-02, -1.96937323e-02,  1.28238685e-02],\n",
       "        ...,\n",
       "        [-2.74984911e-03, -1.50628313e-02, -1.00969784e-02, ...,\n",
       "         -2.52935532e-02, -1.42182223e-02,  7.67482445e-03],\n",
       "        [-1.81348249e-03, -2.10523605e-04,  2.02319883e-02, ...,\n",
       "         -1.62198171e-02, -3.83557081e-02, -1.63192526e-02],\n",
       "        [-1.04812756e-02,  3.10878828e-03,  4.17712592e-02, ...,\n",
       "         -2.02672370e-02, -7.96028227e-03,  4.66401838e-02]]],\n",
       "      dtype=float32)>"
      ]
     },
     "execution_count": 15,
     "metadata": {},
     "output_type": "execute_result"
    }
   ],
   "source": [
    "# Define where to get the data for our embeddings from\n",
    "inputs = embedding_layer(_input_data)\n",
    "inputs"
   ]
  },
  {
   "cell_type": "markdown",
   "metadata": {},
   "source": [
    "<h3>Constructing Recurrent Neural Networks</h3>\n"
   ]
  },
  {
   "cell_type": "markdown",
   "metadata": {},
   "source": [
    "In this step, we create the stacked LSTM using <b>tf.keras.layers.StackedRNNCells</b>, which is a 2 layer LSTM network:\n"
   ]
  },
  {
   "cell_type": "code",
   "execution_count": 16,
   "metadata": {
    "tags": []
   },
   "outputs": [],
   "source": [
    "lstm_cell_l1 = tf.keras.layers.LSTMCell(hidden_size_l1)\n",
    "lstm_cell_l2 = tf.keras.layers.LSTMCell(hidden_size_l2)"
   ]
  },
  {
   "cell_type": "code",
   "execution_count": 17,
   "metadata": {
    "tags": []
   },
   "outputs": [],
   "source": [
    "stacked_lstm = tf.keras.layers.StackedRNNCells([lstm_cell_l1, lstm_cell_l2])"
   ]
  },
  {
   "cell_type": "markdown",
   "metadata": {},
   "source": [
    "<b>tf.keras.layers.RNN</b> creates a recurrent neural network using <b>stacked_lstm</b>. \n",
    "\n",
    "The input should be a Tensor of shape: [batch_size, max_time, embedding_vector_size], in our case it would be (30, 20, 200)\n"
   ]
  },
  {
   "cell_type": "code",
   "execution_count": 18,
   "metadata": {
    "tags": []
   },
   "outputs": [],
   "source": [
    "layer  =  tf.keras.layers.RNN(stacked_lstm,[batch_size, num_steps],return_state=False,stateful=True,trainable=True)"
   ]
  },
  {
   "cell_type": "markdown",
   "metadata": {},
   "source": [
    "Also, we initialize the states of the nework:\n",
    "\n",
    "<h4>_initial_state</h4>\n",
    "\n",
    "For each LSTM, there are 2 state matrices, c\\_state and m\\_state.  c_state and m_state represent \"Memory State\" and \"Cell State\". Each hidden layer, has a vector of size 30, which keeps the states. so, for 200 hidden units in each LSTM, we have a matrix of size [30x200]\n"
   ]
  },
  {
   "cell_type": "code",
   "execution_count": 19,
   "metadata": {
    "tags": []
   },
   "outputs": [],
   "source": [
    "init_state = tf.Variable(tf.zeros([batch_size,embeding_vector_size]),trainable=False)"
   ]
  },
  {
   "cell_type": "code",
   "execution_count": 20,
   "metadata": {
    "tags": []
   },
   "outputs": [],
   "source": [
    "layer.inital_state = init_state"
   ]
  },
  {
   "cell_type": "code",
   "execution_count": 21,
   "metadata": {
    "tags": []
   },
   "outputs": [
    {
     "data": {
      "text/plain": [
       "<tf.Variable 'Variable:0' shape=(30, 200) dtype=float32, numpy=\n",
       "array([[0., 0., 0., ..., 0., 0., 0.],\n",
       "       [0., 0., 0., ..., 0., 0., 0.],\n",
       "       [0., 0., 0., ..., 0., 0., 0.],\n",
       "       ...,\n",
       "       [0., 0., 0., ..., 0., 0., 0.],\n",
       "       [0., 0., 0., ..., 0., 0., 0.],\n",
       "       [0., 0., 0., ..., 0., 0., 0.]], dtype=float32)>"
      ]
     },
     "execution_count": 21,
     "metadata": {},
     "output_type": "execute_result"
    }
   ],
   "source": [
    "layer.inital_state"
   ]
  },
  {
   "cell_type": "markdown",
   "metadata": {},
   "source": [
    "so, lets look at the outputs. The output of the stackedLSTM comes from 128 hidden_layer, and in each time step(=20), one of them get activated. we use the linear activation to map the 128 hidden layer to a [30X20 matrix]\n"
   ]
  },
  {
   "cell_type": "code",
   "execution_count": 22,
   "metadata": {
    "tags": []
   },
   "outputs": [],
   "source": [
    "outputs = layer(inputs)"
   ]
  },
  {
   "cell_type": "code",
   "execution_count": 23,
   "metadata": {
    "tags": []
   },
   "outputs": [
    {
     "data": {
      "text/plain": [
       "<tf.Tensor: shape=(30, 20, 128), dtype=float32, numpy=\n",
       "array([[[-9.98143805e-04,  4.39503528e-05, -8.83626170e-04, ...,\n",
       "          7.47378392e-04, -3.91725800e-04, -5.11156162e-04],\n",
       "        [-1.92698173e-03,  4.93204396e-04, -1.43940758e-03, ...,\n",
       "          2.49539153e-03,  1.45614520e-03, -4.72253014e-04],\n",
       "        [-1.92107365e-03, -6.48062050e-05, -1.55178446e-03, ...,\n",
       "          3.64471506e-03,  3.43254162e-03,  2.86878465e-04],\n",
       "        ...,\n",
       "        [ 4.37091570e-03,  6.53181598e-03,  7.50199659e-04, ...,\n",
       "         -4.55131149e-03,  7.10220588e-03, -5.43835713e-03],\n",
       "        [ 5.13319811e-03,  4.88108071e-03, -1.75249064e-03, ...,\n",
       "         -4.56898566e-03,  6.40250975e-03, -5.22562210e-03],\n",
       "        [ 4.72337985e-03,  3.14401905e-03, -4.69603436e-03, ...,\n",
       "         -4.62919427e-03,  4.49923845e-03, -7.05725979e-03]],\n",
       "\n",
       "       [[ 2.70003191e-04, -7.39876297e-04,  2.04077543e-04, ...,\n",
       "          9.39580423e-05,  6.69216271e-04,  7.88662292e-05],\n",
       "        [ 1.26457703e-03, -3.02620640e-04,  1.17165770e-03, ...,\n",
       "         -1.00426853e-03,  7.68295606e-04,  2.50529638e-03],\n",
       "        [ 8.81742628e-04,  7.85571930e-04,  9.80443205e-04, ...,\n",
       "         -1.57904800e-03,  2.18796456e-04,  3.23904515e-03],\n",
       "        ...,\n",
       "        [-2.83462321e-03, -4.06236388e-03,  1.07569555e-02, ...,\n",
       "          2.04416667e-03, -2.53380369e-03,  2.76584784e-03],\n",
       "        [-1.20382034e-03, -5.17437095e-03,  9.18564852e-03, ...,\n",
       "          4.92337905e-03, -2.17444729e-03,  4.15846473e-03],\n",
       "        [-4.45892394e-04, -5.10525564e-03,  9.01194196e-03, ...,\n",
       "          6.75851759e-03, -1.81091996e-03,  4.30945680e-03]],\n",
       "\n",
       "       [[ 2.72080943e-04,  8.41940928e-04,  2.65185459e-04, ...,\n",
       "         -5.28739707e-04,  1.90782116e-03, -1.36190036e-03],\n",
       "        [ 6.25080283e-05,  1.37110369e-03, -4.17237141e-04, ...,\n",
       "         -1.60043500e-03,  1.69630325e-03, -2.91142799e-03],\n",
       "        [-2.77730869e-04,  2.59220786e-03, -4.23558376e-04, ...,\n",
       "         -3.53541784e-03,  7.61580479e-04, -3.90829798e-03],\n",
       "        ...,\n",
       "        [ 2.78033572e-03, -1.54037529e-03,  2.06022314e-03, ...,\n",
       "         -8.91834591e-03, -2.44430965e-03,  5.39200373e-05],\n",
       "        [ 3.44376871e-03, -1.80107995e-03,  2.14356766e-03, ...,\n",
       "         -9.50978976e-03, -2.23018718e-03, -2.82288762e-04],\n",
       "        [ 4.05818084e-03, -3.91976582e-03,  1.20467728e-03, ...,\n",
       "         -9.67776310e-03, -2.55727302e-03, -4.47850092e-04]],\n",
       "\n",
       "       ...,\n",
       "\n",
       "       [[ 1.89495622e-03, -7.22538622e-04,  1.35519833e-03, ...,\n",
       "         -8.31423677e-04,  1.62304984e-03,  1.50363147e-03],\n",
       "        [ 2.73949606e-03, -9.51643669e-05,  1.60254142e-03, ...,\n",
       "         -8.10948317e-04,  3.00626853e-03,  2.88739125e-03],\n",
       "        [ 3.24305333e-03,  8.39898596e-04,  1.93194568e-03, ...,\n",
       "         -3.12055228e-03,  2.80777644e-03,  1.74394355e-03],\n",
       "        ...,\n",
       "        [ 5.57835540e-03,  4.01572324e-03,  5.82742551e-03, ...,\n",
       "         -1.23702071e-03,  2.44127400e-03,  5.17949404e-04],\n",
       "        [ 4.82481485e-03,  5.34597132e-03,  6.88462751e-03, ...,\n",
       "         -2.35389359e-03,  2.10259296e-03, -1.12861024e-04],\n",
       "        [ 3.85122793e-03,  5.06619317e-03,  5.98682556e-03, ...,\n",
       "         -3.74693354e-03,  4.77119262e-04, -9.61260084e-05]],\n",
       "\n",
       "       [[ 7.07808940e-04, -1.28631495e-04,  4.75056499e-04, ...,\n",
       "          1.99068643e-04, -1.91883431e-04,  1.73386885e-04],\n",
       "        [ 4.65779332e-04, -1.13364379e-03, -7.72144413e-04, ...,\n",
       "          3.49878945e-04, -5.94755053e-04, -1.48564999e-04],\n",
       "        [-1.37882816e-04, -5.58106287e-04, -1.00834877e-03, ...,\n",
       "         -1.36267836e-03, -1.23554864e-03,  4.68041617e-06],\n",
       "        ...,\n",
       "        [ 5.43841859e-03, -8.29620846e-03, -4.61127638e-05, ...,\n",
       "          9.25889984e-03,  1.56997181e-02,  4.39535687e-03],\n",
       "        [ 7.42294313e-03, -8.24722648e-03,  1.00798276e-03, ...,\n",
       "          7.80441612e-03,  1.55927660e-02,  7.22384127e-03],\n",
       "        [ 7.11361738e-03, -6.04331354e-03,  8.36505555e-04, ...,\n",
       "          7.20621226e-03,  1.44802826e-02,  9.17191152e-03]],\n",
       "\n",
       "       [[ 3.79925768e-05, -8.85797606e-04, -6.99098571e-04, ...,\n",
       "          9.97162657e-04,  3.12666234e-04, -1.43190974e-03],\n",
       "        [-6.88584078e-06, -1.34308566e-03,  2.23328989e-05, ...,\n",
       "          1.31977932e-03,  3.33836470e-05, -2.74348375e-03],\n",
       "        [-7.50425679e-04, -7.67239602e-04, -1.12513348e-03, ...,\n",
       "          1.36194890e-03,  2.59095941e-06, -4.46390733e-03],\n",
       "        ...,\n",
       "        [ 3.40862642e-03,  4.47411230e-03, -9.14618373e-03, ...,\n",
       "         -6.54733460e-03, -2.42389739e-03,  7.22287296e-05],\n",
       "        [ 4.32848372e-03,  4.93830256e-03, -8.83660186e-03, ...,\n",
       "         -5.33909583e-03, -9.46217857e-04, -2.40403999e-04],\n",
       "        [ 5.84174693e-03,  4.86905640e-03, -8.68061651e-03, ...,\n",
       "         -5.46027115e-03, -2.19398557e-04, -1.67799531e-03]]],\n",
       "      dtype=float32)>"
      ]
     },
     "execution_count": 23,
     "metadata": {},
     "output_type": "execute_result"
    }
   ],
   "source": [
    "outputs"
   ]
  },
  {
   "cell_type": "markdown",
   "metadata": {},
   "source": [
    "<h2>Dense layer</h2>\n",
    "We now create densely-connected neural network layer that would reshape the outputs tensor from  [30 x 20 x 128] to [30 x 20 x 10000].\n"
   ]
  },
  {
   "cell_type": "code",
   "execution_count": 24,
   "metadata": {
    "tags": []
   },
   "outputs": [],
   "source": [
    "dense = tf.keras.layers.Dense(vocab_size)"
   ]
  },
  {
   "cell_type": "code",
   "execution_count": 25,
   "metadata": {
    "tags": []
   },
   "outputs": [],
   "source": [
    "logits_outputs  = dense(outputs)"
   ]
  },
  {
   "cell_type": "code",
   "execution_count": 26,
   "metadata": {
    "tags": []
   },
   "outputs": [
    {
     "name": "stdout",
     "output_type": "stream",
     "text": [
      "shape of the output from dense layer:  (30, 20, 10000)\n"
     ]
    }
   ],
   "source": [
    "print(\"shape of the output from dense layer: \", logits_outputs.shape) #(batch_size, sequence_length, vocab_size)"
   ]
  },
  {
   "cell_type": "markdown",
   "metadata": {},
   "source": [
    "<h2>Activation layer</h2>\n",
    "\n",
    "\n",
    "A softmax activation layers is also then applied to derive the probability of the output being in any of the multiclass(10000 in this case) possibilities. \n"
   ]
  },
  {
   "cell_type": "code",
   "execution_count": 27,
   "metadata": {
    "tags": []
   },
   "outputs": [],
   "source": [
    "activation = tf.keras.layers.Activation('softmax')"
   ]
  },
  {
   "cell_type": "code",
   "execution_count": 28,
   "metadata": {
    "tags": []
   },
   "outputs": [],
   "source": [
    "output_words_prob = activation(logits_outputs)"
   ]
  },
  {
   "cell_type": "code",
   "execution_count": 29,
   "metadata": {
    "tags": []
   },
   "outputs": [
    {
     "name": "stdout",
     "output_type": "stream",
     "text": [
      "shape of the output from the activation layer:  (30, 20, 10000)\n"
     ]
    }
   ],
   "source": [
    "print(\"shape of the output from the activation layer: \", output_words_prob.shape) #(batch_size, sequence_length, vocab_size)"
   ]
  },
  {
   "cell_type": "markdown",
   "metadata": {},
   "source": [
    "Lets look at the probability of observing words for t=0 to t=20:\n"
   ]
  },
  {
   "cell_type": "code",
   "execution_count": 30,
   "metadata": {
    "tags": []
   },
   "outputs": [
    {
     "name": "stdout",
     "output_type": "stream",
     "text": [
      "The probability of observing words in t=0 to t=20 tf.Tensor(\n",
      "[[1.00021636e-04 1.00004188e-04 9.99859258e-05 ... 9.99958138e-05\n",
      "  1.00016186e-04 1.00002595e-04]\n",
      " [1.00035519e-04 9.99937474e-05 9.99859258e-05 ... 1.00011886e-04\n",
      "  1.00027071e-04 1.00008168e-04]\n",
      " [1.00052457e-04 9.99967669e-05 9.99593176e-05 ... 1.00038473e-04\n",
      "  1.00044461e-04 1.00014018e-04]\n",
      " ...\n",
      " [9.99811091e-05 1.00009980e-04 9.99872354e-05 ... 1.00106001e-04\n",
      "  1.00069083e-04 1.00003032e-04]\n",
      " [9.99664990e-05 1.00025551e-04 9.99734766e-05 ... 1.00094680e-04\n",
      "  1.00041660e-04 1.00001584e-04]\n",
      " [9.99548793e-05 1.00044133e-04 9.99709227e-05 ... 1.00064804e-04\n",
      "  1.00029465e-04 9.99978001e-05]], shape=(20, 10000), dtype=float32)\n"
     ]
    }
   ],
   "source": [
    "print(\"The probability of observing words in t=0 to t=20\", output_words_prob[0,0:num_steps])"
   ]
  },
  {
   "cell_type": "markdown",
   "metadata": {},
   "source": [
    "<h3>Prediction</h3>\n",
    "What is the word correspond to the probability output? Lets use the maximum probability:\n"
   ]
  },
  {
   "cell_type": "code",
   "execution_count": 31,
   "metadata": {
    "tags": []
   },
   "outputs": [
    {
     "data": {
      "text/plain": [
       "array([ 766, 8162, 3122, 5157, 5157, 5157, 4283, 6311, 4974, 4974, 6793,\n",
       "       7572, 2055, 6320, 2099, 4809, 4809, 4809, 6209, 6209])"
      ]
     },
     "execution_count": 31,
     "metadata": {},
     "output_type": "execute_result"
    }
   ],
   "source": [
    "np.argmax(output_words_prob[0,0:num_steps], axis=1)"
   ]
  },
  {
   "cell_type": "markdown",
   "metadata": {},
   "source": [
    "So, what is the ground truth for the first word of first sentence? You can get it from target tensor, if you want to find the embedding vector: \n"
   ]
  },
  {
   "cell_type": "code",
   "execution_count": 32,
   "metadata": {
    "tags": []
   },
   "outputs": [
    {
     "data": {
      "text/plain": [
       "array([9971, 9972, 9974, 9975, 9976, 9980, 9981, 9982, 9983, 9984, 9986,\n",
       "       9987, 9988, 9989, 9991, 9992, 9993, 9994, 9995, 9996], dtype=int32)"
      ]
     },
     "execution_count": 32,
     "metadata": {},
     "output_type": "execute_result"
    }
   ],
   "source": [
    "_targets[0]"
   ]
  },
  {
   "cell_type": "markdown",
   "metadata": {},
   "source": [
    "<h4>Objective function</h4>\n",
    "\n",
    "\n",
    "How similar the predicted words are to the target words?\n",
    "\n",
    "\n",
    "Now we have to define our objective function, to calculate the similarity of predicted values to ground truth, and then, penalize the model with the error. Our objective is to minimize loss function, that is, to minimize the average negative log probability of the target words:\n",
    "\n",
    "$$\\text{loss} = -\\frac{1}{N}\\sum_{i=1}^{N} \\ln p_{\\text{target}_i}$$\n",
    "\n",
    "This function is already implemented and available in TensorFlow through *tf.keras.losses.sparse_categorical_crossentropy*. It calculates the categorical cross-entropy loss for <b>logits</b> and the <b>target</b> sequence.  \n",
    "\n",
    "The arguments of this function are:  \n",
    "<ul>\n",
    "    <li>logits: List of 2D Tensors of shape [batch_size x num_decoder_symbols].</li>  \n",
    "    <li>targets: List of 1D batch-sized int32 Tensors of the same length as logits.</li>   \n",
    "</ul>\n"
   ]
  },
  {
   "cell_type": "code",
   "execution_count": 33,
   "metadata": {
    "tags": []
   },
   "outputs": [],
   "source": [
    "def crossentropy(y_true, y_pred):\n",
    "    return tf.keras.losses.sparse_categorical_crossentropy(y_true, y_pred)"
   ]
  },
  {
   "cell_type": "code",
   "execution_count": 34,
   "metadata": {
    "tags": []
   },
   "outputs": [],
   "source": [
    "loss  = crossentropy(_targets, output_words_prob)"
   ]
  },
  {
   "cell_type": "markdown",
   "metadata": {},
   "source": [
    "Lets look at the first 10 values of loss:\n"
   ]
  },
  {
   "cell_type": "code",
   "execution_count": 35,
   "metadata": {
    "tags": []
   },
   "outputs": [
    {
     "data": {
      "text/plain": [
       "<tf.Tensor: shape=(10,), dtype=float32, numpy=\n",
       "array([9.210415, 9.210443, 9.210115, 9.210174, 9.210755, 9.209702,\n",
       "       9.209988, 9.210517, 9.210311, 9.209718], dtype=float32)>"
      ]
     },
     "execution_count": 35,
     "metadata": {},
     "output_type": "execute_result"
    }
   ],
   "source": [
    "loss[0,:10]"
   ]
  },
  {
   "cell_type": "markdown",
   "metadata": {},
   "source": [
    "Now, we define cost as average of the losses:\n"
   ]
  },
  {
   "cell_type": "code",
   "execution_count": 36,
   "metadata": {
    "tags": []
   },
   "outputs": [
    {
     "data": {
      "text/plain": [
       "<tf.Tensor: shape=(), dtype=float32, numpy=184.20679>"
      ]
     },
     "execution_count": 36,
     "metadata": {},
     "output_type": "execute_result"
    }
   ],
   "source": [
    "cost = tf.reduce_sum(loss / batch_size)\n",
    "cost"
   ]
  },
  {
   "cell_type": "markdown",
   "metadata": {},
   "source": [
    "<h3>Training</h3>\n",
    "\n",
    "To do training for our network, we have to take the following steps:\n",
    "<ol>\n",
    "    <li>Define the optimizer.</li>\n",
    "    <li>Assemble layers to build model.</li>\n",
    "    <li>Calculate the gradients based on the loss function.</li>\n",
    "    <li>Apply the optimizer to the variables/gradients tuple.</li>\n",
    "</ol>\n"
   ]
  },
  {
   "cell_type": "markdown",
   "metadata": {},
   "source": [
    "<h4>1. Define Optimizer</h4>\n",
    "\n"
   ]
  },
  {
   "cell_type": "code",
   "execution_count": 37,
   "metadata": {
    "tags": []
   },
   "outputs": [
    {
     "name": "stderr",
     "output_type": "stream",
     "text": [
      "/home/jupyterlab/conda/envs/python/lib/python3.7/site-packages/keras/optimizers/optimizer_v2/gradient_descent.py:108: UserWarning: The `lr` argument is deprecated, use `learning_rate` instead.\n",
      "  super(SGD, self).__init__(name, **kwargs)\n"
     ]
    }
   ],
   "source": [
    "# Create a variable for the learning rate\n",
    "lr = tf.Variable(0.0, trainable=False)\n",
    "optimizer = tf.keras.optimizers.SGD(lr=lr, clipnorm=max_grad_norm)"
   ]
  },
  {
   "cell_type": "markdown",
   "metadata": {},
   "source": [
    "<h4>2. Assemble layers to build model.</h4>\n"
   ]
  },
  {
   "cell_type": "code",
   "execution_count": 38,
   "metadata": {
    "tags": []
   },
   "outputs": [
    {
     "name": "stdout",
     "output_type": "stream",
     "text": [
      "Model: \"sequential\"\n",
      "_________________________________________________________________\n",
      " Layer (type)                Output Shape              Param #   \n",
      "=================================================================\n",
      " embedding_vocab (Embedding)  (30, 20, 200)            2000000   \n",
      "                                                                 \n",
      " rnn (RNN)                   (30, 20, 128)             671088    \n",
      "                                                                 \n",
      " dense (Dense)               (30, 20, 10000)           1290000   \n",
      "                                                                 \n",
      " activation (Activation)     (30, 20, 10000)           0         \n",
      "                                                                 \n",
      "=================================================================\n",
      "Total params: 3,961,088\n",
      "Trainable params: 3,955,088\n",
      "Non-trainable params: 6,000\n",
      "_________________________________________________________________\n"
     ]
    }
   ],
   "source": [
    "model = tf.keras.Sequential()\n",
    "model.add(embedding_layer)\n",
    "model.add(layer)\n",
    "model.add(dense)\n",
    "model.add(activation)\n",
    "model.compile(loss=crossentropy, optimizer=optimizer)\n",
    "model.summary()"
   ]
  },
  {
   "cell_type": "markdown",
   "metadata": {},
   "source": [
    "\n",
    "<h4>2. Trainable Variables</h4>\n"
   ]
  },
  {
   "cell_type": "markdown",
   "metadata": {},
   "source": [
    "Defining a variable, if you passed <i>trainable=True</i>, the variable constructor automatically adds new variables to the graph collection <b>GraphKeys.TRAINABLE_VARIABLES</b>. Now, using <i>tf.trainable_variables()</i> you can get all variables created with <b>trainable=True</b>.\n"
   ]
  },
  {
   "cell_type": "code",
   "execution_count": 39,
   "metadata": {
    "tags": []
   },
   "outputs": [],
   "source": [
    "# Get all TensorFlow variables marked as \"trainable\" (i.e. all of them except _lr, which we just created)\n",
    "tvars = model.trainable_variables"
   ]
  },
  {
   "cell_type": "markdown",
   "metadata": {},
   "source": [
    "Note: we can find the name and scope of all variables:\n"
   ]
  },
  {
   "cell_type": "code",
   "execution_count": 40,
   "metadata": {
    "tags": []
   },
   "outputs": [
    {
     "data": {
      "text/plain": [
       "['embedding_vocab/embeddings:0',\n",
       " 'rnn/stacked_rnn_cells/lstm_cell/kernel:0',\n",
       " 'rnn/stacked_rnn_cells/lstm_cell/recurrent_kernel:0',\n",
       " 'rnn/stacked_rnn_cells/lstm_cell/bias:0',\n",
       " 'rnn/stacked_rnn_cells/lstm_cell_1/kernel:0',\n",
       " 'rnn/stacked_rnn_cells/lstm_cell_1/recurrent_kernel:0',\n",
       " 'rnn/stacked_rnn_cells/lstm_cell_1/bias:0',\n",
       " 'dense/kernel:0',\n",
       " 'dense/bias:0']"
      ]
     },
     "execution_count": 40,
     "metadata": {},
     "output_type": "execute_result"
    }
   ],
   "source": [
    "[v.name for v in tvars] "
   ]
  },
  {
   "cell_type": "markdown",
   "metadata": {},
   "source": [
    "<h4>3. Calculate the gradients based on the loss function</h4>\n"
   ]
  },
  {
   "cell_type": "markdown",
   "metadata": {},
   "source": [
    "**Gradient**: The gradient of a function is the slope of its derivative (line), or in other words, the rate of change of a function. It's a vector (a direction to move) that points in the direction of greatest increase of the function, and calculated by the <b>derivative</b> operation.\n"
   ]
  },
  {
   "cell_type": "markdown",
   "metadata": {},
   "source": [
    "First lets recall the gradient function using an toy example:\n",
    "$$ z = \\left(2x^2 + 3xy\\right)$$\n"
   ]
  },
  {
   "cell_type": "code",
   "execution_count": 41,
   "metadata": {
    "tags": []
   },
   "outputs": [],
   "source": [
    "x = tf.constant(1.0)\n",
    "y =  tf.constant(2.0)\n",
    "with tf.GradientTape(persistent=True) as g:\n",
    "    g.watch(x)\n",
    "    g.watch(y)\n",
    "    func_test = 2 * x * x + 3 * x * y"
   ]
  },
  {
   "cell_type": "markdown",
   "metadata": {},
   "source": [
    "The <b>tf.gradients()</b> function allows you to compute the symbolic gradient of one tensor with respect to one or more other tensors—including variables. <b>tf.gradients(func, xs)</b> constructs symbolic partial derivatives of sum of <b>func</b> w.r.t. <i>x</i> in <b>xs</b>. \n",
    "\n",
    "Now, lets look at the derivitive w.r.t. <b>var_x</b>:\n",
    "$$ \\frac{\\partial \\:}{\\partial \\:x}\\left(2x^2 + 3xy\\right) = 4x + 3y $$\n"
   ]
  },
  {
   "cell_type": "code",
   "execution_count": 42,
   "metadata": {
    "tags": []
   },
   "outputs": [
    {
     "name": "stdout",
     "output_type": "stream",
     "text": [
      "tf.Tensor(10.0, shape=(), dtype=float32)\n"
     ]
    }
   ],
   "source": [
    "var_grad = g.gradient(func_test, x) # Will compute to 10.0\n",
    "print(var_grad)"
   ]
  },
  {
   "cell_type": "markdown",
   "metadata": {},
   "source": [
    "the derivative w.r.t. <b>var_y</b>:\n",
    "$$ \\frac{\\partial \\:}{\\partial \\:y}\\left(2x^2 + 3xy\\right) = 3x $$\n"
   ]
  },
  {
   "cell_type": "code",
   "execution_count": 43,
   "metadata": {
    "tags": []
   },
   "outputs": [
    {
     "name": "stdout",
     "output_type": "stream",
     "text": [
      "tf.Tensor(3.0, shape=(), dtype=float32)\n"
     ]
    }
   ],
   "source": [
    "var_grad = g.gradient(func_test, y) # Will compute to 3.0\n",
    "print(var_grad)"
   ]
  },
  {
   "cell_type": "markdown",
   "metadata": {},
   "source": [
    "Now, we can look at gradients w.r.t all variables:\n"
   ]
  },
  {
   "cell_type": "code",
   "execution_count": 44,
   "metadata": {
    "tags": []
   },
   "outputs": [],
   "source": [
    "with tf.GradientTape() as tape:\n",
    "    # Forward pass.\n",
    "    output_words_prob = model(_input_data)\n",
    "    # Loss value for this batch.\n",
    "    loss  = crossentropy(_targets, output_words_prob)\n",
    "    cost = tf.reduce_sum(loss,axis=0) / batch_size"
   ]
  },
  {
   "cell_type": "code",
   "execution_count": 45,
   "metadata": {
    "tags": []
   },
   "outputs": [],
   "source": [
    "# Get gradients of loss wrt the trainable variables.\n",
    "grad_t_list = tape.gradient(cost, tvars)"
   ]
  },
  {
   "cell_type": "code",
   "execution_count": 46,
   "metadata": {
    "tags": []
   },
   "outputs": [
    {
     "name": "stdout",
     "output_type": "stream",
     "text": [
      "[<tensorflow.python.framework.indexed_slices.IndexedSlices object at 0x7f9f54900590>, <tf.Tensor: shape=(200, 1024), dtype=float32, numpy=\n",
      "array([[-7.6478801e-07,  1.7570187e-07, -1.1222487e-06, ...,\n",
      "         7.8750951e-08, -2.4793366e-07,  1.4430975e-07],\n",
      "       [ 4.7276524e-07,  2.9875648e-07,  4.5426231e-07, ...,\n",
      "         2.7990387e-07,  3.5055521e-07,  1.5127874e-07],\n",
      "       [-1.5575633e-06,  2.8841310e-07,  3.8322918e-07, ...,\n",
      "        -1.7948197e-07,  3.4903144e-07, -2.4161039e-07],\n",
      "       ...,\n",
      "       [-4.4927640e-07,  3.7649281e-07,  4.2481452e-07, ...,\n",
      "         5.2843296e-07,  7.9247641e-08, -1.6727599e-07],\n",
      "       [-2.9444749e-07,  5.0229494e-07, -5.4600071e-07, ...,\n",
      "        -2.4188751e-07,  5.4695687e-07,  2.4822349e-08],\n",
      "       [ 4.4155075e-07,  1.6335916e-07,  2.4812081e-08, ...,\n",
      "         4.3740627e-08, -4.0701167e-09, -2.5318099e-07]], dtype=float32)>, <tf.Tensor: shape=(256, 1024), dtype=float32, numpy=\n",
      "array([[ 3.1237028e-07, -6.0640332e-08, -1.6903022e-07, ...,\n",
      "        -9.4022923e-09, -1.2191127e-07,  6.5713813e-08],\n",
      "       [-2.2576522e-08, -2.7764340e-08,  1.3372778e-08, ...,\n",
      "        -4.4942265e-08,  9.3859157e-08,  3.8189636e-08],\n",
      "       [ 2.1018275e-07,  3.2693020e-08,  1.3388217e-08, ...,\n",
      "         8.8369539e-08, -2.0071411e-07, -1.2786540e-08],\n",
      "       ...,\n",
      "       [ 1.3846996e-07,  6.4503638e-08, -6.8289250e-09, ...,\n",
      "         1.3986678e-07,  2.5138219e-08, -8.5362629e-08],\n",
      "       [-5.4240225e-08,  9.5498017e-08, -2.0735001e-07, ...,\n",
      "         1.2248719e-08, -2.0102897e-07,  1.6266354e-08],\n",
      "       [ 9.0123962e-08,  9.5919404e-08, -6.0312964e-08, ...,\n",
      "         5.3941200e-08, -4.5723421e-08,  2.6076401e-07]], dtype=float32)>, <tf.Tensor: shape=(1024,), dtype=float32, numpy=\n",
      "array([-5.4018419e-05, -1.1265063e-05,  3.2889850e-05, ...,\n",
      "       -2.4529063e-06,  2.5508816e-05, -9.8603568e-06], dtype=float32)>, <tf.Tensor: shape=(256, 512), dtype=float32, numpy=\n",
      "array([[ 3.26662182e-08, -1.71126246e-07, -4.92509145e-08, ...,\n",
      "         8.63794014e-08, -2.28518061e-07,  5.12740030e-07],\n",
      "       [ 2.83240325e-07, -6.45426823e-08,  1.35134826e-07, ...,\n",
      "        -1.01143932e-07,  2.10263124e-07,  3.85527159e-07],\n",
      "       [ 2.27457704e-07, -6.82996415e-09, -1.47494930e-07, ...,\n",
      "         1.50345372e-07, -4.56202685e-07, -2.14587658e-07],\n",
      "       ...,\n",
      "       [ 2.18530474e-07,  9.39769862e-08, -9.56914761e-08, ...,\n",
      "        -1.87749052e-07, -9.88214239e-08, -1.05245512e-07],\n",
      "       [ 1.78664209e-07, -7.35907690e-08, -1.64795381e-07, ...,\n",
      "         3.37289947e-08,  6.91772641e-07, -2.29923828e-07],\n",
      "       [-8.07730061e-08,  1.16972615e-07,  9.11752096e-09, ...,\n",
      "        -2.39386793e-07, -4.26237079e-07, -1.52902402e-08]], dtype=float32)>, <tf.Tensor: shape=(128, 512), dtype=float32, numpy=\n",
      "array([[ 2.54534580e-08, -2.68423044e-08, -1.06174625e-08, ...,\n",
      "         6.08693611e-08,  9.86600952e-08,  1.80870757e-07],\n",
      "       [ 7.07279924e-09,  2.59606026e-08, -6.15085725e-08, ...,\n",
      "         3.90537338e-07, -1.89988071e-07, -7.68152120e-08],\n",
      "       [-9.61981499e-08,  4.68507082e-08,  1.65323115e-07, ...,\n",
      "        -9.66947482e-08,  2.01201942e-07, -2.27579392e-07],\n",
      "       ...,\n",
      "       [ 1.21665238e-07,  1.05720318e-07, -4.73126711e-08, ...,\n",
      "        -4.61071210e-07,  8.07959921e-09,  2.42440734e-07],\n",
      "       [ 6.32859383e-08,  3.10351957e-08, -7.50406954e-08, ...,\n",
      "        -9.63803970e-08,  8.16555371e-07, -1.80071865e-07],\n",
      "       [-1.04177120e-08,  1.31415419e-07, -3.17095825e-08, ...,\n",
      "        -2.60728626e-07, -6.06475368e-08,  3.20155806e-07]], dtype=float32)>, <tf.Tensor: shape=(512,), dtype=float32, numpy=\n",
      "array([-6.16316356e-06,  7.48279854e-06,  2.27519049e-05,  2.11500992e-05,\n",
      "       -2.19804770e-06, -1.20778614e-05, -2.51791766e-06,  1.83700286e-05,\n",
      "       -2.61728273e-05, -1.19981287e-05, -4.94786109e-05, -1.12912567e-05,\n",
      "        1.17275980e-04,  1.27669555e-05, -9.81828343e-05, -6.71820317e-07,\n",
      "       -2.42523329e-05,  3.74500087e-05, -9.18392743e-07,  8.67412891e-05,\n",
      "        1.09506582e-05,  1.96274577e-05, -2.90667049e-06, -2.97657025e-05,\n",
      "        6.75558567e-07,  5.33022285e-06, -3.54282747e-05,  3.76769867e-06,\n",
      "        1.19460601e-05,  3.84273881e-06, -2.55855794e-05,  1.55939415e-06,\n",
      "       -2.69422599e-05, -8.29766395e-06,  4.49938270e-05, -4.09067798e-05,\n",
      "       -2.83132304e-05, -3.48776448e-05,  2.91061087e-06, -5.63373715e-06,\n",
      "       -3.29981231e-05,  3.31167666e-06,  2.04369462e-06, -2.74762606e-05,\n",
      "        1.09417160e-05,  1.27479816e-05, -5.65153459e-06,  1.54799545e-05,\n",
      "       -3.99438504e-05, -3.35921432e-05,  8.68250754e-06,  6.78895049e-06,\n",
      "       -1.79601557e-05, -2.88032425e-07,  2.62345948e-05,  4.77304638e-06,\n",
      "       -6.90741535e-06, -4.51911819e-06,  1.55240332e-06, -4.20293363e-05,\n",
      "       -1.24135786e-05, -5.79529078e-05, -2.57526881e-05,  7.32117223e-06,\n",
      "       -1.51859085e-05, -1.94665481e-05, -5.38636014e-05, -4.26553779e-05,\n",
      "        1.94688728e-05, -1.34467855e-05,  4.55858899e-05,  4.86731587e-05,\n",
      "       -2.33665087e-05, -3.19269893e-05,  4.72647989e-05,  1.66507671e-04,\n",
      "        2.37699733e-05, -4.97976725e-05, -9.75716648e-06,  2.35537991e-05,\n",
      "       -7.70084953e-05, -5.19100467e-06, -1.57234572e-05,  4.51060914e-05,\n",
      "       -2.72460693e-05,  3.58757134e-05, -4.05181709e-05,  1.91457511e-05,\n",
      "        2.37698823e-05, -4.63544020e-05,  1.33312042e-05, -2.34569325e-06,\n",
      "       -3.92308211e-05, -8.47621559e-05, -1.96303281e-05, -7.26098324e-06,\n",
      "       -2.02887895e-05, -8.39822678e-06, -4.42991995e-06, -1.79363378e-05,\n",
      "        3.98789634e-05,  4.11249202e-05, -4.46596096e-05,  5.15592474e-05,\n",
      "        3.02538374e-05,  5.15714928e-05,  2.83232730e-05,  3.32280470e-05,\n",
      "        3.56325763e-05, -2.99294734e-05, -7.95145024e-06, -1.05945137e-05,\n",
      "        9.95215578e-06,  3.67950452e-05,  2.69938537e-05,  6.53072857e-06,\n",
      "        2.89907694e-05,  1.82640179e-06, -2.66387615e-05,  7.22075811e-06,\n",
      "        4.74568151e-05, -8.96904749e-06, -8.82672975e-06, -8.07197357e-05,\n",
      "        4.62437674e-05,  1.85198987e-05,  5.94205121e-05, -1.45613603e-05,\n",
      "       -1.22824349e-05,  5.60083208e-07,  5.07665754e-06,  1.21323001e-05,\n",
      "        1.84315850e-05, -1.17881682e-05, -2.23358893e-06, -5.47265699e-06,\n",
      "       -5.56607411e-05, -1.96618203e-05, -5.44769064e-05, -3.89739944e-06,\n",
      "        1.72584187e-04,  2.08564015e-05, -1.60035066e-04,  1.48074287e-05,\n",
      "       -5.14089188e-05,  4.85393248e-05, -3.10407049e-05,  1.20382501e-04,\n",
      "        5.72044883e-06,  3.77808938e-05, -6.20764740e-06, -4.29908396e-05,\n",
      "       -1.38927098e-05, -7.79236871e-08, -4.91246028e-05,  6.22104290e-06,\n",
      "        1.09121174e-05, -1.78514929e-05, -5.94941521e-05,  7.29007297e-06,\n",
      "       -3.46311135e-05, -3.29000686e-05,  4.78487855e-05, -3.19258579e-05,\n",
      "       -3.89062334e-05, -4.99853413e-05, -1.24679873e-05, -3.03478500e-05,\n",
      "       -2.18576042e-05,  7.51447260e-06, -2.84920607e-05, -3.46461929e-05,\n",
      "        1.55236939e-05,  4.76470996e-06,  1.09660095e-06,  3.05021676e-05,\n",
      "       -6.11599025e-05, -5.91094613e-06, -4.03034755e-06,  3.18181228e-05,\n",
      "       -2.75816710e-05, -7.51018342e-06,  4.39760151e-05, -2.82743463e-06,\n",
      "        3.59057012e-05, -8.04735100e-06, -5.71551391e-06, -5.77725878e-05,\n",
      "       -6.62219827e-06, -9.19592640e-05, -6.15991157e-05, -3.27319094e-06,\n",
      "       -2.53633316e-05, -3.01735763e-05, -8.03562070e-05, -8.02605718e-05,\n",
      "        4.92552463e-05, -2.77542786e-05,  8.42372683e-05,  7.43082637e-05,\n",
      "       -4.34800168e-05, -5.81497588e-05,  9.22028994e-05,  2.56755884e-04,\n",
      "        3.31560150e-05, -7.86704768e-05, -3.11044823e-06,  5.87791328e-05,\n",
      "       -1.23710866e-04, -3.57642966e-05, -3.15173202e-05,  3.70878988e-05,\n",
      "       -2.60014131e-05,  3.35669938e-05, -2.81678131e-05, -9.86095529e-07,\n",
      "        5.91071694e-05, -7.24927013e-05,  1.69519772e-05, -2.49612967e-05,\n",
      "       -5.63621506e-05, -1.25441002e-04, -3.44276959e-05, -1.06396146e-05,\n",
      "       -2.74314516e-05,  5.75019931e-06, -1.55258349e-05, -4.06695435e-05,\n",
      "        6.47182897e-05,  7.48584571e-05, -7.28127416e-05,  5.99572595e-05,\n",
      "        6.45778782e-05,  6.75296978e-05,  4.41784578e-05,  3.08334602e-05,\n",
      "        2.97468032e-05, -2.13741259e-05,  1.05462132e-05, -1.12835614e-05,\n",
      "        4.16018929e-06,  3.08530143e-05,  4.29772117e-05,  1.60681384e-06,\n",
      "        5.35132349e-05, -6.84608494e-06, -6.54074684e-05,  1.06789848e-05,\n",
      "        6.81980018e-05, -2.98831583e-05, -6.41016277e-06, -1.10743218e-04,\n",
      "        4.35774418e-05,  2.38485609e-05,  9.02442625e-05, -6.29266242e-06,\n",
      "        3.08423839e-03, -2.88404012e-03,  5.20777237e-03,  1.24377832e-02,\n",
      "       -5.56477867e-02, -4.30083275e-02, -3.64905745e-02, -2.00667121e-02,\n",
      "        4.52364162e-02,  7.40003493e-03,  2.22748611e-02, -6.39236486e-03,\n",
      "        4.63686883e-02,  1.01012485e-02, -4.73055914e-02,  7.94808939e-03,\n",
      "       -6.52794307e-03,  3.97712439e-02, -4.35125232e-02,  8.67316127e-02,\n",
      "        5.86780161e-02,  3.05945575e-02, -1.09859388e-02,  1.38497241e-02,\n",
      "       -4.63582240e-02, -2.24490631e-02,  2.68455576e-02,  2.36128224e-03,\n",
      "        1.51402242e-02,  9.31797363e-03, -3.94738391e-02, -8.46281927e-03,\n",
      "        9.54235531e-03,  2.62204967e-02,  4.84943716e-03,  2.04749964e-02,\n",
      "        3.03545818e-02,  4.15252857e-02,  1.56341284e-03,  6.42248094e-02,\n",
      "       -2.34692860e-02,  9.88675654e-03,  7.88320694e-03,  1.44297332e-02,\n",
      "        1.02538727e-02, -1.37357032e-02,  3.04390173e-02,  6.83699269e-03,\n",
      "        3.35759670e-02,  1.90593340e-02, -8.57621140e-04,  3.25300246e-02,\n",
      "        2.79498715e-02,  1.21848076e-03,  4.27568033e-02, -3.34075838e-02,\n",
      "        6.62891194e-04,  1.72090693e-03, -2.63916142e-02,  3.01261228e-02,\n",
      "       -3.97132430e-03,  4.26901504e-02, -9.57691204e-03,  6.71537779e-03,\n",
      "        2.44978052e-02,  2.19433308e-02, -4.48325276e-02,  3.02697271e-02,\n",
      "        1.33833904e-02, -5.55214360e-02, -3.02692614e-02,  1.40918139e-02,\n",
      "        8.43679346e-03,  5.06084152e-02, -2.33924147e-02,  6.00585192e-02,\n",
      "        2.34214067e-02,  1.67557504e-02,  7.17563508e-03,  2.19934098e-02,\n",
      "        1.06122531e-02,  2.36878805e-02, -1.21854451e-02,  2.90693231e-02,\n",
      "        6.66534714e-03,  4.50121388e-02, -3.61684933e-02,  8.36484786e-03,\n",
      "        5.72595634e-02,  2.53855716e-02, -4.70071062e-02, -3.23029794e-02,\n",
      "        2.60314662e-02,  5.05215898e-02, -9.75605473e-03, -1.27616515e-02,\n",
      "        3.41400243e-02,  1.68179814e-03, -2.96347286e-03, -1.24818385e-02,\n",
      "       -3.06110159e-02,  2.25872081e-02, -1.39066437e-02,  3.75563204e-02,\n",
      "        1.46239176e-02, -3.47576924e-02,  2.37391889e-02,  1.44326631e-02,\n",
      "        1.56389014e-03, -1.15467645e-02, -2.35945024e-02,  5.88965416e-02,\n",
      "       -4.01030155e-03, -4.62134629e-02, -4.74757478e-02, -1.39962640e-02,\n",
      "       -2.97593847e-02, -5.26927877e-03, -5.49156219e-02,  1.74538605e-02,\n",
      "       -2.61697769e-02,  1.34336436e-02,  3.53157986e-03, -3.31032649e-02,\n",
      "        2.45344173e-03, -3.87540981e-02,  4.30738181e-02,  1.29022934e-02,\n",
      "       -1.86442776e-06,  1.13905817e-05,  1.53034198e-05,  1.93030864e-05,\n",
      "       -4.98618920e-06, -2.51237398e-05, -1.27206349e-05,  1.23152959e-05,\n",
      "       -3.18694802e-05, -1.49278421e-05, -4.70641280e-05, -1.08652894e-05,\n",
      "        1.24305196e-04,  4.72989086e-06, -1.25916966e-04,  9.85056249e-06,\n",
      "       -1.90758474e-05,  5.59573491e-05,  6.06099820e-06,  1.05983912e-04,\n",
      "        1.54336012e-05,  2.75561379e-05, -3.93746632e-07, -4.23287202e-05,\n",
      "       -9.66486641e-06,  4.67562586e-06, -3.68183792e-05,  1.03173079e-07,\n",
      "        1.85545505e-05, -3.28325768e-07, -3.46388697e-05, -5.27017346e-06,\n",
      "       -2.47381777e-05, -6.63444916e-06,  4.04141210e-05, -4.30967375e-05,\n",
      "       -2.70616947e-05, -4.27588311e-05, -4.75322167e-07, -3.60583726e-07,\n",
      "       -3.95199604e-05,  6.87077772e-06,  2.99322892e-06, -2.88932515e-05,\n",
      "        5.09661550e-06,  5.97949838e-06,  7.98437122e-06,  1.44371215e-05,\n",
      "       -3.70069502e-05, -2.84896287e-05,  1.16156070e-05,  1.72264845e-05,\n",
      "       -3.83093720e-06,  2.22626113e-08,  3.13901764e-05,  4.54598103e-06,\n",
      "        2.89577565e-06, -9.66423431e-06, -2.07684684e-06, -4.60745978e-05,\n",
      "       -9.29697035e-06, -6.94289774e-05, -2.80251570e-05,  8.35852734e-06,\n",
      "       -1.63748064e-05, -2.30083315e-05, -5.78302279e-05, -5.56042432e-05,\n",
      "        3.41515843e-05, -1.37062489e-06,  5.09295205e-05,  6.20041319e-05,\n",
      "       -2.63283946e-05, -4.13801317e-05,  5.49273936e-05,  1.86134450e-04,\n",
      "        2.53801118e-05, -5.19353671e-05, -1.94159747e-05,  3.97414551e-05,\n",
      "       -8.88959912e-05, -1.41113596e-05, -2.12733630e-05,  4.90219536e-05,\n",
      "       -3.81565478e-05,  4.46537160e-05, -3.25504407e-05,  2.41569414e-05,\n",
      "        2.51595920e-05, -5.26559888e-05,  1.23318678e-05, -2.80777749e-06,\n",
      "       -4.26108345e-05, -9.38501325e-05, -2.85299866e-05, -3.19924493e-06,\n",
      "       -2.39772198e-05, -3.73492912e-06, -9.63549883e-06, -1.26272234e-05,\n",
      "        4.72984029e-05,  4.54675428e-05, -4.91472201e-05,  4.88055121e-05,\n",
      "        3.36882149e-05,  6.55526019e-05,  2.30583191e-05,  3.70247435e-05,\n",
      "        3.07102200e-05, -3.32067648e-05, -4.60066258e-06, -1.35304563e-05,\n",
      "        1.76569829e-05,  2.57964875e-05,  3.17273152e-05,  1.01267424e-05,\n",
      "        2.91666402e-05,  6.58690260e-06, -1.87172882e-05,  3.83387851e-06,\n",
      "        5.52367601e-05, -3.51388371e-06, -1.15044077e-05, -9.78554381e-05,\n",
      "        5.68683899e-05,  1.96419605e-05,  7.80880364e-05, -9.51519360e-06],\n",
      "      dtype=float32)>, <tf.Tensor: shape=(128, 10000), dtype=float32, numpy=\n",
      "array([[-1.0834559e-03, -7.8534259e-04, -2.0489292e-03, ...,\n",
      "         3.1357195e-06,  3.1363886e-06,  3.1366890e-06],\n",
      "       [ 2.1538306e-04, -6.9880916e-05,  1.3713603e-04, ...,\n",
      "        -1.9403080e-06, -1.9378081e-06, -1.9374738e-06],\n",
      "       [-7.4059796e-04, -5.3520611e-04, -2.0515365e-03, ...,\n",
      "         1.8893422e-06,  1.8899615e-06,  1.8902650e-06],\n",
      "       ...,\n",
      "       [-3.7139567e-04,  8.5214223e-04,  5.5870274e-04, ...,\n",
      "        -8.0982812e-07, -8.1291978e-07, -8.1220861e-07],\n",
      "       [-3.8801865e-03, -4.4105025e-03, -4.3408168e-03, ...,\n",
      "         7.4806476e-06,  7.4749528e-06,  7.4773839e-06],\n",
      "       [ 2.2042864e-03,  2.0639908e-03,  2.8018258e-03, ...,\n",
      "        -3.6552428e-06, -3.6534684e-06, -3.6563017e-06]], dtype=float32)>, <tf.Tensor: shape=(10000,), dtype=float32, numpy=\n",
      "array([-0.797998  , -1.0313317 , -1.0313317 , ...,  0.00200022,\n",
      "        0.00199978,  0.00200008], dtype=float32)>]\n"
     ]
    }
   ],
   "source": [
    "print(grad_t_list)"
   ]
  },
  {
   "cell_type": "markdown",
   "metadata": {},
   "source": [
    "\n",
    "\n",
    "\n",
    "now, we have a list of tensors, t-list. We can use it to find clipped tensors. <b>clip_by_global_norm</b> clips values of multiple tensors by the ratio of the sum of their norms.\n",
    "\n",
    "<b>clip_by_global_norm</b> get <i>t-list</i> as input and returns 2 things:\n",
    "<ul>\n",
    "    <li>a list of clipped tensors, so called <i>list_clipped</i></li> \n",
    "    <li>the global norm (global_norm) of all tensors in t_list</li> \n",
    "</ul>\n"
   ]
  },
  {
   "cell_type": "code",
   "execution_count": 47,
   "metadata": {
    "tags": []
   },
   "outputs": [
    {
     "data": {
      "text/plain": [
       "[<tensorflow.python.framework.indexed_slices.IndexedSlices at 0x7f9fc4c734d0>,\n",
       " <tf.Tensor: shape=(200, 1024), dtype=float32, numpy=\n",
       " array([[-7.6478801e-07,  1.7570187e-07, -1.1222487e-06, ...,\n",
       "          7.8750951e-08, -2.4793366e-07,  1.4430975e-07],\n",
       "        [ 4.7276524e-07,  2.9875648e-07,  4.5426231e-07, ...,\n",
       "          2.7990387e-07,  3.5055521e-07,  1.5127874e-07],\n",
       "        [-1.5575633e-06,  2.8841310e-07,  3.8322918e-07, ...,\n",
       "         -1.7948197e-07,  3.4903144e-07, -2.4161039e-07],\n",
       "        ...,\n",
       "        [-4.4927640e-07,  3.7649281e-07,  4.2481452e-07, ...,\n",
       "          5.2843296e-07,  7.9247641e-08, -1.6727599e-07],\n",
       "        [-2.9444749e-07,  5.0229494e-07, -5.4600071e-07, ...,\n",
       "         -2.4188751e-07,  5.4695687e-07,  2.4822349e-08],\n",
       "        [ 4.4155075e-07,  1.6335916e-07,  2.4812081e-08, ...,\n",
       "          4.3740627e-08, -4.0701167e-09, -2.5318099e-07]], dtype=float32)>,\n",
       " <tf.Tensor: shape=(256, 1024), dtype=float32, numpy=\n",
       " array([[ 3.1237028e-07, -6.0640332e-08, -1.6903022e-07, ...,\n",
       "         -9.4022923e-09, -1.2191127e-07,  6.5713813e-08],\n",
       "        [-2.2576522e-08, -2.7764340e-08,  1.3372778e-08, ...,\n",
       "         -4.4942265e-08,  9.3859157e-08,  3.8189636e-08],\n",
       "        [ 2.1018275e-07,  3.2693020e-08,  1.3388217e-08, ...,\n",
       "          8.8369539e-08, -2.0071411e-07, -1.2786540e-08],\n",
       "        ...,\n",
       "        [ 1.3846996e-07,  6.4503638e-08, -6.8289250e-09, ...,\n",
       "          1.3986678e-07,  2.5138219e-08, -8.5362629e-08],\n",
       "        [-5.4240225e-08,  9.5498017e-08, -2.0735001e-07, ...,\n",
       "          1.2248719e-08, -2.0102897e-07,  1.6266354e-08],\n",
       "        [ 9.0123962e-08,  9.5919404e-08, -6.0312964e-08, ...,\n",
       "          5.3941200e-08, -4.5723421e-08,  2.6076401e-07]], dtype=float32)>,\n",
       " <tf.Tensor: shape=(1024,), dtype=float32, numpy=\n",
       " array([-5.4018419e-05, -1.1265063e-05,  3.2889850e-05, ...,\n",
       "        -2.4529063e-06,  2.5508816e-05, -9.8603568e-06], dtype=float32)>,\n",
       " <tf.Tensor: shape=(256, 512), dtype=float32, numpy=\n",
       " array([[ 3.26662182e-08, -1.71126246e-07, -4.92509145e-08, ...,\n",
       "          8.63794014e-08, -2.28518061e-07,  5.12740030e-07],\n",
       "        [ 2.83240325e-07, -6.45426823e-08,  1.35134826e-07, ...,\n",
       "         -1.01143932e-07,  2.10263124e-07,  3.85527159e-07],\n",
       "        [ 2.27457704e-07, -6.82996415e-09, -1.47494930e-07, ...,\n",
       "          1.50345372e-07, -4.56202685e-07, -2.14587658e-07],\n",
       "        ...,\n",
       "        [ 2.18530474e-07,  9.39769862e-08, -9.56914761e-08, ...,\n",
       "         -1.87749052e-07, -9.88214239e-08, -1.05245512e-07],\n",
       "        [ 1.78664209e-07, -7.35907690e-08, -1.64795381e-07, ...,\n",
       "          3.37289947e-08,  6.91772641e-07, -2.29923828e-07],\n",
       "        [-8.07730061e-08,  1.16972615e-07,  9.11752096e-09, ...,\n",
       "         -2.39386793e-07, -4.26237079e-07, -1.52902402e-08]], dtype=float32)>,\n",
       " <tf.Tensor: shape=(128, 512), dtype=float32, numpy=\n",
       " array([[ 2.54534580e-08, -2.68423044e-08, -1.06174625e-08, ...,\n",
       "          6.08693611e-08,  9.86600952e-08,  1.80870757e-07],\n",
       "        [ 7.07279924e-09,  2.59606026e-08, -6.15085725e-08, ...,\n",
       "          3.90537338e-07, -1.89988071e-07, -7.68152120e-08],\n",
       "        [-9.61981499e-08,  4.68507082e-08,  1.65323115e-07, ...,\n",
       "         -9.66947482e-08,  2.01201942e-07, -2.27579392e-07],\n",
       "        ...,\n",
       "        [ 1.21665238e-07,  1.05720318e-07, -4.73126711e-08, ...,\n",
       "         -4.61071210e-07,  8.07959921e-09,  2.42440734e-07],\n",
       "        [ 6.32859383e-08,  3.10351957e-08, -7.50406954e-08, ...,\n",
       "         -9.63803970e-08,  8.16555371e-07, -1.80071865e-07],\n",
       "        [-1.04177120e-08,  1.31415419e-07, -3.17095825e-08, ...,\n",
       "         -2.60728626e-07, -6.06475368e-08,  3.20155806e-07]], dtype=float32)>,\n",
       " <tf.Tensor: shape=(512,), dtype=float32, numpy=\n",
       " array([-6.16316356e-06,  7.48279854e-06,  2.27519049e-05,  2.11500992e-05,\n",
       "        -2.19804770e-06, -1.20778614e-05, -2.51791766e-06,  1.83700286e-05,\n",
       "        -2.61728273e-05, -1.19981287e-05, -4.94786109e-05, -1.12912567e-05,\n",
       "         1.17275980e-04,  1.27669555e-05, -9.81828343e-05, -6.71820317e-07,\n",
       "        -2.42523329e-05,  3.74500087e-05, -9.18392743e-07,  8.67412891e-05,\n",
       "         1.09506582e-05,  1.96274577e-05, -2.90667049e-06, -2.97657025e-05,\n",
       "         6.75558567e-07,  5.33022285e-06, -3.54282747e-05,  3.76769867e-06,\n",
       "         1.19460601e-05,  3.84273881e-06, -2.55855794e-05,  1.55939415e-06,\n",
       "        -2.69422599e-05, -8.29766395e-06,  4.49938270e-05, -4.09067798e-05,\n",
       "        -2.83132304e-05, -3.48776448e-05,  2.91061087e-06, -5.63373715e-06,\n",
       "        -3.29981231e-05,  3.31167666e-06,  2.04369462e-06, -2.74762606e-05,\n",
       "         1.09417160e-05,  1.27479816e-05, -5.65153459e-06,  1.54799545e-05,\n",
       "        -3.99438504e-05, -3.35921432e-05,  8.68250754e-06,  6.78895049e-06,\n",
       "        -1.79601557e-05, -2.88032425e-07,  2.62345948e-05,  4.77304638e-06,\n",
       "        -6.90741535e-06, -4.51911819e-06,  1.55240332e-06, -4.20293363e-05,\n",
       "        -1.24135786e-05, -5.79529078e-05, -2.57526881e-05,  7.32117223e-06,\n",
       "        -1.51859085e-05, -1.94665481e-05, -5.38636014e-05, -4.26553779e-05,\n",
       "         1.94688728e-05, -1.34467855e-05,  4.55858899e-05,  4.86731587e-05,\n",
       "        -2.33665087e-05, -3.19269893e-05,  4.72647989e-05,  1.66507671e-04,\n",
       "         2.37699733e-05, -4.97976725e-05, -9.75716648e-06,  2.35537991e-05,\n",
       "        -7.70084953e-05, -5.19100467e-06, -1.57234572e-05,  4.51060914e-05,\n",
       "        -2.72460693e-05,  3.58757134e-05, -4.05181709e-05,  1.91457511e-05,\n",
       "         2.37698823e-05, -4.63544020e-05,  1.33312042e-05, -2.34569325e-06,\n",
       "        -3.92308211e-05, -8.47621559e-05, -1.96303281e-05, -7.26098324e-06,\n",
       "        -2.02887895e-05, -8.39822678e-06, -4.42991995e-06, -1.79363378e-05,\n",
       "         3.98789634e-05,  4.11249202e-05, -4.46596096e-05,  5.15592474e-05,\n",
       "         3.02538374e-05,  5.15714928e-05,  2.83232730e-05,  3.32280470e-05,\n",
       "         3.56325763e-05, -2.99294734e-05, -7.95145024e-06, -1.05945137e-05,\n",
       "         9.95215578e-06,  3.67950452e-05,  2.69938537e-05,  6.53072857e-06,\n",
       "         2.89907694e-05,  1.82640179e-06, -2.66387615e-05,  7.22075811e-06,\n",
       "         4.74568151e-05, -8.96904749e-06, -8.82672975e-06, -8.07197357e-05,\n",
       "         4.62437674e-05,  1.85198987e-05,  5.94205121e-05, -1.45613603e-05,\n",
       "        -1.22824349e-05,  5.60083208e-07,  5.07665754e-06,  1.21323001e-05,\n",
       "         1.84315850e-05, -1.17881682e-05, -2.23358893e-06, -5.47265699e-06,\n",
       "        -5.56607411e-05, -1.96618203e-05, -5.44769064e-05, -3.89739944e-06,\n",
       "         1.72584187e-04,  2.08564015e-05, -1.60035066e-04,  1.48074287e-05,\n",
       "        -5.14089188e-05,  4.85393248e-05, -3.10407049e-05,  1.20382501e-04,\n",
       "         5.72044883e-06,  3.77808938e-05, -6.20764740e-06, -4.29908396e-05,\n",
       "        -1.38927098e-05, -7.79236871e-08, -4.91246028e-05,  6.22104290e-06,\n",
       "         1.09121174e-05, -1.78514929e-05, -5.94941521e-05,  7.29007297e-06,\n",
       "        -3.46311135e-05, -3.29000686e-05,  4.78487855e-05, -3.19258579e-05,\n",
       "        -3.89062334e-05, -4.99853413e-05, -1.24679873e-05, -3.03478500e-05,\n",
       "        -2.18576042e-05,  7.51447260e-06, -2.84920607e-05, -3.46461929e-05,\n",
       "         1.55236939e-05,  4.76470996e-06,  1.09660095e-06,  3.05021676e-05,\n",
       "        -6.11599025e-05, -5.91094613e-06, -4.03034755e-06,  3.18181228e-05,\n",
       "        -2.75816710e-05, -7.51018342e-06,  4.39760151e-05, -2.82743463e-06,\n",
       "         3.59057012e-05, -8.04735100e-06, -5.71551391e-06, -5.77725878e-05,\n",
       "        -6.62219827e-06, -9.19592640e-05, -6.15991157e-05, -3.27319094e-06,\n",
       "        -2.53633316e-05, -3.01735763e-05, -8.03562070e-05, -8.02605718e-05,\n",
       "         4.92552463e-05, -2.77542786e-05,  8.42372683e-05,  7.43082637e-05,\n",
       "        -4.34800168e-05, -5.81497588e-05,  9.22028994e-05,  2.56755884e-04,\n",
       "         3.31560150e-05, -7.86704768e-05, -3.11044823e-06,  5.87791328e-05,\n",
       "        -1.23710866e-04, -3.57642966e-05, -3.15173202e-05,  3.70878988e-05,\n",
       "        -2.60014131e-05,  3.35669938e-05, -2.81678131e-05, -9.86095529e-07,\n",
       "         5.91071694e-05, -7.24927013e-05,  1.69519772e-05, -2.49612967e-05,\n",
       "        -5.63621506e-05, -1.25441002e-04, -3.44276959e-05, -1.06396146e-05,\n",
       "        -2.74314516e-05,  5.75019931e-06, -1.55258349e-05, -4.06695435e-05,\n",
       "         6.47182897e-05,  7.48584571e-05, -7.28127416e-05,  5.99572595e-05,\n",
       "         6.45778782e-05,  6.75296978e-05,  4.41784578e-05,  3.08334602e-05,\n",
       "         2.97468032e-05, -2.13741259e-05,  1.05462132e-05, -1.12835614e-05,\n",
       "         4.16018929e-06,  3.08530143e-05,  4.29772117e-05,  1.60681384e-06,\n",
       "         5.35132349e-05, -6.84608494e-06, -6.54074684e-05,  1.06789848e-05,\n",
       "         6.81980018e-05, -2.98831583e-05, -6.41016277e-06, -1.10743218e-04,\n",
       "         4.35774418e-05,  2.38485609e-05,  9.02442625e-05, -6.29266242e-06,\n",
       "         3.08423839e-03, -2.88404012e-03,  5.20777237e-03,  1.24377832e-02,\n",
       "        -5.56477867e-02, -4.30083275e-02, -3.64905745e-02, -2.00667121e-02,\n",
       "         4.52364162e-02,  7.40003493e-03,  2.22748611e-02, -6.39236486e-03,\n",
       "         4.63686883e-02,  1.01012485e-02, -4.73055914e-02,  7.94808939e-03,\n",
       "        -6.52794307e-03,  3.97712439e-02, -4.35125232e-02,  8.67316127e-02,\n",
       "         5.86780161e-02,  3.05945575e-02, -1.09859388e-02,  1.38497241e-02,\n",
       "        -4.63582240e-02, -2.24490631e-02,  2.68455576e-02,  2.36128224e-03,\n",
       "         1.51402242e-02,  9.31797363e-03, -3.94738391e-02, -8.46281927e-03,\n",
       "         9.54235531e-03,  2.62204967e-02,  4.84943716e-03,  2.04749964e-02,\n",
       "         3.03545818e-02,  4.15252857e-02,  1.56341284e-03,  6.42248094e-02,\n",
       "        -2.34692860e-02,  9.88675654e-03,  7.88320694e-03,  1.44297332e-02,\n",
       "         1.02538727e-02, -1.37357032e-02,  3.04390173e-02,  6.83699269e-03,\n",
       "         3.35759670e-02,  1.90593340e-02, -8.57621140e-04,  3.25300246e-02,\n",
       "         2.79498715e-02,  1.21848076e-03,  4.27568033e-02, -3.34075838e-02,\n",
       "         6.62891194e-04,  1.72090693e-03, -2.63916142e-02,  3.01261228e-02,\n",
       "        -3.97132430e-03,  4.26901504e-02, -9.57691204e-03,  6.71537779e-03,\n",
       "         2.44978052e-02,  2.19433308e-02, -4.48325276e-02,  3.02697271e-02,\n",
       "         1.33833904e-02, -5.55214360e-02, -3.02692614e-02,  1.40918139e-02,\n",
       "         8.43679346e-03,  5.06084152e-02, -2.33924147e-02,  6.00585192e-02,\n",
       "         2.34214067e-02,  1.67557504e-02,  7.17563508e-03,  2.19934098e-02,\n",
       "         1.06122531e-02,  2.36878805e-02, -1.21854451e-02,  2.90693231e-02,\n",
       "         6.66534714e-03,  4.50121388e-02, -3.61684933e-02,  8.36484786e-03,\n",
       "         5.72595634e-02,  2.53855716e-02, -4.70071062e-02, -3.23029794e-02,\n",
       "         2.60314662e-02,  5.05215898e-02, -9.75605473e-03, -1.27616515e-02,\n",
       "         3.41400243e-02,  1.68179814e-03, -2.96347286e-03, -1.24818385e-02,\n",
       "        -3.06110159e-02,  2.25872081e-02, -1.39066437e-02,  3.75563204e-02,\n",
       "         1.46239176e-02, -3.47576924e-02,  2.37391889e-02,  1.44326631e-02,\n",
       "         1.56389014e-03, -1.15467645e-02, -2.35945024e-02,  5.88965416e-02,\n",
       "        -4.01030155e-03, -4.62134629e-02, -4.74757478e-02, -1.39962640e-02,\n",
       "        -2.97593847e-02, -5.26927877e-03, -5.49156219e-02,  1.74538605e-02,\n",
       "        -2.61697769e-02,  1.34336436e-02,  3.53157986e-03, -3.31032649e-02,\n",
       "         2.45344173e-03, -3.87540981e-02,  4.30738181e-02,  1.29022934e-02,\n",
       "        -1.86442776e-06,  1.13905817e-05,  1.53034198e-05,  1.93030864e-05,\n",
       "        -4.98618920e-06, -2.51237398e-05, -1.27206349e-05,  1.23152959e-05,\n",
       "        -3.18694802e-05, -1.49278421e-05, -4.70641280e-05, -1.08652894e-05,\n",
       "         1.24305196e-04,  4.72989086e-06, -1.25916966e-04,  9.85056249e-06,\n",
       "        -1.90758474e-05,  5.59573491e-05,  6.06099820e-06,  1.05983912e-04,\n",
       "         1.54336012e-05,  2.75561379e-05, -3.93746632e-07, -4.23287202e-05,\n",
       "        -9.66486641e-06,  4.67562586e-06, -3.68183792e-05,  1.03173079e-07,\n",
       "         1.85545505e-05, -3.28325768e-07, -3.46388697e-05, -5.27017346e-06,\n",
       "        -2.47381777e-05, -6.63444916e-06,  4.04141210e-05, -4.30967375e-05,\n",
       "        -2.70616947e-05, -4.27588311e-05, -4.75322167e-07, -3.60583726e-07,\n",
       "        -3.95199604e-05,  6.87077772e-06,  2.99322892e-06, -2.88932515e-05,\n",
       "         5.09661550e-06,  5.97949838e-06,  7.98437122e-06,  1.44371215e-05,\n",
       "        -3.70069502e-05, -2.84896287e-05,  1.16156070e-05,  1.72264845e-05,\n",
       "        -3.83093720e-06,  2.22626113e-08,  3.13901764e-05,  4.54598103e-06,\n",
       "         2.89577565e-06, -9.66423431e-06, -2.07684684e-06, -4.60745978e-05,\n",
       "        -9.29697035e-06, -6.94289774e-05, -2.80251570e-05,  8.35852734e-06,\n",
       "        -1.63748064e-05, -2.30083315e-05, -5.78302279e-05, -5.56042432e-05,\n",
       "         3.41515843e-05, -1.37062489e-06,  5.09295205e-05,  6.20041319e-05,\n",
       "        -2.63283946e-05, -4.13801317e-05,  5.49273936e-05,  1.86134450e-04,\n",
       "         2.53801118e-05, -5.19353671e-05, -1.94159747e-05,  3.97414551e-05,\n",
       "        -8.88959912e-05, -1.41113596e-05, -2.12733630e-05,  4.90219536e-05,\n",
       "        -3.81565478e-05,  4.46537160e-05, -3.25504407e-05,  2.41569414e-05,\n",
       "         2.51595920e-05, -5.26559888e-05,  1.23318678e-05, -2.80777749e-06,\n",
       "        -4.26108345e-05, -9.38501325e-05, -2.85299866e-05, -3.19924493e-06,\n",
       "        -2.39772198e-05, -3.73492912e-06, -9.63549883e-06, -1.26272234e-05,\n",
       "         4.72984029e-05,  4.54675428e-05, -4.91472201e-05,  4.88055121e-05,\n",
       "         3.36882149e-05,  6.55526019e-05,  2.30583191e-05,  3.70247435e-05,\n",
       "         3.07102200e-05, -3.32067648e-05, -4.60066258e-06, -1.35304563e-05,\n",
       "         1.76569829e-05,  2.57964875e-05,  3.17273152e-05,  1.01267424e-05,\n",
       "         2.91666402e-05,  6.58690260e-06, -1.87172882e-05,  3.83387851e-06,\n",
       "         5.52367601e-05, -3.51388371e-06, -1.15044077e-05, -9.78554381e-05,\n",
       "         5.68683899e-05,  1.96419605e-05,  7.80880364e-05, -9.51519360e-06],\n",
       "       dtype=float32)>,\n",
       " <tf.Tensor: shape=(128, 10000), dtype=float32, numpy=\n",
       " array([[-1.0834559e-03, -7.8534259e-04, -2.0489292e-03, ...,\n",
       "          3.1357195e-06,  3.1363886e-06,  3.1366890e-06],\n",
       "        [ 2.1538306e-04, -6.9880916e-05,  1.3713603e-04, ...,\n",
       "         -1.9403080e-06, -1.9378081e-06, -1.9374738e-06],\n",
       "        [-7.4059796e-04, -5.3520611e-04, -2.0515365e-03, ...,\n",
       "          1.8893422e-06,  1.8899615e-06,  1.8902650e-06],\n",
       "        ...,\n",
       "        [-3.7139567e-04,  8.5214223e-04,  5.5870274e-04, ...,\n",
       "         -8.0982812e-07, -8.1291978e-07, -8.1220861e-07],\n",
       "        [-3.8801865e-03, -4.4105025e-03, -4.3408168e-03, ...,\n",
       "          7.4806476e-06,  7.4749528e-06,  7.4773839e-06],\n",
       "        [ 2.2042864e-03,  2.0639908e-03,  2.8018258e-03, ...,\n",
       "         -3.6552428e-06, -3.6534684e-06, -3.6563017e-06]], dtype=float32)>,\n",
       " <tf.Tensor: shape=(10000,), dtype=float32, numpy=\n",
       " array([-0.797998  , -1.0313317 , -1.0313317 , ...,  0.00200022,\n",
       "         0.00199978,  0.00200008], dtype=float32)>]"
      ]
     },
     "execution_count": 47,
     "metadata": {},
     "output_type": "execute_result"
    }
   ],
   "source": [
    "# Define the gradient clipping threshold\n",
    "grads, _ = tf.clip_by_global_norm(grad_t_list, max_grad_norm)\n",
    "grads"
   ]
  },
  {
   "cell_type": "markdown",
   "metadata": {},
   "source": [
    "<h4> 4.Apply the optimizer to the variables/gradients tuple. </h4>\n"
   ]
  },
  {
   "cell_type": "code",
   "execution_count": 48,
   "metadata": {
    "tags": []
   },
   "outputs": [],
   "source": [
    "# Create the training TensorFlow Operation through our optimizer\n",
    "train_op = optimizer.apply_gradients(zip(grads, tvars))"
   ]
  },
  {
   "cell_type": "markdown",
   "metadata": {},
   "source": [
    "<a id=\"ltsm\"></a>\n",
    "<h2>LSTM</h2>\n"
   ]
  },
  {
   "cell_type": "markdown",
   "metadata": {},
   "source": [
    "We learned how the model is build step by step. Noe, let's then create a Class that represents our model. This class needs a few things:\n",
    "<ul>\n",
    "    <li>We have to create the model in accordance with our defined hyperparameters</li>\n",
    "    <li>We have to create the LSTM cell structure and connect them with our RNN structure</li>\n",
    "    <li>We have to create the word embeddings and point them to the input data</li>\n",
    "    <li>We have to create the input structure for our RNN</li>\n",
    "    <li>We need to create a logistic structure to return the probability of our words</li>\n",
    "    <li>We need to create the loss and cost functions for our optimizer to work, and then create the optimizer</li>\n",
    "    <li>And finally, we need to create a training operation that can be run to actually train our model</li>\n",
    "</ul>\n"
   ]
  },
  {
   "cell_type": "code",
   "execution_count": 49,
   "metadata": {
    "tags": []
   },
   "outputs": [],
   "source": [
    "class PTBModel(object):\n",
    "\n",
    "\n",
    "    def __init__(self):\n",
    "        ######################################\n",
    "        # Setting parameters for ease of use #\n",
    "        ######################################\n",
    "        self.batch_size = batch_size\n",
    "        self.num_steps = num_steps\n",
    "        self.hidden_size_l1 = hidden_size_l1\n",
    "        self.hidden_size_l2 = hidden_size_l2\n",
    "        self.vocab_size = vocab_size\n",
    "        self.embeding_vector_size = embeding_vector_size\n",
    "        # Create a variable for the learning rate\n",
    "        self._lr = 1.0\n",
    "        \n",
    "        ###############################################################################\n",
    "        # Initializing the model using keras Sequential API  #\n",
    "        ###############################################################################\n",
    "        \n",
    "        self._model = tf.keras.models.Sequential()\n",
    "        \n",
    "        ####################################################################\n",
    "        # Creating the word embeddings layer and adding it to the sequence #\n",
    "        ####################################################################\n",
    "        with tf.device(\"/cpu:0\"):\n",
    "            # Create the embeddings for our input data. Size is hidden size.\n",
    "            self._embedding_layer = tf.keras.layers.Embedding(self.vocab_size, self.embeding_vector_size,batch_input_shape=(self.batch_size, self.num_steps),trainable=True,name=\"embedding_vocab\")  #[10000x200]\n",
    "            self._model.add(self._embedding_layer)\n",
    "            \n",
    "\n",
    "        ##########################################################################\n",
    "        # Creating the LSTM cell structure and connect it with the RNN structure #\n",
    "        ##########################################################################\n",
    "        # Create the LSTM Cells. \n",
    "        # This creates only the structure for the LSTM and has to be associated with a RNN unit still.\n",
    "        # The argument  of LSTMCell is size of hidden layer, that is, the number of hidden units of the LSTM (inside A). \n",
    "        # LSTM cell processes one word at a time and computes probabilities of the possible continuations of the sentence.\n",
    "        lstm_cell_l1 = tf.keras.layers.LSTMCell(hidden_size_l1)\n",
    "        lstm_cell_l2 = tf.keras.layers.LSTMCell(hidden_size_l2)\n",
    "        \n",
    "\n",
    "        \n",
    "        # By taking in the LSTM cells as parameters, the StackedRNNCells function junctions the LSTM units to the RNN units.\n",
    "        # RNN cell composed sequentially of stacked simple cells.\n",
    "        stacked_lstm = tf.keras.layers.StackedRNNCells([lstm_cell_l1, lstm_cell_l2])\n",
    "\n",
    "\n",
    "        \n",
    "\n",
    "        ############################################\n",
    "        # Creating the input structure for our RNN #\n",
    "        ############################################\n",
    "        # Input structure is 20x[30x200]\n",
    "        # Considering each word is represended by a 200 dimentional vector, and we have 30 batchs, we create 30 word-vectors of size [30xx2000]\n",
    "        # The input structure is fed from the embeddings, which are filled in by the input data\n",
    "        # Feeding a batch of b sentences to a RNN:\n",
    "        # In step 1,  first word of each of the b sentences (in a batch) is input in parallel.  \n",
    "        # In step 2,  second word of each of the b sentences is input in parallel. \n",
    "        # The parallelism is only for efficiency.  \n",
    "        # Each sentence in a batch is handled in parallel, but the network sees one word of a sentence at a time and does the computations accordingly. \n",
    "        # All the computations involving the words of all sentences in a batch at a given time step are done in parallel. \n",
    "\n",
    "        ########################################################################################################\n",
    "        # Instantiating our RNN model and setting stateful to True to feed forward the state to the next layer #\n",
    "        ########################################################################################################\n",
    "        \n",
    "        self._RNNlayer  =  tf.keras.layers.RNN(stacked_lstm,[batch_size, num_steps],return_state=False,stateful=True,trainable=True)\n",
    "        \n",
    "        # Define the initial state, i.e., the model state for the very first data point\n",
    "        # It initialize the state of the LSTM memory. The memory state of the network is initialized with a vector of zeros and gets updated after reading each word.\n",
    "        self._initial_state = tf.Variable(tf.zeros([batch_size,embeding_vector_size]),trainable=False)\n",
    "        self._RNNlayer.inital_state = self._initial_state\n",
    "    \n",
    "        ############################################\n",
    "        # Adding RNN layer to keras sequential API #\n",
    "        ############################################        \n",
    "        self._model.add(self._RNNlayer)\n",
    "        \n",
    "        #self._model.add(tf.keras.layers.LSTM(hidden_size_l1,return_sequences=True,stateful=True))\n",
    "        #self._model.add(tf.keras.layers.LSTM(hidden_size_l2,return_sequences=True))\n",
    "        \n",
    "        \n",
    "        ####################################################################################################\n",
    "        # Instantiating a Dense layer that connects the output to the vocab_size  and adding layer to model#\n",
    "        ####################################################################################################\n",
    "        self._dense = tf.keras.layers.Dense(self.vocab_size)\n",
    "        self._model.add(self._dense)\n",
    " \n",
    "        \n",
    "        ####################################################################################################\n",
    "        # Adding softmax activation layer and deriving probability to each class and adding layer to model #\n",
    "        ####################################################################################################\n",
    "        self._activation = tf.keras.layers.Activation('softmax')\n",
    "        self._model.add(self._activation)\n",
    "\n",
    "        ##########################################################\n",
    "        # Instantiating the stochastic gradient decent optimizer #\n",
    "        ########################################################## \n",
    "        self._optimizer = tf.keras.optimizers.SGD(lr=self._lr, clipnorm=max_grad_norm)\n",
    "        \n",
    "        \n",
    "        ##############################################################################\n",
    "        # Compiling and summarizing the model stacked using the keras sequential API #\n",
    "        ##############################################################################\n",
    "        self._model.compile(loss=self.crossentropy, optimizer=self._optimizer)\n",
    "        self._model.summary()\n",
    "\n",
    "\n",
    "    def crossentropy(self,y_true, y_pred):\n",
    "        return tf.keras.losses.sparse_categorical_crossentropy(y_true, y_pred)\n",
    "\n",
    "    def train_batch(self,_input_data,_targets):\n",
    "        #################################################\n",
    "        # Creating the Training Operation for our Model #\n",
    "        #################################################\n",
    "        # Create a variable for the learning rate\n",
    "        self._lr = tf.Variable(0.0, trainable=False)\n",
    "        # Get all TensorFlow variables marked as \"trainable\" (i.e. all of them except _lr, which we just created)\n",
    "        tvars = self._model.trainable_variables\n",
    "        # Define the gradient clipping threshold\n",
    "        with tf.GradientTape() as tape:\n",
    "            # Forward pass.\n",
    "            output_words_prob = self._model(_input_data)\n",
    "            # Loss value for this batch.\n",
    "            loss  = self.crossentropy(_targets, output_words_prob)\n",
    "            # average across batch and reduce sum\n",
    "            cost = tf.reduce_sum(loss/ self.batch_size)\n",
    "        # Get gradients of loss wrt the trainable variables.\n",
    "        grad_t_list = tape.gradient(cost, tvars)\n",
    "        # Define the gradient clipping threshold\n",
    "        grads, _ = tf.clip_by_global_norm(grad_t_list, max_grad_norm)\n",
    "        # Create the training TensorFlow Operation through our optimizer\n",
    "        train_op = self._optimizer.apply_gradients(zip(grads, tvars))\n",
    "        return cost\n",
    "        \n",
    "    def test_batch(self,_input_data,_targets):\n",
    "        #################################################\n",
    "        # Creating the Testing Operation for our Model #\n",
    "        #################################################\n",
    "        output_words_prob = self._model(_input_data)\n",
    "        loss  = self.crossentropy(_targets, output_words_prob)\n",
    "        # average across batch and reduce sum\n",
    "        cost = tf.reduce_sum(loss/ self.batch_size)\n",
    "\n",
    "        return cost\n",
    "    @classmethod\n",
    "    def instance(cls) : \n",
    "        return PTBModel()"
   ]
  },
  {
   "cell_type": "markdown",
   "metadata": {},
   "source": [
    "With that, the actual structure of our Recurrent Neural Network with Long Short-Term Memory is finished. What remains for us to do is to actually create the methods to run through time -- that is, the <code>run_epoch</code> method to be run at each epoch and a <code>main</code> script which ties all of this together.\n",
    "\n",
    "What our <code>run_epoch</code> method should do is take our input data and feed it to the relevant operations. This will return at the very least the current result for the cost function.\n"
   ]
  },
  {
   "cell_type": "code",
   "execution_count": 50,
   "metadata": {
    "tags": []
   },
   "outputs": [],
   "source": [
    "\n",
    "########################################################################################################################\n",
    "# run_one_epoch takes as parameters  the model instance, the data to be fed, training or testing mode and verbose info #\n",
    "########################################################################################################################\n",
    "def run_one_epoch(m, data,is_training=True,verbose=False):\n",
    "\n",
    "    #Define the epoch size based on the length of the data, batch size and the number of steps\n",
    "    epoch_size = ((len(data) // m.batch_size) - 1) // m.num_steps\n",
    "    start_time = time.time()\n",
    "    costs = 0.\n",
    "    iters = 0\n",
    "    \n",
    "    m._model.reset_states()\n",
    "    \n",
    "    #For each step and data point\n",
    "    for step, (x, y) in enumerate(ptb_iterator(data, m.batch_size, m.num_steps)):\n",
    "        \n",
    "        #Evaluate and return cost, state by running cost, final_state and the function passed as parameter\n",
    "        #y = tf.keras.utils.to_categorical(y, num_classes=vocab_size)\n",
    "        if is_training : \n",
    "            loss=  m.train_batch(x, y)\n",
    "        else :\n",
    "            loss = m.test_batch(x, y)\n",
    "                                   \n",
    "\n",
    "        #Add returned cost to costs (which keeps track of the total costs for this epoch)\n",
    "        costs += loss\n",
    "        \n",
    "        #Add number of steps to iteration counter\n",
    "        iters += m.num_steps\n",
    "\n",
    "        if verbose and step % (epoch_size // 10) == 10:\n",
    "            print(\"Itr %d of %d, perplexity: %.3f speed: %.0f wps\" % (step , epoch_size, np.exp(costs / iters), iters * m.batch_size / (time.time() - start_time)))\n",
    "        \n",
    "\n",
    "\n",
    "    # Returns the Perplexity rating for us to keep track of how the model is evolving\n",
    "    return np.exp(costs / iters)\n"
   ]
  },
  {
   "cell_type": "markdown",
   "metadata": {},
   "source": [
    "Now, we create the <code>main</code> method to tie everything together. The code here reads the data from the directory, using the <code>reader</code> helper module, and then trains and evaluates the model on both a testing and a validating subset of data.\n"
   ]
  },
  {
   "cell_type": "code",
   "execution_count": 51,
   "metadata": {
    "tags": []
   },
   "outputs": [],
   "source": [
    "# Reads the data and separates it into training data, validation data and testing data\n",
    "raw_data = ptb_raw_data(data_dir)\n",
    "train_data, valid_data, test_data, _, _ = raw_data"
   ]
  },
  {
   "cell_type": "code",
   "execution_count": null,
   "metadata": {
    "tags": []
   },
   "outputs": [
    {
     "name": "stdout",
     "output_type": "stream",
     "text": [
      "Model: \"sequential_1\"\n",
      "_________________________________________________________________\n",
      " Layer (type)                Output Shape              Param #   \n",
      "=================================================================\n",
      " embedding_vocab (Embedding)  (30, 20, 200)            2000000   \n",
      "                                                                 \n",
      " rnn_1 (RNN)                 (30, 20, 128)             671088    \n",
      "                                                                 \n",
      " dense_1 (Dense)             (30, 20, 10000)           1290000   \n",
      "                                                                 \n",
      " activation_1 (Activation)   (30, 20, 10000)           0         \n",
      "                                                                 \n",
      "=================================================================\n",
      "Total params: 3,961,088\n",
      "Trainable params: 3,955,088\n",
      "Non-trainable params: 6,000\n",
      "_________________________________________________________________\n",
      "Epoch 1 : Learning rate: 1.000\n",
      "Itr 10 of 1549, perplexity: 4712.112 speed: 1005 wps\n",
      "Itr 164 of 1549, perplexity: 1103.880 speed: 1068 wps\n",
      "Itr 318 of 1549, perplexity: 855.518 speed: 1073 wps\n",
      "Itr 472 of 1549, perplexity: 708.489 speed: 1067 wps\n",
      "Itr 626 of 1549, perplexity: 603.099 speed: 1071 wps\n",
      "Itr 780 of 1549, perplexity: 535.289 speed: 1027 wps\n",
      "Itr 934 of 1549, perplexity: 482.410 speed: 1030 wps\n",
      "Itr 1088 of 1549, perplexity: 442.209 speed: 1029 wps\n",
      "Itr 1242 of 1549, perplexity: 411.251 speed: 1031 wps\n",
      "Itr 1396 of 1549, perplexity: 382.591 speed: 1036 wps\n",
      "Epoch 1 : Train Perplexity: 359.838\n",
      "Epoch 1 : Valid Perplexity: 212.017\n",
      "Epoch 2 : Learning rate: 1.000\n",
      "Itr 10 of 1549, perplexity: 233.825 speed: 1071 wps\n",
      "Itr 164 of 1549, perplexity: 208.398 speed: 1063 wps\n",
      "Itr 318 of 1549, perplexity: 199.957 speed: 1072 wps\n",
      "Itr 472 of 1549, perplexity: 192.337 speed: 1062 wps\n",
      "Itr 626 of 1549, perplexity: 183.698 speed: 1065 wps\n",
      "Itr 780 of 1549, perplexity: 180.026 speed: 1068 wps\n",
      "Itr 934 of 1549, perplexity: 176.150 speed: 1066 wps\n",
      "Itr 1088 of 1549, perplexity: 172.836 speed: 1065 wps\n",
      "Itr 1242 of 1549, perplexity: 170.471 speed: 1047 wps\n",
      "Itr 1396 of 1549, perplexity: 166.478 speed: 1047 wps\n",
      "Epoch 2 : Train Perplexity: 163.619\n",
      "Epoch 2 : Valid Perplexity: 161.485\n",
      "Epoch 3 : Learning rate: 1.000\n",
      "Itr 10 of 1549, perplexity: 163.644 speed: 968 wps\n",
      "Itr 164 of 1549, perplexity: 146.324 speed: 1004 wps\n",
      "Itr 318 of 1549, perplexity: 142.997 speed: 1024 wps\n",
      "Itr 472 of 1549, perplexity: 138.692 speed: 1023 wps\n",
      "Itr 626 of 1549, perplexity: 133.686 speed: 1032 wps\n",
      "Itr 780 of 1549, perplexity: 132.465 speed: 1034 wps\n",
      "Itr 934 of 1549, perplexity: 130.835 speed: 1034 wps\n",
      "Itr 1088 of 1549, perplexity: 129.402 speed: 1035 wps\n",
      "Itr 1242 of 1549, perplexity: 128.600 speed: 1037 wps\n",
      "Itr 1396 of 1549, perplexity: 126.382 speed: 1037 wps\n",
      "Epoch 3 : Train Perplexity: 125.113\n",
      "Epoch 3 : Valid Perplexity: 146.116\n",
      "Epoch 4 : Learning rate: 1.000\n",
      "Itr 10 of 1549, perplexity: 132.174 speed: 1078 wps\n",
      "Itr 164 of 1549, perplexity: 119.941 speed: 867 wps\n",
      "Itr 318 of 1549, perplexity: 118.119 speed: 953 wps\n",
      "Itr 472 of 1549, perplexity: 114.767 speed: 998 wps\n",
      "Itr 626 of 1549, perplexity: 110.938 speed: 1018 wps\n",
      "Itr 780 of 1549, perplexity: 110.450 speed: 1027 wps\n",
      "Itr 934 of 1549, perplexity: 109.416 speed: 1033 wps\n",
      "Itr 1088 of 1549, perplexity: 108.534 speed: 1038 wps\n",
      "Itr 1242 of 1549, perplexity: 108.208 speed: 1042 wps\n",
      "Itr 1396 of 1549, perplexity: 106.596 speed: 1045 wps\n",
      "Epoch 4 : Train Perplexity: 105.814\n",
      "Epoch 4 : Valid Perplexity: 138.847\n",
      "Epoch 5 : Learning rate: 1.000\n",
      "Itr 10 of 1549, perplexity: 112.928 speed: 1099 wps\n",
      "Itr 164 of 1549, perplexity: 104.049 speed: 1044 wps\n",
      "Itr 318 of 1549, perplexity: 103.120 speed: 1051 wps\n",
      "Itr 472 of 1549, perplexity: 100.308 speed: 1050 wps\n",
      "Itr 626 of 1549, perplexity: 97.168 speed: 1054 wps\n",
      "Itr 780 of 1549, perplexity: 96.944 speed: 1057 wps\n",
      "Itr 934 of 1549, perplexity: 96.240 speed: 1059 wps\n",
      "Itr 1088 of 1549, perplexity: 95.612 speed: 1060 wps\n",
      "Itr 1242 of 1549, perplexity: 95.490 speed: 1060 wps\n",
      "Itr 1396 of 1549, perplexity: 94.199 speed: 1061 wps\n",
      "Epoch 5 : Train Perplexity: 93.675\n",
      "Epoch 5 : Valid Perplexity: 135.510\n",
      "Epoch 6 : Learning rate: 0.500\n",
      "Itr 10 of 1549, perplexity: 101.133 speed: 993 wps\n",
      "Itr 164 of 1549, perplexity: 90.700 speed: 1068 wps\n",
      "Itr 318 of 1549, perplexity: 88.526 speed: 1059 wps\n",
      "Itr 472 of 1549, perplexity: 85.248 speed: 917 wps\n",
      "Itr 626 of 1549, perplexity: 81.671 speed: 947 wps\n",
      "Itr 780 of 1549, perplexity: 80.833 speed: 964 wps\n",
      "Itr 934 of 1549, perplexity: 79.589 speed: 935 wps\n",
      "Itr 1088 of 1549, perplexity: 78.461 speed: 749 wps\n",
      "Itr 1242 of 1549, perplexity: 77.748 speed: 654 wps\n",
      "Itr 1396 of 1549, perplexity: 76.100 speed: 595 wps\n",
      "Epoch 6 : Train Perplexity: 75.124\n",
      "Epoch 6 : Valid Perplexity: 124.682\n",
      "Epoch 7 : Learning rate: 0.250\n",
      "Itr 10 of 1549, perplexity: 84.850 speed: 349 wps\n",
      "Itr 164 of 1549, perplexity: 77.990 speed: 343 wps\n",
      "Itr 318 of 1549, perplexity: 76.333 speed: 343 wps\n",
      "Itr 472 of 1549, perplexity: 73.437 speed: 346 wps\n",
      "Itr 626 of 1549, perplexity: 70.214 speed: 415 wps\n",
      "Itr 780 of 1549, perplexity: 69.386 speed: 471 wps\n",
      "Itr 934 of 1549, perplexity: 68.224 speed: 519 wps\n",
      "Itr 1088 of 1549, perplexity: 67.133 speed: 560 wps\n",
      "Itr 1242 of 1549, perplexity: 66.395 speed: 595 wps\n",
      "Itr 1396 of 1549, perplexity: 64.820 speed: 625 wps\n",
      "Epoch 7 : Train Perplexity: 63.827\n",
      "Epoch 7 : Valid Perplexity: 121.375\n",
      "Epoch 8 : Learning rate: 0.125\n",
      "Itr 10 of 1549, perplexity: 75.914 speed: 1078 wps\n",
      "Itr 164 of 1549, perplexity: 70.692 speed: 1080 wps\n",
      "Itr 318 of 1549, perplexity: 69.363 speed: 1058 wps\n",
      "Itr 472 of 1549, perplexity: 66.733 speed: 1047 wps\n",
      "Itr 626 of 1549, perplexity: 63.789 speed: 883 wps\n",
      "Itr 780 of 1549, perplexity: 63.035 speed: 659 wps\n",
      "Itr 934 of 1549, perplexity: 61.975 speed: 553 wps\n",
      "Itr 1088 of 1549, perplexity: 60.965 speed: 506 wps\n",
      "Itr 1242 of 1549, perplexity: 60.243 speed: 478 wps\n",
      "Itr 1396 of 1549, perplexity: 58.758 speed: 457 wps\n",
      "Epoch 8 : Train Perplexity: 57.799\n",
      "Epoch 8 : Valid Perplexity: 120.560\n",
      "Epoch 9 : Learning rate: 0.062\n",
      "Itr 10 of 1549, perplexity: 71.432 speed: 334 wps\n",
      "Itr 164 of 1549, perplexity: 66.995 speed: 326 wps\n",
      "Itr 318 of 1549, perplexity: 65.796 speed: 384 wps\n",
      "Itr 472 of 1549, perplexity: 63.295 speed: 480 wps\n",
      "Itr 626 of 1549, perplexity: 60.487 speed: 550 wps\n",
      "Itr 780 of 1549, perplexity: 59.767 speed: 602 wps\n",
      "Itr 934 of 1549, perplexity: 58.751 speed: 644 wps\n",
      "Itr 1088 of 1549, perplexity: 57.779 speed: 677 wps\n",
      "Itr 1242 of 1549, perplexity: 57.061 speed: 705 wps\n",
      "Itr 1396 of 1549, perplexity: 55.628 speed: 728 wps\n",
      "Epoch 9 : Train Perplexity: 54.688\n",
      "Epoch 9 : Valid Perplexity: 120.423\n",
      "Epoch 10 : Learning rate: 0.031\n",
      "Itr 10 of 1549, perplexity: 69.169 speed: 984 wps\n",
      "Itr 164 of 1549, perplexity: 65.065 speed: 1004 wps\n",
      "Itr 318 of 1549, perplexity: 63.912 speed: 1007 wps\n",
      "Itr 472 of 1549, perplexity: 61.490 speed: 1013 wps\n",
      "Itr 626 of 1549, perplexity: 58.745 speed: 1015 wps\n",
      "Itr 780 of 1549, perplexity: 58.048 speed: 1013 wps\n",
      "Itr 934 of 1549, perplexity: 57.051 speed: 1015 wps\n",
      "Itr 1088 of 1549, perplexity: 56.098 speed: 1014 wps\n",
      "Itr 1242 of 1549, perplexity: 55.380 speed: 998 wps\n",
      "Itr 1396 of 1549, perplexity: 53.969 speed: 988 wps\n",
      "Epoch 10 : Train Perplexity: 53.039\n",
      "Epoch 10 : Valid Perplexity: 120.388\n",
      "Epoch 11 : Learning rate: 0.016\n",
      "Itr 10 of 1549, perplexity: 67.833 speed: 1044 wps\n",
      "Itr 164 of 1549, perplexity: 64.010 speed: 1025 wps\n",
      "Itr 318 of 1549, perplexity: 62.878 speed: 1018 wps\n",
      "Itr 472 of 1549, perplexity: 60.504 speed: 1016 wps\n",
      "Itr 626 of 1549, perplexity: 57.795 speed: 1017 wps\n",
      "Itr 780 of 1549, perplexity: 57.113 speed: 1012 wps\n",
      "Itr 934 of 1549, perplexity: 56.130 speed: 1012 wps\n",
      "Itr 1088 of 1549, perplexity: 55.186 speed: 1014 wps\n",
      "Itr 1242 of 1549, perplexity: 54.470 speed: 1014 wps\n",
      "Itr 1396 of 1549, perplexity: 53.069 speed: 1015 wps\n",
      "Epoch 11 : Train Perplexity: 52.144\n",
      "Epoch 11 : Valid Perplexity: 120.374\n",
      "Epoch 12 : Learning rate: 0.008\n",
      "Itr 10 of 1549, perplexity: 67.040 speed: 1034 wps\n",
      "Itr 164 of 1549, perplexity: 63.422 speed: 1012 wps\n",
      "Itr 318 of 1549, perplexity: 62.301 speed: 1020 wps\n",
      "Itr 472 of 1549, perplexity: 59.955 speed: 1018 wps\n",
      "Itr 626 of 1549, perplexity: 57.269 speed: 1015 wps\n",
      "Itr 780 of 1549, perplexity: 56.596 speed: 1016 wps\n",
      "Itr 934 of 1549, perplexity: 55.621 speed: 1016 wps\n",
      "Itr 1088 of 1549, perplexity: 54.684 speed: 1016 wps\n",
      "Itr 1242 of 1549, perplexity: 53.969 speed: 1017 wps\n",
      "Itr 1396 of 1549, perplexity: 52.577 speed: 1017 wps\n",
      "Epoch 12 : Train Perplexity: 51.655\n",
      "Epoch 12 : Valid Perplexity: 120.268\n",
      "Epoch 13 : Learning rate: 0.004\n",
      "Itr 10 of 1549, perplexity: 66.582 speed: 1028 wps\n",
      "Itr 164 of 1549, perplexity: 63.099 speed: 1027 wps\n",
      "Itr 318 of 1549, perplexity: 61.992 speed: 1017 wps\n",
      "Itr 472 of 1549, perplexity: 59.661 speed: 1019 wps\n",
      "Itr 626 of 1549, perplexity: 56.985 speed: 1023 wps\n",
      "Itr 780 of 1549, perplexity: 56.315 speed: 1022 wps\n"
     ]
    }
   ],
   "source": [
    "# Instantiates the PTBModel class\n",
    "m=PTBModel.instance()   \n",
    "K = tf.keras.backend \n",
    "for i in range(max_epoch):\n",
    "    # Define the decay for this epoch\n",
    "    lr_decay = decay ** max(i - max_epoch_decay_lr, 0.0)\n",
    "    dcr = learning_rate * lr_decay\n",
    "    m._lr = dcr\n",
    "    K.set_value(m._model.optimizer.learning_rate,m._lr)\n",
    "    print(\"Epoch %d : Learning rate: %.3f\" % (i + 1, m._model.optimizer.learning_rate))\n",
    "    # Run the loop for this epoch in the training mode\n",
    "    train_perplexity = run_one_epoch(m, train_data,is_training=True,verbose=True)\n",
    "    print(\"Epoch %d : Train Perplexity: %.3f\" % (i + 1, train_perplexity))\n",
    "        \n",
    "    # Run the loop for this epoch in the validation mode\n",
    "    valid_perplexity = run_one_epoch(m, valid_data,is_training=False,verbose=False)\n",
    "    print(\"Epoch %d : Valid Perplexity: %.3f\" % (i + 1, valid_perplexity))\n",
    "    \n",
    "# Run the loop in the testing mode to see how effective was our training\n",
    "test_perplexity = run_one_epoch(m, test_data,is_training=False,verbose=False)\n",
    "print(\"Test Perplexity: %.3f\" % test_perplexity)\n",
    "\n"
   ]
  },
  {
   "cell_type": "markdown",
   "metadata": {},
   "source": [
    "As you can see, the model's perplexity rating drops very quickly after a few iterations. As was elaborated before, <b>lower Perplexity means that the model is more certain about its prediction</b>. As such, we can be sure that this model is performing well!\n"
   ]
  },
  {
   "cell_type": "markdown",
   "metadata": {},
   "source": [
    "-------\n"
   ]
  },
  {
   "cell_type": "markdown",
   "metadata": {},
   "source": [
    "This is the end of the <b>Applying Recurrent Neural Networks to Text Processing</b> notebook. Hopefully you now have a better understanding of Recurrent Neural Networks and how to implement one utilizing TensorFlow. Thank you for reading this notebook, and good luck on your studies.\n"
   ]
  },
  {
   "cell_type": "markdown",
   "metadata": {},
   "source": [
    "## Want to learn more?\n",
    "\n",
    "Also, you can use __Watson Studio__ to run these notebooks faster with bigger datasets.__Watson Studio__ is IBM’s leading cloud solution for data scientists, built by data scientists. With Jupyter notebooks, RStudio, Apache Spark and popular libraries pre-packaged in the cloud, __Watson Studio__ enables data scientists to collaborate on their projects without having to install anything. Join the fast-growing community of __Watson Studio__ users today with a free account at [Watson Studio](https://cocl.us/ML0120EN_DSX).This is the end of this lesson. Thank you for reading this notebook, and good luck on your studies.\n"
   ]
  },
  {
   "cell_type": "markdown",
   "metadata": {},
   "source": [
    "### Thanks for completing this lesson!\n",
    "\n",
    "Notebook created by <a href=\"https://br.linkedin.com/in/walter-gomes-de-amorim-junior-624726121\">Walter Gomes de Amorim Junior</a>, <a href = \"https://linkedin.com/in/saeedaghabozorgi\"> Saeed Aghabozorgi </a></h4>\n",
    "\n",
    "\n",
    "Updated to TF 2.X by  <a href=\"https://www.linkedin.com/in/samaya-madhavan\"> Samaya Madhavan </a>\n"
   ]
  },
  {
   "cell_type": "markdown",
   "metadata": {},
   "source": [
    "<hr>\n",
    "\n",
    "Copyright &copy; 2018 [Cognitive Class](https://cocl.us/DX0108EN_CC). This notebook and its source code are released under the terms of the [MIT License](https://bigdatauniversity.com/mit-license/).\n"
   ]
  }
 ],
 "metadata": {
  "kernelspec": {
   "display_name": "Python",
   "language": "python",
   "name": "conda-env-python-py"
  },
  "language_info": {
   "codemirror_mode": {
    "name": "ipython",
    "version": 3
   },
   "file_extension": ".py",
   "mimetype": "text/x-python",
   "name": "python",
   "nbconvert_exporter": "python",
   "pygments_lexer": "ipython3",
   "version": "3.7.12"
  },
  "prev_pub_hash": "dc854cc2a3cd5e8454549d14810f586268aa35a4c1ca674849cd9bf9674931b2"
 },
 "nbformat": 4,
 "nbformat_minor": 4
}
